{
 "cells": [
  {
   "cell_type": "code",
   "execution_count": 28,
   "metadata": {},
   "outputs": [],
   "source": [
    "import plotly.graph_objects as go\n",
    "import pandas as pd\n"
   ]
  },
  {
   "cell_type": "code",
   "execution_count": 71,
   "metadata": {},
   "outputs": [],
   "source": [
    "for template in [\"plotly_dark\"]:\n",
    "    \n",
    "    fig = go.Figure()\n",
    "    \n",
    "    fig.add_trace(go.Sunburst(\n",
    "    labels=[\"Interior Activos 2019\", \"AMBA 2019\", \"CABA 2019\", \"Interior Activos 2020\", \"AMBA 2020\", \"CABA 2020\"],\n",
    "    parents=[\"\", \"\", \"\", \"Interior Activos 2019\", \"AMBA 2019\", \"CABA 2019\"],\n",
    "    values=[435, 58, 46, 394, 52, 35], domain=dict(column=0),maxdepth=2,marker=dict(colorscale='Tealgrn')\n",
    "))\n",
    "    \n",
    "    fig.add_trace(go.Sunburst(\n",
    "    labels=['A.M.B.A.', 'BS AS SIN AMBA', 'C.A.B.A.', 'CORDOBA', 'SANTA FE', \n",
    "            'TUCUMAN','RESTO DEL PAIS', 'CATAMARCA', 'CHACO', 'CHUBUT', \n",
    "            'CORRIENTES', 'ENTRE RIOS','JUJUY', 'LA PAMPA', 'LA RIOJA', \n",
    "            'MENDOZA', 'MISIONES', 'NEUQUEN', 'RIO NEGRO', 'SALTA',\n",
    "            'SAN JUAN', 'SAN LUIS', 'SANTA CRUZ','SANTIAGO DEL ESTERO','TIERRA DEL FUEGO'],\n",
    "    parents=['', '', '', '','',\n",
    "             '','', 'RESTO DEL PAIS', 'RESTO DEL PAIS', 'RESTO DEL PAIS', \n",
    "             'RESTO DEL PAIS', 'RESTO DEL PAIS', 'RESTO DEL PAIS', 'RESTO DEL PAIS', 'RESTO DEL PAIS',\n",
    "             'RESTO DEL PAIS', 'RESTO DEL PAIS', 'RESTO DEL PAIS', 'RESTO DEL PAIS', 'RESTO DEL PAIS', \n",
    "             'RESTO DEL PAIS', 'RESTO DEL PAIS', 'RESTO DEL PAIS','RESTO DEL PAIS','RESTO DEL PAIS'],\n",
    "    values=[561435,812515,147041,296713,289308,\n",
    "            251067,518516,10689,25572,34648,\n",
    "            27224,37466,19095,31341,4153,\n",
    "            88645,9326,103100,35215,16955,\n",
    "            36055,4063,13491,18524,2954],domain=dict(column=1),\n",
    "            marker=dict(colorscale='Tealgrn')))\n",
    "    \n",
    "    \n",
    "\n",
    "    \n",
    "fig.update_layout(grid= dict(columns=2, rows=1), margin=dict(t=10, l=10, r=10, b=10), template=template)\n",
    "\n",
    "fig.write_html('PIES.html', auto_open=True)\n"
   ]
  },
  {
   "cell_type": "code",
   "execution_count": 61,
   "metadata": {},
   "outputs": [],
   "source": [
    "data = pd.read_csv('../datasets/Data-Sunburst.csv')\n"
   ]
  },
  {
   "cell_type": "code",
   "execution_count": 62,
   "metadata": {},
   "outputs": [],
   "source": [
    "data.at[0:6, 'parent']= \"\""
   ]
  },
  {
   "cell_type": "code",
   "execution_count": 68,
   "metadata": {},
   "outputs": [
    {
     "data": {
      "text/plain": [
       "<pandas.core.strings.StringMethods at 0x120d0bfd0>"
      ]
     },
     "execution_count": 68,
     "metadata": {},
     "output_type": "execute_result"
    }
   ],
   "source": [
    "data['label'].str\n",
    "data['parent'].str"
   ]
  },
  {
   "cell_type": "code",
   "execution_count": 67,
   "metadata": {},
   "outputs": [
    {
     "data": {
      "text/plain": [
       "0                  A.M.B.A.\n",
       "1     BUENOS AIRES SIN AMBA\n",
       "2                  C.A.B.A.\n",
       "3                   CORDOBA\n",
       "4                  SANTA FE\n",
       "5                   TUCUMAN\n",
       "6            RESTO DEL PAIS\n",
       "7                 CATAMARCA\n",
       "8                     CHACO\n",
       "9                    CHUBUT\n",
       "10               CORRIENTES\n",
       "11               ENTRE RÍOS\n",
       "12                    JUJUY\n",
       "13                 LA PAMPA\n",
       "14                 LA RIOJA\n",
       "15                  MENDOZA\n",
       "16                 MISIONES\n",
       "17                  NEUQUÉN\n",
       "18                RÍO NEGRO\n",
       "19                    SALTA\n",
       "20                 SAN JUAN\n",
       "21                 SAN LUIS\n",
       "22               SANTA CRUZ\n",
       "23      SANTIAGO DEL ESTERO\n",
       "24         TIERRA DEL FUEGO\n",
       "Name: label, dtype: object"
      ]
     },
     "execution_count": 67,
     "metadata": {},
     "output_type": "execute_result"
    }
   ],
   "source": [
    "data.label"
   ]
  },
  {
   "cell_type": "code",
   "execution_count": 69,
   "metadata": {},
   "outputs": [],
   "source": [
    "fig = go.Figure()\n",
    "\n",
    "fig.add_trace(go.Sunburst(\n",
    "    ids=data.ids,\n",
    "    labels=data.label,\n",
    "    parents=data.parent,\n",
    "    domain=dict(column=0)\n",
    "))\n",
    "\n",
    "fig.write_html('first_figure.html', auto_open=True)"
   ]
  },
  {
   "cell_type": "code",
   "execution_count": null,
   "metadata": {},
   "outputs": [],
   "source": []
  }
 ],
 "metadata": {
  "kernelspec": {
   "display_name": "Python 3",
   "language": "python",
   "name": "python3"
  },
  "language_info": {
   "codemirror_mode": {
    "name": "ipython",
    "version": 3
   },
   "file_extension": ".py",
   "mimetype": "text/x-python",
   "name": "python",
   "nbconvert_exporter": "python",
   "pygments_lexer": "ipython3",
   "version": "3.8.5"
  }
 },
 "nbformat": 4,
 "nbformat_minor": 4
}
