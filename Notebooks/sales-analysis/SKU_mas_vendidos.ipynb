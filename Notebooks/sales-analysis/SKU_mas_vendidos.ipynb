{
 "cells": [
  {
   "cell_type": "code",
   "execution_count": 1,
   "metadata": {},
   "outputs": [],
   "source": [
    "import numpy as np\n",
    "import pandas as pd\n",
    "import matplotlib.pylab as plt\n",
    "import seaborn as sns\n",
    "import plotly.graph_objects as go\n",
    "import plotly.express as px\n",
    "import math\n",
    "%matplotlib inline"
   ]
  },
  {
   "cell_type": "code",
   "execution_count": 2,
   "metadata": {},
   "outputs": [],
   "source": [
    "df_p = pd.read_csv('../datasets/mas-vendidos-Provincia.csv')"
   ]
  },
  {
   "cell_type": "raw",
   "metadata": {},
   "source": [
    "print(df_p.shape)\n",
    "df_p.head(3)"
   ]
  },
  {
   "cell_type": "raw",
   "metadata": {},
   "source": [
    "print(df_e.shape)\n",
    "df_e.head(3)"
   ]
  },
  {
   "cell_type": "markdown",
   "metadata": {},
   "source": [
    "**PROVINCIA**"
   ]
  },
  {
   "cell_type": "raw",
   "metadata": {},
   "source": [
    "df_p.columns"
   ]
  },
  {
   "cell_type": "raw",
   "metadata": {},
   "source": [
    "print('cantidad de valores: %i\\n' % len(df_p))"
   ]
  },
  {
   "cell_type": "raw",
   "metadata": {},
   "source": [
    "productos = list(df_p[\"PRODUTO\"].unique())\n",
    "print('tipos de productos: %s\\n' % productos)"
   ]
  },
  {
   "cell_type": "code",
   "execution_count": 3,
   "metadata": {},
   "outputs": [],
   "source": [
    "# UNISEX\n",
    "\n",
    "filtro_uni = ['MOCHILA FILA NINETEEN ELEVEN UNISEX','PELOTA MINI NEO TRAINER AW','TRIPACK CLASS INVISIBLE',\n",
    "              'MEDIA ATLETICA 1/2 CANA DIAMANTES', 'SOQUETE UMBRO PACK X 3', 'MEDIAS DE FUTBOL TEAMWEAR',\n",
    "              'PELOTA NEO TRAINER C.A.T.'\n",
    "             ]\n",
    "uni_2019 = df_p[df_p.PRODUTO.isin(filtro_uni)]\n",
    "\n",
    "#NINIES\n",
    "\n",
    "filtro_ninies =  ['ZAPATILLA FILA EURO JOGGER SPORT KIDS', 'BOTIN SINTETICO UMBRO DRAKO JR',\n",
    "                  'ZAPATILLA FILA CLASSIC 92 KIDS', 'ZAPATILLA FILA LUGANO 5.0 KIDS',\n",
    "                  'ZAPATILLA FILA LUGANO 5.0 VLC BABY', \n",
    "                  'ZAPATILLA FILA FIT TECH INFANTIL', 'ZAPATILLA FILA ELEVATE KIDS', \n",
    "                  'ZAPATILLA FILA OVERPASS TECH KIDS', 'ZAPATILLA FILA VOLT KIDS', 'ZAPATILLA FILA ILLUSION KIDS',\n",
    "                  'ZAPATILLA FILA SLANT SUMMER KIDS', 'BOTIN SINTETICO UMBRO VELOX JR',\n",
    "                  'ZAPATILLA FILA CLASSIC 92 BABY', 'ZAPATILLA FILA SPIRIT KIDS', 'ZAPATILLA FILA BLAZE KIDS',\n",
    "                  'BOTIN SINTETICO UMBRO ATTAK II JR', 'BOTIN SINTETICO UMBRO SPEED SONIC JUNIOR',\n",
    "                  'BOTIN SINTETICO UMBRO FIFTY II JR', 'MEDIAS DE FUTBOL TEAMWEAR KIDS'\n",
    "                 ]\n",
    "\n",
    "ninies_2019 = df_p[df_p.PRODUTO.isin(filtro_ninies)]\n",
    "\n",
    "#HOMBRES\n",
    "\n",
    "filtro_hombres = [\n",
    "                  'ZAPATILLA FILA EURO JOGGER SPORT HOMBRE','OJOTA UMBRO LOCKER HOMBRE', \n",
    "    'OJOTA FILA DRIFTER BASIC HOMBRE', 'ZAPATILLA FILA F-RETRO SPORT 2.0 HOMBRE', \n",
    "    'ZAPATILLA FILA ETERNITY HOMBRE', 'ZAPATILLA FILA TWISTING 2.0 HOMBRE', \n",
    "     'BOTIN CAMPO UMBRO ATTAK II HOMBRE', 'ZAPATILLA FILA TREND HOMBRE', \n",
    "    'OJOTA FILA LOUNGE HOMBRE', 'ZAPATILLA FILA VERSATILE HOMBRE', 'ZAPATILLA FILA LUGANO 5.0 HOMBRE',\n",
    "    'ZAPATILLA FILA SLANT FORCE HOMBRE', 'ZAPATILLA FILA FR LIGHT ENERGIZED HOMBRE', 'ZAPATILLA FILA SPIRIT 2.0 HOMBRE', \n",
    "    'ZAPATILLA FILA CRONOS HOMBRE', 'BOTIN SINTETICO UMBRO DRAKO HOMBRE', 'ZAPATILLA FILA MOJAVE HOMBRE', \n",
    "    'BOTIN SINTETICO UMBRO ATTAK II HOMBRE', 'BOTIN SINTETICO UMBRO VELOX HOMBRE', 'ZAPATILLA FILA FR LUMIX HOMBRE', \n",
    "    ]\n",
    "\n",
    "hom_2019 = df_p[df_p.PRODUTO.isin(filtro_hombres)]\n",
    "\n",
    "filtro_hombres_ind = [\n",
    "    'CAMISETA OF.1 19 N.O.B. HOMBRE', 'CAMISETA OF.2 19 N.O.B. HOMBRE', 'CAMISETA OF.1 2019 C.A.T HOMBRE', \n",
    "    'CAMISETA OF.2 2019 C.A.T. HOMBRE', 'REMERA SALIDA M/C 19/20 C.A.T. HOMBRE','PANTALON PLANO TRAINING AW HOMBRE'\n",
    "    ]\n",
    "\n",
    "homb_ind_2019 = df_p[df_p.PRODUTO.isin(filtro_hombres_ind)]\n",
    "\n",
    "\n",
    "#MUJERES\n",
    "\n",
    "filtro_mujer = ['ZAPATILLA FILA DISRUPTOR II PREMIUM MUJER','ZAPATILLA FILA EURO JOGGER SPORT MUJER'\n",
    "                ,'ZAPATILLA FILA SLIDE MUJER','ZAPATILLA FILA SWEET MUJER','ZAPATILLA FILA LADY MUJER', \n",
    "                'ZAPATILLA FILA EURO JOGGER WEDGE MUJER','OJOTA FILA DRIFTER BASIC MUJER','ZAPATILLA FILA ETERNITY MUJER',\n",
    "                'ZAPATILLA FILA F-RETRO SPORT 2.0 MUJER','ZAPATILLA FILA ESSENTIAL MUJER','ZAPATILLA FILA FABULOUS MUJER',\n",
    "                'OJOTA FILA LOUNGE MUJER','ZAPATILLA FILA LUGANO 5.0 MUJER', 'ZAPATILLA FILA FINDER MUJER',\n",
    "                'ZAPATILLA FILA EURO JOGGER WEDGE SL MUJER','ZAPATILLA FILA TWISTING 2.0 MUJER','ZAPATILLA FILA FR 97 ENERGIZED MUJER'\n",
    "                'ZAPATILLA FILA LIGHTNESS MUJER', 'ZAPATILLA FILA CREEP MUJER']\n",
    "muj_2019 =  df_p[df_p.PRODUTO.isin(filtro_mujer)]\n"
   ]
  },
  {
   "cell_type": "code",
   "execution_count": null,
   "metadata": {},
   "outputs": [],
   "source": [
    "print('cantidad de valores UNISEX: %i\\n' % len(uni_2019))\n",
    "print('cantidad de valores MASCULINO: %i\\n' % len(hom_2019))\n",
    "print('cantidad de valores MASCULINO: %i\\n' % len(homb_ind_2019))\n",
    "print('cantidad de valores JUVENIL: %i\\n' % len(ninies_2019))\n",
    "print('cantidad de valores FEMENINO: %i\\n' % len(muj_2019))\n",
    "print('cantidad de valores dataset original: %i\\n' % len(df_p))"
   ]
  },
  {
   "cell_type": "markdown",
   "metadata": {},
   "source": [
    "**TOTAL**"
   ]
  },
  {
   "cell_type": "code",
   "execution_count": null,
   "metadata": {},
   "outputs": [],
   "source": [
    "print('Total de tipos de productos mujeres:', ninies_2019.size)\n",
    "print('Total de tipos de productos hombres:', hom_2019.size)\n",
    "print('Total de tipos de productos hombres:', homb_ind_2019.size)\n",
    "print('Total de tipos de productos unisex: ', uni_2019.size)\n",
    "print('Total de tipos de productos niños:  ', muj_2019.size)"
   ]
  },
  {
   "cell_type": "raw",
   "metadata": {},
   "source": [
    "muj_2019.head(10)      "
   ]
  },
  {
   "cell_type": "markdown",
   "metadata": {},
   "source": [
    "**GENERO**"
   ]
  },
  {
   "cell_type": "code",
   "execution_count": null,
   "metadata": {},
   "outputs": [],
   "source": [
    "ninies_2019['Genero Y Rango Etario'] = 'Juvenil'\n",
    "hom_2019['Genero Y Rango Etario'] = 'Masculino'\n",
    "homb_ind_2019['Genero Y Rango Etario'] = 'Indum. Masculina'\n",
    "uni_2019['Genero Y Rango Etario'] = 'Accesorios'\n",
    "muj_2019['Genero Y Rango Etario'] = 'Femenino'"
   ]
  },
  {
   "cell_type": "raw",
   "metadata": {},
   "source": [
    "muj_2019.head(10)"
   ]
  },
  {
   "cell_type": "raw",
   "metadata": {},
   "source": [
    "ninies_2019.head(10)"
   ]
  },
  {
   "cell_type": "raw",
   "metadata": {},
   "source": [
    "hom_2019.head(10)"
   ]
  },
  {
   "cell_type": "raw",
   "metadata": {},
   "source": [
    "uni_2019.head(10)"
   ]
  },
  {
   "cell_type": "markdown",
   "metadata": {},
   "source": [
    "**EDAD**"
   ]
  },
  {
   "cell_type": "code",
   "execution_count": null,
   "metadata": {},
   "outputs": [],
   "source": [
    "ninies_2019['Rango Etario'] = 'Juvenil'\n",
    "hom_2019['Rango Etario'] = 'Adulto'\n",
    "homb_ind_2019['Rango Etario'] = 'Adulto'\n",
    "uni_2019['Rango Etario'] = 'Adulto'\n",
    "muj_2019['Rango Etario'] = 'Adulto'"
   ]
  },
  {
   "cell_type": "code",
   "execution_count": null,
   "metadata": {},
   "outputs": [],
   "source": [
    "ninies_2019['ANIO'] = '2019'\n",
    "hom_2019['ANIO'] = '2019'\n",
    "homb_ind_2019['ANIO'] = '2019'\n",
    "uni_2019['ANIO'] = '2019'\n",
    "muj_2019['ANIO'] = '2019'"
   ]
  },
  {
   "cell_type": "raw",
   "metadata": {},
   "source": [
    "muj_2019.head(10)"
   ]
  },
  {
   "cell_type": "raw",
   "metadata": {},
   "source": [
    "ninies_2019.head(10)"
   ]
  },
  {
   "cell_type": "raw",
   "metadata": {},
   "source": [
    "hom_2019.head(10)"
   ]
  },
  {
   "cell_type": "raw",
   "metadata": {},
   "source": [
    "uni_2019.head(10)"
   ]
  },
  {
   "cell_type": "raw",
   "metadata": {},
   "source": [
    "print(ninies_2019['TOTAL_VENTAS'].sum())\n",
    "print(hom_2019['TOTAL_VENTAS'].sum())\n",
    "print(homb_ind_2019['TOTAL_VENTAS'].sum())\n",
    "print(uni_2019['TOTAL_VENTAS'].sum())\n",
    "print(muj_2019['TOTAL_VENTAS'].sum())\n"
   ]
  },
  {
   "cell_type": "raw",
   "metadata": {},
   "source": [
    "muj_2019.head(10)"
   ]
  },
  {
   "cell_type": "code",
   "execution_count": null,
   "metadata": {},
   "outputs": [],
   "source": [
    "df_2019 = pd.concat([uni_2019, ninies_2019,hom_2019,homb_ind_2019, muj_2019], axis=0)\n",
    "df_2019.head(100)"
   ]
  },
  {
   "cell_type": "code",
   "execution_count": 11,
   "metadata": {},
   "outputs": [],
   "source": [
    "#df_2019.to_csv('df2019.csv')"
   ]
  },
  {
   "cell_type": "markdown",
   "metadata": {},
   "source": [
    "**DATASET 2020**"
   ]
  },
  {
   "cell_type": "code",
   "execution_count": 12,
   "metadata": {},
   "outputs": [],
   "source": [
    "df_p_2020 = pd.read_csv('../datasets/mas-vendidos-Provincia.csv')"
   ]
  },
  {
   "cell_type": "code",
   "execution_count": 13,
   "metadata": {},
   "outputs": [],
   "source": [
    "df_p_2020 = df_p_2020.drop(['2019', 'PRODUTO'], axis = 1)"
   ]
  },
  {
   "cell_type": "code",
   "execution_count": 14,
   "metadata": {},
   "outputs": [],
   "source": [
    "df_p_2020 = df_p_2020.rename(columns = {'2020': 'Total Ventas','PRODUTO.1': 'PRODUTO' }, inplace = False)"
   ]
  },
  {
   "cell_type": "raw",
   "metadata": {},
   "source": [
    "df_p_2020.columns"
   ]
  },
  {
   "cell_type": "raw",
   "metadata": {},
   "source": [
    "print('cantidad de valores: %i\\n' % len(df_p_2020))"
   ]
  },
  {
   "cell_type": "raw",
   "metadata": {},
   "source": [
    "df_p_2020.head(10)"
   ]
  },
  {
   "cell_type": "raw",
   "metadata": {},
   "source": [
    "productos = list(df_p_2020[\"PRODUTO.1\"].unique())\n",
    "print('tipos de productos: %s\\n' % productos)"
   ]
  },
  {
   "cell_type": "code",
   "execution_count": 15,
   "metadata": {},
   "outputs": [],
   "source": [
    "# UNISEX\n",
    "\n",
    "filtro_uni = ['MOCHILA FILA NINETEEN ELEVEN UNISEX', 'MOCHILA UNISEX FILA ESSENCE', 'MOCHILA UNISEX FILA DUO COLOR'\n",
    "              'PELOTA NEO TRAINER', 'BOTIN SINTETICO UMBRO INSIGHT', 'SHORTS HOMBRE TWR LETTER',\n",
    "              'TRIPACK SOQUETE  STRIPES FILA','BOTIN SINTETICO UMBRO NEO GEO', 'PELOTA NEO FUTSAL LIGA',\n",
    "              'PELOTA NEO TRAINER MINI', 'MEDIAS DE FUTBOL TEAMWEAR'\n",
    "             ]\n",
    "uni_2020 = df_p_2020[df_p_2020.PRODUTO.isin(filtro_uni)]\n",
    "\n",
    "#NINIES\n",
    "\n",
    "filtro_ninies =  [\n",
    "                    'ZAPATILLA FILA LUGANO 6.0 KIDS', 'ZAPATILLA FILA EURO JOGGER SPORT KIDS',\n",
    "                    'ZAPATILLA FILA LUGANO 6.0 VLC BABY',  'ZAPATILLA FILA ATTREK INFANTIL', 'ZAPATILLA FILA VOLT KIDS', \n",
    "                    'ZAPATILLA FILA CLASSIC 92 BABY', 'REMERA BLOCK KIDS',  'ZAPATILLA FILA LUGANO 6.0 BABY',\n",
    "                    'ZAPATILLA FILA SLANT SUMMER KIDS', 'ZAPATILLA FILA F-RETRO SPORT 2.0 SL KIDS',\n",
    "                    'BOTIN SINTETICO UMBRO SPEED SONIC JUNIOR','MEDIAS DE FUTBOL TEAMWEAR KIDS', 'BOTIN SINTETICO UMBRO VELOX JR',\n",
    "                    'ZAPATILLA FILA CLASSIC 92 KIDS'\n",
    "                 ]\n",
    "\n",
    "ninies_2020 = df_p_2020[df_p_2020.PRODUTO.isin(filtro_ninies)]\n",
    "\n",
    "#HOMBRES\n",
    "\n",
    "filtro_hombres = [\n",
    "                'ZAPATILLA FILA EURO JOGGER SPORT HOMBRE', 'ZAPATILLA FILA DISCOVERY HOMBRE', \n",
    "                'ZAPATILLA FILA SLANT FORCE HOMBRE', 'ZAPATILLA FILA LUGANO 6.0 HOMBRE', 'ZAPATILLA FILA TREND HOMBRE', \n",
    "                'ZAPATILLA FILA THUNDERBOLT HOMBRE', 'ZAPATILLA FILA ZERMAT HOMBRE', 'ZAPATILLA FILA RACER MOVE HOMBRE',\n",
    "                'ZAPATILLA FILA FABULOUS HOMBRE',\n",
    "                'ZAPATILLA FILA BLACK ROCK HOMBRE','ZAPATILLA FILA TRACKER HOMBRE', \n",
    "                'ZAPATILLA FILA CAMBER HOMBRE', 'ZAPATILLA FILA RACER FLUID HOMBRE', \n",
    "                'BOTIN SINTETICO UMBRO VELOX HOMBRE', 'OJOTA FILA DRIFTER BASIC HOMBRE', 'ZAPATILLA FILA LUGANO 5.0 HOMBRE' \n",
    "                  ]\n",
    "\n",
    "hom_2020 = df_p_2020[df_p_2020.PRODUTO.isin(filtro_hombres)]\n",
    "\n",
    "filtro_hombres_ind = ['SHORT TWR BASICO ARGE HOMBRE','CONJUNTO DIJON HOMBRE','CONJUNTO NIZA HOMBRE'] \n",
    "\n",
    "hom_ind_2020 = df_p_2020[df_p_2020.PRODUTO.isin(filtro_hombres_ind)]\n",
    "\n",
    "#MUJERES\n",
    "\n",
    "filtro_mujer = [\n",
    "                 'ZAPATILLA FILA EURO JOGGER SPORT MUJER', 'ZAPATILLA FILA DISRUPTOR II PREMIUM MUJER',\n",
    "                 'ZAPATILLA FILA LADY MUJER', 'ZAPATILLA FILA TREND MUJER', \n",
    "                 'ZAPATILLA FILA LUGANO 6.0 MUJER', 'ZAPATILLA FILA FR LUMIX MUJER', 'ZAPATILLA FILA EURO JOGGER WEDGE SL MUJER',\n",
    "                 'ZAPATILLA FILA D-FORMATION MUJER',  'ZAPATILLA FILA SLIDE MUJER', 'ZAPATILLA FILA SLANT FORCE MUJER', \n",
    "                 'ZAPATILLA FILA RACER MOVE MUJER',  'ZAPATILLA FILA DISCOVERY MUJER', 'ZAPATILLA FILA CAMBER MUJER',\n",
    "                 'ZAPATILLA FILA V.TRACK MUJER','ZAPATILLA FILA QUARK MUJER',   'ZAPATILLA FILA LUGANO 5.0 MUJER', \n",
    "                'ZAPATILLA FILA ZERMAT MUJER'\n",
    "                ]\n",
    "muj_2020 =  df_p_2020[df_p_2020.PRODUTO.isin(filtro_mujer)]\n"
   ]
  },
  {
   "cell_type": "raw",
   "metadata": {},
   "source": [
    "muj_2020.head(10)"
   ]
  },
  {
   "cell_type": "raw",
   "metadata": {},
   "source": [
    "print('cantidad de valores UNISEX: %i\\n' % len(uni_2020))\n",
    "print('cantidad de valores MASCULINO: %i\\n' % len(hom_2020))\n",
    "print('cantidad de valores MASCULINO: %i\\n' % len(hom_ind_2020))\n",
    "print('cantidad de valores JUVENIL: %i\\n' % len(ninies_2020))\n",
    "print('cantidad de valores FEMENINO: %i\\n' % len(muj_2020))\n",
    "print('cantidad de valores dataset original: %i\\n' % len(df_p_2020))"
   ]
  },
  {
   "cell_type": "code",
   "execution_count": null,
   "metadata": {},
   "outputs": [],
   "source": [
    "ninies_2020['Genero Y Rango Etario'] = 'Juvenil'\n",
    "hom_2020['Genero Y Rango Etario'] = 'Masculino'\n",
    "hom_ind_2020['Genero Y Rango Etario'] = \"Indum. Masculina\"\n",
    "uni_2020['Genero Y Rango Etario'] = 'Accesorios'\n",
    "muj_2020['Genero Y Rango Etario'] = 'Femenino'"
   ]
  },
  {
   "cell_type": "code",
   "execution_count": null,
   "metadata": {},
   "outputs": [],
   "source": [
    "ninies_2020['Rango Etario'] = 'Juvenil'\n",
    "hom_2020['Rango Etario'] = 'Adulto'\n",
    "hom_ind_2020['Rango Etario'] = 'Adulto'\n",
    "uni_2020['Rango Etario'] = 'Adulto'\n",
    "muj_2020['Rango Etario'] = 'Adulto'"
   ]
  },
  {
   "cell_type": "code",
   "execution_count": null,
   "metadata": {},
   "outputs": [],
   "source": [
    "ninies_2020['ANIO'] = '2020'\n",
    "hom_2020['ANIO'] = '2020'\n",
    "hom_ind_2020['ANIO'] = '2020'\n",
    "uni_2020['ANIO'] = '2020'\n",
    "muj_2020['ANIO'] = '2020'"
   ]
  },
  {
   "cell_type": "code",
   "execution_count": null,
   "metadata": {},
   "outputs": [],
   "source": [
    "df_2020 = pd.concat([uni_2020,ninies_2020, hom_2020,hom_ind_2020,muj_2020], axis=0)\n",
    "df_2020.head(100)"
   ]
  },
  {
   "cell_type": "raw",
   "metadata": {},
   "source": [
    "df_2019.head(100)"
   ]
  },
  {
   "cell_type": "code",
   "execution_count": 20,
   "metadata": {},
   "outputs": [],
   "source": [
    "#df_2019.to_csv('df_2019_.csv')\n",
    "#df_2020.to_csv('df_2020_.csv')"
   ]
  },
  {
   "cell_type": "code",
   "execution_count": 21,
   "metadata": {},
   "outputs": [],
   "source": [
    "c = pd.concat([df_2019,df_2020],ignore_index=True)"
   ]
  },
  {
   "cell_type": "code",
   "execution_count": 22,
   "metadata": {},
   "outputs": [],
   "source": [
    "c.to_csv('sku-mas-vendidos-para-revisar.csv')"
   ]
  },
  {
   "cell_type": "code",
   "execution_count": null,
   "metadata": {},
   "outputs": [],
   "source": [
    "#df_2020.to_csv('SKU_masVendidos_2020.csv')"
   ]
  },
  {
   "cell_type": "code",
   "execution_count": null,
   "metadata": {},
   "outputs": [],
   "source": [
    "#df_2019.to_csv('SKU_masVendidos_2019.csv')"
   ]
  },
  {
   "cell_type": "code",
   "execution_count": null,
   "metadata": {},
   "outputs": [],
   "source": [
    "c.columns"
   ]
  },
  {
   "cell_type": "markdown",
   "metadata": {},
   "source": [
    "**GRÁFICA SCATTER 2019 y 2020 CON ANIMACIÓN**"
   ]
  },
  {
   "cell_type": "code",
   "execution_count": null,
   "metadata": {},
   "outputs": [],
   "source": [
    "import plotly.express as px\n",
    "for template in [ \"plotly_dark\"]:\n",
    "\n",
    "    fig = px.scatter(c, x=\"Genero Y Rango Etario\", y=\"Total Ventas\", animation_frame=\"ANIO\", animation_group=\"PROVINCIA\",\n",
    "           size=\"Total Ventas\", color=\"Genero Y Rango Etario\", hover_name=\"PROVINCIA\",template=template)\n",
    "    \n",
    "    fig.write_html('first_figure.html', auto_open=True)\n",
    "    fig.write_html(\"Genero_RangoEtario_2019_2020.html\")"
   ]
  },
  {
   "cell_type": "code",
   "execution_count": 32,
   "metadata": {},
   "outputs": [],
   "source": [
    "c = c.rename(columns = {'Total Ventas': 'TOTAL_VENTAS'}, inplace = False)"
   ]
  },
  {
   "cell_type": "code",
   "execution_count": null,
   "metadata": {},
   "outputs": [],
   "source": [
    "c.TOTAL_VENTAS.sum()"
   ]
  },
  {
   "cell_type": "code",
   "execution_count": 36,
   "metadata": {},
   "outputs": [],
   "source": [
    "df_2019 = df_2019.rename(columns = {'Total Ventas': 'TOTAL_VENTAS'}, inplace = False)"
   ]
  },
  {
   "cell_type": "code",
   "execution_count": null,
   "metadata": {},
   "outputs": [],
   "source": [
    "df_2019.TOTAL_VENTAS.sum()"
   ]
  },
  {
   "cell_type": "code",
   "execution_count": null,
   "metadata": {},
   "outputs": [],
   "source": [
    "df_2019.sum()"
   ]
  },
  {
   "cell_type": "code",
   "execution_count": null,
   "metadata": {},
   "outputs": [],
   "source": [
    "hom_2020.sum()"
   ]
  },
  {
   "cell_type": "code",
   "execution_count": 30,
   "metadata": {},
   "outputs": [],
   "source": [
    "import plotly.express as px\n",
    "for template in [ \"plotly_dark\"]:\n",
    "\n",
    "    fig = px.scatter(c, x=\"Genero Y Rango Etario\", y=\"Total Ventas\", color=\"PROVINCIA\", animation_frame=\"ANIO\", template=template)\n",
    "    \n",
    "    fig.write_html('first_figure.html', auto_open=True)\n",
    "    fig.write_html(\"Genero_RangoEtario_2019_2020.html\")"
   ]
  },
  {
   "cell_type": "markdown",
   "metadata": {},
   "source": [
    "**GRÁFICA BAR 2019 Y 2020 CON ANIMACIÓN**"
   ]
  },
  {
   "cell_type": "code",
   "execution_count": 42,
   "metadata": {},
   "outputs": [],
   "source": [
    "import plotly.express as px\n",
    "\n",
    "for template in [ \"plotly_dark\"]:\n",
    "    fig = px.bar(c, x=\"Genero Y Rango Etario\", y=\"Total Ventas\", color=\"PROVINCIA\",\n",
    "                  animation_frame=\"ANIO\", template=template)\n",
    "    fig.write_html('first_figure.html', auto_open=True)\n",
    "    fig.write_html(\"Genero_Ventas_2019_2020.html\")"
   ]
  },
  {
   "cell_type": "markdown",
   "metadata": {},
   "source": [
    "**GRÁFICA BAR COMPARATIVA 2019 Y 2020**"
   ]
  },
  {
   "cell_type": "code",
   "execution_count": 48,
   "metadata": {},
   "outputs": [],
   "source": [
    "for template in [\"plotly_dark\"]:\n",
    "    trace1 = go.Bar(name='2019', x=df_2019[\"Genero Y Rango Etario\"], y=df_2019[\"Total Ventas\"],\n",
    "                    marker_color='#78d1c4')\n",
    "\n",
    "    trace2 = go.Bar(name='2020', x=df_2020[\"Genero Y Rango Etario\"], y=df_2020[\"Total Ventas\"],\n",
    "                    marker_color='#af009a')\n",
    "\n",
    "    data = [trace1, trace2]\n",
    "    layout = go.Layout(barmode = 'group',template=template)\n",
    "    fig = go.Figure(data = data, layout = layout)\n",
    "    \n",
    "#    fig.update_traces(marker=dict(color=('red','blue')))\n",
    "    fig.write_html('first_figure.html', auto_open=True)\n",
    "    fig.write_html(\"Bar_comparativa_2019_2020.html\")"
   ]
  },
  {
   "cell_type": "code",
   "execution_count": null,
   "metadata": {},
   "outputs": [],
   "source": []
  }
 ],
 "metadata": {
  "kernelspec": {
   "display_name": "Python 3",
   "language": "python",
   "name": "python3"
  },
  "language_info": {
   "codemirror_mode": {
    "name": "ipython",
    "version": 3
   },
   "file_extension": ".py",
   "mimetype": "text/x-python",
   "name": "python",
   "nbconvert_exporter": "python",
   "pygments_lexer": "ipython3",
   "version": "3.8.5"
  }
 },
 "nbformat": 4,
 "nbformat_minor": 4
}
