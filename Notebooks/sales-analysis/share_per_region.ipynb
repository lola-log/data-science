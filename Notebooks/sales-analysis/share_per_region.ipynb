{
 "cells": [
  {
   "cell_type": "code",
   "execution_count": 1,
   "metadata": {},
   "outputs": [],
   "source": [
    "import pandas as pd\n",
    "import plotly.graph_objects as go\n",
    "import plotly.express as px\n",
    "from pyspark.sql.types import IntegerType\n",
    "from plotly.subplots import make_subplots\n",
    "#import chart_studio.tools as tls\n",
    "\n",
    "%matplotlib inline"
   ]
  },
  {
   "cell_type": "markdown",
   "metadata": {},
   "source": [
    "**SHARE PER REGION 2020**"
   ]
  },
  {
   "cell_type": "code",
   "execution_count": 2,
   "metadata": {},
   "outputs": [],
   "source": [
    "data= pd.read_csv('../datasets/Data-Ventas Totales.csv')"
   ]
  },
  {
   "cell_type": "code",
   "execution_count": 3,
   "metadata": {},
   "outputs": [
    {
     "data": {
      "text/plain": [
       "Index(['PROVINCIA', '2019', '2020', 'Avg Quarterly ', '2020_forcasted'], dtype='object')"
      ]
     },
     "execution_count": 3,
     "metadata": {},
     "output_type": "execute_result"
    }
   ],
   "source": [
    "data.columns"
   ]
  },
  {
   "cell_type": "markdown",
   "metadata": {},
   "source": [
    "**GRÁFICO TOTAL 2020**"
   ]
  },
  {
   "cell_type": "code",
   "execution_count": 12,
   "metadata": {},
   "outputs": [],
   "source": [
    "for template in [\"plotly_dark\"]:\n",
    "    fig = px.pie(data, values='2020_forcasted', names='PROVINCIA',\n",
    "             hover_data=['PROVINCIA'], labels={'Provincia':'Provincia'})\n",
    "    \n",
    "fig.update_traces(textposition='inside', textinfo='percent+label')\n",
    "fig.update_layout( template = \"plotly_dark\")\n",
    "fig.write_html('PIE_prov2020', auto_open=True)"
   ]
  },
  {
   "cell_type": "markdown",
   "metadata": {},
   "source": [
    "**GRÁFICO TOTAL 2019**"
   ]
  },
  {
   "cell_type": "code",
   "execution_count": 11,
   "metadata": {},
   "outputs": [],
   "source": [
    "for template in [\"plotly_dark\"]:\n",
    "    fig = px.pie(data, values='2019', names='PROVINCIA',\n",
    "             hover_data=['PROVINCIA'], labels={'Provincia':'Provincia'})\n",
    "    \n",
    "fig.update_traces(textposition='inside', textinfo='percent+label')\n",
    "fig.update_layout( template = \"plotly_dark\")\n",
    "fig.write_html('PIE_prov2019', auto_open=True)"
   ]
  },
  {
   "cell_type": "markdown",
   "metadata": {},
   "source": [
    "**GRÁFICOS JUNTOS (MÁX Y MIN)**"
   ]
  },
  {
   "cell_type": "raw",
   "metadata": {},
   "source": [
    "# Create subplots: use 'domain' type for Pie subplot\n",
    "fig = make_subplots(rows=1, cols=2, specs=[[{'type':'domain'}, {'type':'domain'}]])\n",
    "fig.add_trace(go.Pie(labels=max_2020.Provincia, values=max_2020.Unidades, name=\"\"),\n",
    "              1, 1)\n",
    "fig.add_trace(go.Pie(labels=min_2020.Provincia, values=max_2020.Unidades, name=\"\"),\n",
    "              1, 2)\n",
    "\n",
    "# Use `hole` to create a donut-like pie chart\n",
    "fig.update_traces(hole=.4, textinfo='label+percent')\n",
    "\n",
    "fig.update_layout(\n",
    "    template = \"plotly_dark\",\n",
    "    # Add annotations in the center of the donut pies.\n",
    "    annotations=[dict(text='Máximos',font_size=20, showarrow=False),\n",
    "                 dict(text='Minimos', font_size=20, showarrow=False)])\n",
    "fig.write_html('first_figure.html', auto_open=True)\n",
    "fig.write_html(\"SharePerRegion2020.html\")"
   ]
  },
  {
   "cell_type": "markdown",
   "metadata": {},
   "source": [
    "**SHARE PER REGION 2019**"
   ]
  },
  {
   "cell_type": "raw",
   "metadata": {},
   "source": [
    "# initialize list of lists \n",
    "data_min = [['CATAMARCA',10689],['CHACO',25572 ],['CHUBUT',34648 ],['CORRIENTES', 27224],['JUJUY',19095],\n",
    "            ['LA PAMPA',31341 ],['LA RIOJA',4153],['MISIONES',9326],['SALTA',16955],\n",
    "            ['SAN LUIS',4063],['SANTA CRUZ', 13491],['SANTIAGO DEL ESTERO',18524 ],\n",
    "            ['TIERRA DEL FUEGO', 2954],\n",
    "       ] \n",
    "\n",
    "# Create the pandas DataFrame \n",
    "min_2019 = pd.DataFrame(data_min, columns = ['Provincia', 'Unidades']) "
   ]
  },
  {
   "cell_type": "raw",
   "metadata": {},
   "source": [
    "data_max = [['BUENOS AIRES', 1373950], ['C.A.B.A', 147041],['CÓRDOBA ',296713],['SANTA FE',289308 ],\n",
    "            ['TUCUMAN', 251067],['ENTRE RÍOS', 37466], ['MENDOZA',88645 ],['NEUQUÉN', 103100],\n",
    "            ['SAN JUAN', 36055],['RÍO NEGRO',35215]] \n",
    "\n",
    "max_2019 = pd.DataFrame(data_max, columns = ['Provincia', 'Unidades']) "
   ]
  },
  {
   "cell_type": "markdown",
   "metadata": {},
   "source": [
    "**GRÁFICOS INDIVIDUALES (MÁX Y MIN)**"
   ]
  },
  {
   "cell_type": "raw",
   "metadata": {},
   "source": [
    "fig = px.pie(min_2019, values='Unidades', names='Provincia',\n",
    "             title='Share per region 2019 - minimo',\n",
    "             hover_data=['Provincia'], labels={'Provincia':'Provincia'})\n",
    "fig.update_traces(textposition='inside', textinfo='percent+label')\n",
    "fig.write_html('first_figure.html', auto_open=True)"
   ]
  },
  {
   "cell_type": "raw",
   "metadata": {},
   "source": [
    "fig = px.pie(max_2019, values='Unidades', names='Provincia',\n",
    "             title='Share per region 2019 - máximo',\n",
    "             hover_data=['Provincia'], labels={'Provincia':'Provincia'})\n",
    "fig.update_traces(textposition='inside', textinfo='percent+label')\n",
    "fig.write_html('first_figure.html', auto_open=True)"
   ]
  },
  {
   "cell_type": "markdown",
   "metadata": {},
   "source": [
    "**GRÁFICOS JUNTOS (MÁX Y MIN)**"
   ]
  },
  {
   "cell_type": "raw",
   "metadata": {},
   "source": [
    "fig = make_subplots(rows=1, cols=2, specs=[[{'type':'domain'}, {'type':'domain'}]])\n",
    "fig.add_trace(go.Pie(labels=max_2019.Provincia, values=max_2019.Unidades, name=\"\"),\n",
    "              1, 1)\n",
    "fig.add_trace(go.Pie(labels=min_2019.Provincia, values=max_2019.Unidades, name=\"\"),\n",
    "              1, 2)\n",
    "\n",
    "# Use `hole` to create a donut-like pie chart\n",
    "fig.update_traces(hole=.4, textinfo='label+percent')\n",
    "\n",
    "fig.update_layout(\n",
    "    template = \"plotly_dark\",\n",
    "    # Add annotations in the center of the donut pies.\n",
    "    annotations=[dict(text='Máximos', x=0.18, y=0.5, font_size=20, showarrow=False),\n",
    "                 dict(text='Minimos', x=0.82, y=0.5, font_size=20, showarrow=False)])\n",
    "fig.write_html('first_figure.html', auto_open=True)\n",
    "fig.write_html(\"SharePerRegion2019.html\")"
   ]
  },
  {
   "cell_type": "code",
   "execution_count": null,
   "metadata": {},
   "outputs": [],
   "source": [
    "#tls.get_embed('https://plotly.com/~chris/1638')"
   ]
  }
 ],
 "metadata": {
  "kernelspec": {
   "display_name": "Python 3",
   "language": "python",
   "name": "python3"
  },
  "language_info": {
   "codemirror_mode": {
    "name": "ipython",
    "version": 3
   },
   "file_extension": ".py",
   "mimetype": "text/x-python",
   "name": "python",
   "nbconvert_exporter": "python",
   "pygments_lexer": "ipython3",
   "version": "3.8.5"
  }
 },
 "nbformat": 4,
 "nbformat_minor": 4
}
