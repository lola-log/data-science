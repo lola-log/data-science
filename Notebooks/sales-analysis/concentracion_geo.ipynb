{
 "cells": [
  {
   "cell_type": "code",
   "execution_count": 2,
   "metadata": {},
   "outputs": [],
   "source": [
    "import numpy as np\n",
    "import pandas as pd\n",
    "import matplotlib.pylab as plt\n",
    "import seaborn as sns\n",
    "import plotly.graph_objects as go\n",
    "import plotly.express as px\n",
    "import math\n",
    "from pyspark.sql.types import IntegerType\n",
    "from plotly import tools\n",
    "import plotly.offline as py\n",
    "import plotly.io as pio\n",
    "%matplotlib inline"
   ]
  },
  {
   "cell_type": "code",
   "execution_count": 11,
   "metadata": {},
   "outputs": [
    {
     "data": {
      "text/plain": [
       "0     381311\n",
       "1      54044\n",
       "2       5670\n",
       "3      11608\n",
       "4      20161\n",
       "5      90228\n",
       "6      27148\n",
       "7      11939\n",
       "8       6453\n",
       "9      19517\n",
       "10      6027\n",
       "11     51009\n",
       "12      5255\n",
       "13     39316\n",
       "14      9384\n",
       "15     12985\n",
       "16     17711\n",
       "17      5135\n",
       "18      6811\n",
       "19    174881\n",
       "20     12038\n",
       "21      1915\n",
       "22    196473\n",
       "Name: TOTAL_PROV, dtype: int64"
      ]
     },
     "execution_count": 11,
     "metadata": {},
     "output_type": "execute_result"
    }
   ],
   "source": [
    "df_geo.TOTAL_PROV"
   ]
  },
  {
   "cell_type": "code",
   "execution_count": 3,
   "metadata": {},
   "outputs": [],
   "source": [
    "df_geo= pd.read_csv('../datasets/RKG-clientes-geo.csv')"
   ]
  },
  {
   "cell_type": "code",
   "execution_count": 4,
   "metadata": {},
   "outputs": [],
   "source": [
    "df_geo = df_geo.rename(columns = {'2020': 'TOTAL_VENTAS'}, inplace = False)"
   ]
  },
  {
   "cell_type": "code",
   "execution_count": 5,
   "metadata": {},
   "outputs": [],
   "source": [
    "df_geo['NEW'] = df_geo['TOTAL_PROV'].apply(str)"
   ]
  },
  {
   "cell_type": "markdown",
   "metadata": {},
   "source": [
    "**MAPA REGIÓNES**"
   ]
  },
  {
   "cell_type": "code",
   "execution_count": 10,
   "metadata": {},
   "outputs": [],
   "source": [
    "pio.templates.default = \"plotly_dark\"\n",
    "\n",
    "fig = go.Figure(data=go.Scattergeo(\n",
    "        locationmode = 'ISO-3',\n",
    "        lon = df_geo['LON'],\n",
    "        lat = df_geo['LAT'],\n",
    "        text = df_geo['PROVINCIA'] + \" \" + df_geo['NEW'],\n",
    "        mode = 'markers',\n",
    "        marker = dict(\n",
    "            size = 35,\n",
    "            opacity = 0.6,\n",
    "            reversescale = False,\n",
    "            autocolorscale = False,\n",
    "            symbol = 'circle',\n",
    "            line = dict(\n",
    "                width=1,\n",
    "                color='rgba(102, 102, 102)'\n",
    "            ),\n",
    "            colorscale = 'Tealgrn',\n",
    "            cmin = 0,\n",
    "            color = df_geo['TOTAL_PROV'],\n",
    "            cmax = 40000,\n",
    "            colorbar_title=\"Concentración geográfica de ventas\"\n",
    "        )))\n",
    "\n",
    "fig.update_layout(\n",
    "        geo = dict(\n",
    "            scope='south america',\n",
    "            #projection_type='albers usa',\n",
    "            showland = True,\n",
    "            landcolor = \"rgb(229,236,246)\",\n",
    "            subunitcolor = 'rgba(51, 102, 0)',\n",
    "            countrycolor = \"rgb(156,69,77)\",\n",
    "            countrywidth = 0.5,\n",
    "            subunitwidth = 0.5,\n",
    "            bgcolor =  \"rgb(52,68,103)\",\n",
    "            showsubunits = True\n",
    "        ),\n",
    "    )\n",
    "fig.write_html('first_figure.html', auto_open=True)\n",
    "fig.write_html('MAP.html')\n",
    "\n"
   ]
  },
  {
   "cell_type": "markdown",
   "metadata": {},
   "source": [
    "**CLIENTES**"
   ]
  },
  {
   "cell_type": "code",
   "execution_count": 6,
   "metadata": {},
   "outputs": [],
   "source": [
    "df_clientes= pd.read_csv('../datasets/RKG-clientes-data.csv')"
   ]
  },
  {
   "cell_type": "code",
   "execution_count": 7,
   "metadata": {},
   "outputs": [
    {
     "data": {
      "text/plain": [
       "Index(['PROVINCIA', 'CLIENTE', 'TOTAL_VEN'], dtype='object')"
      ]
     },
     "execution_count": 7,
     "metadata": {},
     "output_type": "execute_result"
    }
   ],
   "source": [
    "df_clientes.columns"
   ]
  },
  {
   "cell_type": "code",
   "execution_count": 9,
   "metadata": {},
   "outputs": [],
   "source": [
    "df_clientes = df_clientes.rename(columns = {'TOTAL_VEN': 'Total Ventas'}, inplace = False)\n",
    "df_clientes = df_clientes.rename(columns = {'CLIENTE': '.'}, inplace = False)"
   ]
  },
  {
   "cell_type": "code",
   "execution_count": 13,
   "metadata": {},
   "outputs": [],
   "source": [
    "for template in [\"plotly_dark\"]:\n",
    "    fig = px.histogram(df_clientes, x= \".\",y=\"Total Ventas\", color=\"PROVINCIA\")\n",
    "    fig.update_layout(template=template)\n",
    "    fig.write_html('first_figure.html', auto_open=True)\n",
    "    #fig.write_html('CLIENTES.html', auto_open=True)\n"
   ]
  },
  {
   "cell_type": "code",
   "execution_count": null,
   "metadata": {},
   "outputs": [],
   "source": []
  }
 ],
 "metadata": {
  "kernelspec": {
   "display_name": "Python 3",
   "language": "python",
   "name": "python3"
  },
  "language_info": {
   "codemirror_mode": {
    "name": "ipython",
    "version": 3
   },
   "file_extension": ".py",
   "mimetype": "text/x-python",
   "name": "python",
   "nbconvert_exporter": "python",
   "pygments_lexer": "ipython3",
   "version": "3.8.5"
  }
 },
 "nbformat": 4,
 "nbformat_minor": 4
}
