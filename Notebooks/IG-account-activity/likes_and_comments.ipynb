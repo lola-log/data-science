{
 "cells": [
  {
   "cell_type": "markdown",
   "metadata": {},
   "source": [
    "**LIBRERIAS**"
   ]
  },
  {
   "cell_type": "code",
   "execution_count": 1,
   "metadata": {},
   "outputs": [
    {
     "name": "stdout",
     "output_type": "stream",
     "text": [
      "Fail to import moviepy. Need only for Video upload.\n"
     ]
    }
   ],
   "source": [
    "from InstagramAPI import InstagramAPI\n",
    "import pandas as pd\n",
    "from pandas.io.json import json_normalize\n",
    "import json\n",
    "from time import sleep\n",
    "from datetime import datetime"
   ]
  },
  {
   "cell_type": "markdown",
   "metadata": {},
   "source": [
    "**LOG IN A LA CUENTA**"
   ]
  },
  {
   "cell_type": "code",
   "execution_count": null,
   "metadata": {},
   "outputs": [],
   "source": [
    "api = InstagramAPI(\"user\", \"password\")\n",
    "api.login()"
   ]
  },
  {
   "cell_type": "markdown",
   "metadata": {},
   "source": [
    "**ACTIVIDAD RECIENTE DE LA CUENTA**"
   ]
  },
  {
   "cell_type": "code",
   "execution_count": null,
   "metadata": {
    "scrolled": true
   },
   "outputs": [],
   "source": [
    "api.getRecentActivity()\n",
    "get_recent_activity_response= api.LastJson \n",
    "for notifcation in get_recent_activity_response['old_stories']:\n",
    "    print(notifcation['args']['text'])"
   ]
  },
  {
   "cell_type": "markdown",
   "metadata": {},
   "source": [
    "**CONSULTAR ACTIVIDAD DE UN SEGUIDOR ESPECIFICX**"
   ]
  },
  {
   "cell_type": "code",
   "execution_count": 4,
   "metadata": {},
   "outputs": [
    {
     "name": "stdout",
     "output_type": "stream",
     "text": [
      "merevequoz liked your photo.\n"
     ]
    }
   ],
   "source": [
    "username=\"merevequoz\"\n",
    "for notifcation in get_recent_activity_response['old_stories']:\n",
    "    text = notifcation['args']['text']\n",
    "    if username  in text:\n",
    "        print (text)"
   ]
  },
  {
   "cell_type": "markdown",
   "metadata": {},
   "source": [
    "**SOLO PARA DEJAR DE SEGUIR A QUIENES NO SIGAN A LA CUENTA**"
   ]
  },
  {
   "cell_type": "raw",
   "metadata": {},
   "source": [
    "follower_users = []\n",
    "\n",
    "def unfollow_users():\n",
    "    api.login()\n",
    "    api.getSelfUserFollowers() # Get your followers\n",
    "    result = api.LastJson\n",
    "    for user in result['users']:\n",
    "        follower_users.append({'pk':user['pk'], 'username':user['username']})\n",
    "\n",
    "    api.getSelfUsersFollowing() # Get users which you are following\n",
    "    result = api.LastJson\n",
    "    for user in result['users']:\n",
    "        following_users.append({'pk':user['pk'],'username':user['username']})\n",
    "    for user in following_users:\n",
    "        if not user['pk'] in follower_users: # if the user not follows you\n",
    "            print('Unfollowing @' + user['username'])\n",
    "            api.unfollow(user['pk'])\n",
    "            # set this really long to avoid from suspension\n",
    "            sleep(20) "
   ]
  },
  {
   "cell_type": "markdown",
   "metadata": {},
   "source": [
    "**OTRO CODIGO**\n"
   ]
  },
  {
   "cell_type": "markdown",
   "metadata": {},
   "source": [
    "**CONSEGUIR TOTAL DE POSTEOS**"
   ]
  },
  {
   "cell_type": "code",
   "execution_count": 5,
   "metadata": {},
   "outputs": [
    {
     "name": "stdout",
     "output_type": "stream",
     "text": [
      "18 posts retrieved so far...\n",
      "36 posts retrieved so far...\n",
      "54 posts retrieved so far...\n",
      "72 posts retrieved so far...\n",
      "90 posts retrieved so far...\n",
      "108 posts retrieved so far...\n",
      "126 posts retrieved so far...\n",
      "144 posts retrieved so far...\n",
      "Total posts retrieved: 151\n"
     ]
    }
   ],
   "source": [
    "import time\n",
    "def get_my_posts(api):\n",
    "    '''Retrieve all posts from own profile'''\n",
    "    my_posts = []\n",
    "    has_more_posts = True\n",
    "    max_id= ''\n",
    "\n",
    "    while has_more_posts:\n",
    "        api.getSelfUserFeed(maxid=max_id)\n",
    "        if api.LastJson['more_available'] is not True:\n",
    "            has_more_posts = False #stop condition\n",
    "\n",
    "        max_id = api.LastJson.get('next_max_id','')\n",
    "        my_posts.extend(api.LastJson['items']) #merge lists\n",
    "        time.sleep(2) # slows down to avoid flooding\n",
    "\n",
    "        if has_more_posts:\n",
    "            print(str(len(my_posts)) + ' posts retrieved so far...')\n",
    "\n",
    "    print('Total posts retrieved: ' + str(len(my_posts)))\n",
    "    \n",
    "    return my_posts\n",
    "\n",
    "my_posts = get_my_posts(api)"
   ]
  },
  {
   "cell_type": "markdown",
   "metadata": {},
   "source": [
    "**RECOGE INFO DE TODOS LOS LIKES DE TODOS LOS POSTEOS**"
   ]
  },
  {
   "cell_type": "code",
   "execution_count": 6,
   "metadata": {},
   "outputs": [
    {
     "name": "stdout",
     "output_type": "stream",
     "text": [
      "wait 5.0 minutes\n",
      "done\n"
     ]
    }
   ],
   "source": [
    "def get_posts_likers(api, my_posts):\n",
    "    '''Retrieve all likers on all posts'''\n",
    "    \n",
    "    likers = []\n",
    "    \n",
    "    print('wait %.1f minutes' % (len(my_posts)*2/60.))\n",
    "    for i in range(len(my_posts)):\n",
    "        m_id = my_posts[i]['id']\n",
    "        api.getMediaLikers(m_id)\n",
    "        \n",
    "        likers += [api.LastJson]\n",
    "        \n",
    "        # Include post_id in likers dict list\n",
    "        likers[i]['post_id'] = m_id\n",
    "        \n",
    "        time.sleep(2)\n",
    "    print('done')\n",
    "    \n",
    "    return likers\n",
    "\n",
    "\n",
    "likers = get_posts_likers(api, my_posts)  "
   ]
  },
  {
   "cell_type": "code",
   "execution_count": 7,
   "metadata": {},
   "outputs": [
    {
     "name": "stdout",
     "output_type": "stream",
     "text": [
      "wait 5.0 minutes\n",
      "done\n"
     ]
    }
   ],
   "source": [
    "def get_liked_media (api, my_posts):\n",
    "    '''Retrieve all likers on all posts'''\n",
    "    \n",
    "    likes = []\n",
    "    \n",
    "    print('wait %.1f minutes' % (len(my_posts)*2/60.))\n",
    "    for i in range(len(my_posts)):\n",
    "        m_id = my_posts[i]['id']\n",
    "        api.getLikedMedia(m_id)\n",
    "        \n",
    "        likes += [api.LastJson]\n",
    "        \n",
    "        # Include post_id in likers dict list\n",
    "        likes[i]['post_id'] = m_id\n",
    "        \n",
    "        time.sleep(2)\n",
    "    print('done')\n",
    "    \n",
    "    return likes\n",
    "\n",
    "\n",
    "liked_media = get_liked_media(api, my_posts)  "
   ]
  },
  {
   "cell_type": "code",
   "execution_count": 8,
   "metadata": {},
   "outputs": [],
   "source": [
    "def posts_likers_to_df(liked_media):\n",
    "    '''Transforms likers list of dicts into pandas DataFrame'''\n",
    "    \n",
    "    # Normalize likers by getting the 'users' list and the post_id of each like\n",
    "    df_likers = pd.json_normalize(liked_media, 'users', ['post_id'])\n",
    "    \n",
    "    # Add 'content_type' column to know the rows are likes\n",
    "    df_likers['content_type'] = 'like'\n",
    "    \n",
    "    return df_likers\n",
    "\n",
    "df_liked_media = posts_likers_to_df(likers)"
   ]
  },
  {
   "cell_type": "markdown",
   "metadata": {},
   "source": [
    "**RECIBE TODOS LOS COMENTARIOS EN TODOS LOS POSTEOS**"
   ]
  },
  {
   "cell_type": "code",
   "execution_count": 9,
   "metadata": {},
   "outputs": [
    {
     "name": "stdout",
     "output_type": "stream",
     "text": [
      "wait 5.0 minutes\n",
      "done\n"
     ]
    }
   ],
   "source": [
    "def get_posts_commenters(api, my_posts):\n",
    "    '''Retrieve all commenters on all posts '''\n",
    "    \n",
    "    commenters = []\n",
    "    \n",
    "    print('wait %.1f minutes' % (len(my_posts)*2/60.))\n",
    "    for i in range(len(my_posts)):\n",
    "        m_id = my_posts[i]['id']\n",
    "        api.getMediaComments(m_id)\n",
    "        \n",
    "        commenters += [api.LastJson]\n",
    "        \n",
    "        # Include post_id in commenters dict list\n",
    "        commenters[i]['post_id'] = m_id\n",
    "            \n",
    "        time.sleep(2)\n",
    "    print('done')\n",
    "    \n",
    "    return commenters\n",
    "\n",
    "commenters = get_posts_commenters(api, my_posts)"
   ]
  },
  {
   "cell_type": "markdown",
   "metadata": {},
   "source": [
    "**CONVIERTE TODOS LOS LIKES Y LOS COMENTARIOS EN UN DATAFRAME**"
   ]
  },
  {
   "cell_type": "code",
   "execution_count": null,
   "metadata": {},
   "outputs": [],
   "source": [
    "def posts_likers_to_df(likers):\n",
    "    '''Transforms likers list of dicts into pandas DataFrame'''\n",
    "    \n",
    "    # Normalize likers by getting the 'users' list and the post_id of each like\n",
    "    df_likers = pd.json_normalize(likers, 'users', ['post_id'])\n",
    "    \n",
    "    # Add 'content_type' column to know the rows are likes\n",
    "    df_likers['content_type'] = 'like'\n",
    "    \n",
    "    return df_likers\n",
    "\n",
    "def posts_commenters_to_df(commenters):\n",
    "    '''Transforms commenters list of dicts into pandas DataFrame'''\n",
    "    \n",
    "    # Include username and full_name of commenter in 'comments' list of dicts\n",
    "    for i in range(len(commenters)):\n",
    "        if len(commenters[i]['comments']) > 0: # checks if there is any comment on the post\n",
    "            for j in range(len(commenters[i]['comments'])):\n",
    "                # Puts username/full_name one level up\n",
    "                commenters[i]['comments'][j]['username'] = commenters[i]['comments'][j]['user']['username']\n",
    "                commenters[i]['comments'][j]['full_name'] = commenters[i]['comments'][j]['user']['full_name']\n",
    "                \n",
    "    # Create DataFrame\n",
    "    # Normalize commenters to have 1 row per comment, and gets 'post_id' from parent \n",
    "    df_commenters = pd.json_normalize(commenters, 'comments', 'post_id')\n",
    "    \n",
    "    # Get rid of 'user' column as we already handled it above\n",
    "    #del df_commenters['user']\n",
    "    \n",
    "    return df_commenters\n",
    "\n",
    "df_likers = posts_likers_to_df(likers)\n",
    "df_commenters = posts_commenters_to_df(commenters)\n",
    "df_likers.head(10)"
   ]
  },
  {
   "cell_type": "code",
   "execution_count": null,
   "metadata": {},
   "outputs": [],
   "source": [
    "df_commenters.head(10)"
   ]
  },
  {
   "cell_type": "code",
   "execution_count": null,
   "metadata": {
    "scrolled": true
   },
   "outputs": [],
   "source": [
    "print(df_likers.latest_reel_media)"
   ]
  },
  {
   "cell_type": "markdown",
   "metadata": {},
   "source": [
    "# **INFO FINAL**"
   ]
  },
  {
   "cell_type": "code",
   "execution_count": 13,
   "metadata": {},
   "outputs": [
    {
     "name": "stdout",
     "output_type": "stream",
     "text": [
      "Total posts: 151\n",
      "---------\n",
      "Total likes en perfil: 5031\n",
      "Usuarios particulares que likearon tus posts: 1837\n",
      "---------\n",
      "Total comentarios en perfil: 130\n",
      "Usuarios particulares que comentaron tus posts: 75\n"
     ]
    }
   ],
   "source": [
    "print('Total posts: ' + str(len(my_posts)))\n",
    "print('---------')\n",
    "print('Total likes en perfil: ' + str(df_likers.shape[0])) #shape[0] represents number of rows\n",
    "print('Usuarios particulares que likearon tus posts: ' +str(df_likers.username.nunique())) # nunique() will count distinct values of a col\n",
    "print('---------')\n",
    "print('Total comentarios en perfil: ' + str(df_commenters.shape[0]))\n",
    "print('Usuarios particulares que comentaron tus posts: ' +str(df_commenters.username.nunique()))"
   ]
  },
  {
   "cell_type": "markdown",
   "metadata": {},
   "source": [
    "# **10 USUARIOS QUE MAS LIKES DAN**"
   ]
  },
  {
   "cell_type": "code",
   "execution_count": null,
   "metadata": {},
   "outputs": [],
   "source": [
    "df_likers.username.value_counts()[:10]"
   ]
  },
  {
   "cell_type": "code",
   "execution_count": 15,
   "metadata": {},
   "outputs": [
    {
     "data": {
      "text/plain": [
       "<matplotlib.axes._subplots.AxesSubplot at 0x11eb51910>"
      ]
     },
     "execution_count": 15,
     "metadata": {},
     "output_type": "execute_result"
    },
    {
     "data": {
      "image/png": "[encoded data removed]",
      "text/plain": [
       "<Figure size 864x432 with 1 Axes>"
      ]
     },
     "metadata": {
      "needs_background": "light"
     },
     "output_type": "display_data"
    }
   ],
   "source": [
    "df_likers.username.value_counts()[:20].plot(kind='bar', title='Top 10 media likers', grid=True, figsize=(12,6))"
   ]
  },
  {
   "cell_type": "markdown",
   "metadata": {},
   "source": [
    "# **10 USUARIOS QUE MAS COMENTAN**"
   ]
  },
  {
   "cell_type": "code",
   "execution_count": null,
   "metadata": {},
   "outputs": [],
   "source": [
    "df_commenters.username.value_counts()[:20]"
   ]
  },
  {
   "cell_type": "code",
   "execution_count": 17,
   "metadata": {},
   "outputs": [
    {
     "data": {
      "text/plain": [
       "<matplotlib.axes._subplots.AxesSubplot at 0x11e17eca0>"
      ]
     },
     "execution_count": 17,
     "metadata": {},
     "output_type": "execute_result"
    },
    {
     "data": {
      "image/png": "[encoded data removed]",
      "text/plain": [
       "<Figure size 864x432 with 1 Axes>"
      ]
     },
     "metadata": {
      "needs_background": "light"
     },
     "output_type": "display_data"
    }
   ],
   "source": [
    "df_commenters['username'].value_counts()[:20].plot(kind='bar', figsize=(12,6), title='Top 10 post commenters')"
   ]
  },
  {
   "cell_type": "markdown",
   "metadata": {},
   "source": [
    "# **NUMERO DE COMENTARIOS POR DIA**"
   ]
  },
  {
   "cell_type": "code",
   "execution_count": 31,
   "metadata": {},
   "outputs": [],
   "source": [
    "# Converts date from unix time to YYYY-MM-DD hh24:mm:ss\n",
    "df_commenters.created_at = pd.to_datetime(df_commenters.created_at, unit='s')\n",
    "df_commenters.created_at_utc = pd.to_datetime(df_commenters.created_at_utc, unit='s')"
   ]
  },
  {
   "cell_type": "code",
   "execution_count": 32,
   "metadata": {},
   "outputs": [
    {
     "data": {
      "text/plain": [
       "<matplotlib.axes._subplots.AxesSubplot at 0x120072280>"
      ]
     },
     "execution_count": 32,
     "metadata": {},
     "output_type": "execute_result"
    },
    {
     "data": {
      "image/png": "[encoded data removed]",
      "text/plain": [
       "<Figure size 864x432 with 1 Axes>"
      ]
     },
     "metadata": {
      "needs_background": "light"
     },
     "output_type": "display_data"
    }
   ],
   "source": [
    "df_commenters.created_at_ba.dt.weekday.value_counts().sort_index().plot(kind='bar', figsize=(12,6), title='Comments per day of the week (0 - Lunes, 6 - Domingo)')"
   ]
  },
  {
   "cell_type": "code",
   "execution_count": 25,
   "metadata": {},
   "outputs": [
    {
     "name": "stdout",
     "output_type": "stream",
     "text": [
      "ayuda: orden de los días segun python\n",
      "0 - Monday\n",
      "1 - Tuesday\n",
      "2 - Wednesday\n",
      "3 - Thursday\n",
      "4 - Friday\n",
      "5 - Saturday\n",
      "6 - Sunday\n"
     ]
    }
   ],
   "source": [
    "import calendar\n",
    "print('ayuda: orden de los días segun python')\n",
    "j = 0\n",
    "for i in calendar.day_name:\n",
    "    print(j,'-',i)\n",
    "    j+=1"
   ]
  },
  {
   "cell_type": "markdown",
   "metadata": {},
   "source": [
    "**NUMEROS DE COMENTARIOS HECHOS POR HORA**"
   ]
  },
  {
   "cell_type": "code",
   "execution_count": 20,
   "metadata": {},
   "outputs": [
    {
     "data": {
      "text/plain": [
       "<matplotlib.axes._subplots.AxesSubplot at 0x11e23df10>"
      ]
     },
     "execution_count": 20,
     "metadata": {},
     "output_type": "execute_result"
    },
    {
     "data": {
      "image/png": "[encoded data removed]",
      "text/plain": [
       "<Figure size 864x432 with 1 Axes>"
      ]
     },
     "metadata": {
      "needs_background": "light"
     },
     "output_type": "display_data"
    }
   ],
   "source": [
    "df_commenters.created_at_utc.dt.hour.value_counts().sort_index().plot(kind='bar', figsize=(12,6))"
   ]
  },
  {
   "cell_type": "markdown",
   "metadata": {},
   "source": [
    "# **NUMERO DE COMENTARIOS CREADOS POR HORA EN HORARIO DE BUENOS AIRES**"
   ]
  },
  {
   "cell_type": "code",
   "execution_count": 28,
   "metadata": {},
   "outputs": [],
   "source": [
    " # Create a column to show when a a comment was created in Buenos Aires time\n",
    "df_commenters['created_at_ba'] = df_commenters.created_at_utc.dt.tz_localize('UTC').dt.tz_convert('America/Buenos_Aires')"
   ]
  },
  {
   "cell_type": "code",
   "execution_count": 29,
   "metadata": {},
   "outputs": [
    {
     "data": {
      "text/plain": [
       "<matplotlib.axes._subplots.AxesSubplot at 0x11febc100>"
      ]
     },
     "execution_count": 29,
     "metadata": {},
     "output_type": "execute_result"
    },
    {
     "data": {
      "image/png": "[encoded data removed]",
      "text/plain": [
       "<Figure size 864x432 with 1 Axes>"
      ]
     },
     "metadata": {
      "needs_background": "light"
     },
     "output_type": "display_data"
    }
   ],
   "source": [
    "df_commenters.created_at_ba.dt.hour.value_counts().sort_index().plot(kind='bar', figsize=(12,6))"
   ]
  },
  {
   "cell_type": "markdown",
   "metadata": {},
   "source": [
    "**dfs**"
   ]
  },
  {
   "cell_type": "code",
   "execution_count": null,
   "metadata": {},
   "outputs": [],
   "source": [
    "df_commenters.to_csv('comments_1/9/20.csv')"
   ]
  },
  {
   "cell_type": "code",
   "execution_count": null,
   "metadata": {},
   "outputs": [],
   "source": [
    "df_likers.to_csv('likes_1/9/20.csv')"
   ]
  },
  {
   "cell_type": "code",
   "execution_count": null,
   "metadata": {},
   "outputs": [],
   "source": [
    "df_commenters.head()"
   ]
  },
  {
   "cell_type": "code",
   "execution_count": null,
   "metadata": {},
   "outputs": [],
   "source": []
  }
 ],
 "metadata": {
  "kernelspec": {
   "display_name": "Python 3",
   "language": "python",
   "name": "python3"
  },
  "language_info": {
   "codemirror_mode": {
    "name": "ipython",
    "version": 3
   },
   "file_extension": ".py",
   "mimetype": "text/x-python",
   "name": "python",
   "nbconvert_exporter": "python",
   "pygments_lexer": "ipython3",
   "version": "3.8.3"
  }
 },
 "nbformat": 4,
 "nbformat_minor": 4
}
