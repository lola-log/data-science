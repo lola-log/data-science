{
 "cells": [
  {
   "cell_type": "code",
   "execution_count": 20,
   "metadata": {},
   "outputs": [],
   "source": [
    "import numpy as np\n",
    "import pandas as pd\n",
    "import matplotlib.pylab as plt\n",
    "import seaborn as sns\n",
    "from IPython.display import display"
   ]
  },
  {
   "cell_type": "code",
   "execution_count": 21,
   "metadata": {},
   "outputs": [],
   "source": [
    "%matplotlib inline"
   ]
  },
  {
   "cell_type": "code",
   "execution_count": 22,
   "metadata": {},
   "outputs": [
    {
     "name": "stdout",
     "output_type": "stream",
     "text": [
      "Tamaño del dataset 186\n",
      "Columnas del dataset Index(['group', 'city', 'count'], dtype='object')\n",
      "Conteo del dataset <bound method DataFrame.count of                       group                              city  count\n",
      "Your Fans      Buenos Aires   Ciudad Autónoma de Buenos Aires   1054\n",
      "Your Fans          La Plata                      Buenos Aires     62\n",
      "Your Fans           Córdoba                           Córdoba     60\n",
      "Your Fans     Venado Tuerto                          Santa Fe     37\n",
      "Your Fans           Rosario                          Santa Fe     31\n",
      "...                     ...                               ...    ...\n",
      "Your Fans           Ushuaia                  Tierra del Fuego      4\n",
      "Your Fans            Tandil                      Buenos Aires      4\n",
      "Your Fans  Florencio Varela                      Buenos Aires      4\n",
      "Your Fans            Paraná                        Entre Rios      4\n",
      "Your Fans           Maracay                            Aragua      4\n",
      "\n",
      "[62 rows x 3 columns]>\n"
     ]
    }
   ],
   "source": [
    "ciudades = pd.read_csv('../demographic-cities-20200418-to-20200716.csv')\n",
    "print(\"Tamaño del dataset\", ciudades.size)\n",
    "print(\"Columnas del dataset\", ciudades.columns)\n",
    "print(\"Conteo del dataset\", ciudades.count)"
   ]
  },
  {
   "cell_type": "code",
   "execution_count": 28,
   "metadata": {
    "scrolled": true
   },
   "outputs": [
    {
     "name": "stdout",
     "output_type": "stream",
     "text": [
      "Tamaño del dataset 186\n",
      "Columnas del dataset Index(['hashtags', 'Posts count', 'Reach', 'Engagement Rate'], dtype='object')\n",
      "Conteo del dataset <bound method DataFrame.count of                          hashtags  Posts count  Reach  Engagement Rate\n",
      "0                  #clubdelectura            1  522.0           11.300\n",
      "1               #EnPrimeraPersona            1  608.0           10.360\n",
      "2           #mujeresemprendedoras            1  374.0            9.730\n",
      "3                #sustentabilidad            1  374.0            9.730\n",
      "4                    #freelancers            5  444.4            9.652\n",
      "..                            ...          ...    ...              ...\n",
      "56             #alquilerdeestudio            1    0.0            0.000\n",
      "57  #alquilerdeestudiofotografico            1    0.0            0.000\n",
      "58                     #freelance            1    0.0            0.000\n",
      "59                          #work            1    0.0            0.000\n",
      "60                   #emprendedor            1    0.0            0.000\n",
      "\n",
      "[61 rows x 4 columns]>\n"
     ]
    }
   ],
   "source": [
    "hashtags = pd.read_csv('../posts-hashtags-20200418-to-20200716.csv')\n",
    "print(\"Tamaño del dataset\", ciudades.size)\n",
    "print(\"Columnas del dataset\", hashtags.columns)\n",
    "print(\"Conteo del dataset\", hashtags.count)\n"
   ]
  },
  {
   "cell_type": "code",
   "execution_count": 29,
   "metadata": {},
   "outputs": [
    {
     "name": "stdout",
     "output_type": "stream",
     "text": [
      "Tamaño del dataset 180\n",
      "Columnas del dataset Index(['date', 'Total Followers'], dtype='object')\n",
      "Conteo del dataset <bound method DataFrame.count of           date  Total Followers\n",
      "0   04/17/2020             1299\n",
      "1   04/18/2020             1306\n",
      "2   04/19/2020             1330\n",
      "3   04/20/2020             1337\n",
      "4   04/21/2020             1345\n",
      "..         ...              ...\n",
      "85  07/11/2020             2123\n",
      "86  07/12/2020             2126\n",
      "87  07/13/2020             2130\n",
      "88  07/14/2020             2138\n",
      "89  07/15/2020             2139\n",
      "\n",
      "[90 rows x 2 columns]>\n"
     ]
    }
   ],
   "source": [
    "metricas = pd.read_csv('../metrics-breakdown-20200418-to-20200716.csv')\n",
    "print(\"Tamaño del dataset\", metricas.size)\n",
    "print(\"Columnas del dataset\", metricas.columns)\n",
    "print(\"Conteo del dataset\", metricas.count)"
   ]
  },
  {
   "cell_type": "code",
   "execution_count": 30,
   "metadata": {},
   "outputs": [
    {
     "name": "stdout",
     "output_type": "stream",
     "text": [
      "Tamaño del dataset 6\n",
      "Columnas del dataset Index(['Posts', 'Impressions', 'Reach', 'Likes', 'Comments', 'New Followers'], dtype='object')\n",
      "Conteo del dataset <bound method DataFrame.count of    Posts  Impressions  Reach  Likes  Comments  New Followers\n",
      "0     25       106285  83725    952        22            840>\n"
     ]
    }
   ],
   "source": [
    "performance = pd.read_csv('../performance-statistics-20200418-to-20200716.csv')\n",
    "print(\"Tamaño del dataset\", performance.size)\n",
    "print(\"Columnas del dataset\", performance.columns)\n",
    "print(\"Conteo del dataset\", performance.count)"
   ]
  },
  {
   "cell_type": "code",
   "execution_count": 31,
   "metadata": {},
   "outputs": [
    {
     "data": {
      "text/html": [
       "<div>\n",
       "<style scoped>\n",
       "    .dataframe tbody tr th:only-of-type {\n",
       "        vertical-align: middle;\n",
       "    }\n",
       "\n",
       "    .dataframe tbody tr th {\n",
       "        vertical-align: top;\n",
       "    }\n",
       "\n",
       "    .dataframe thead th {\n",
       "        text-align: right;\n",
       "    }\n",
       "</style>\n",
       "<table border=\"1\" class=\"dataframe\">\n",
       "  <thead>\n",
       "    <tr style=\"text-align: right;\">\n",
       "      <th></th>\n",
       "      <th>Posts</th>\n",
       "      <th>Impressions</th>\n",
       "      <th>Reach</th>\n",
       "      <th>Likes</th>\n",
       "      <th>Comments</th>\n",
       "      <th>New Followers</th>\n",
       "    </tr>\n",
       "  </thead>\n",
       "  <tbody>\n",
       "    <tr>\n",
       "      <td>0</td>\n",
       "      <td>25</td>\n",
       "      <td>106285</td>\n",
       "      <td>83725</td>\n",
       "      <td>952</td>\n",
       "      <td>22</td>\n",
       "      <td>840</td>\n",
       "    </tr>\n",
       "  </tbody>\n",
       "</table>\n",
       "</div>"
      ],
      "text/plain": [
       "   Posts  Impressions  Reach  Likes  Comments  New Followers\n",
       "0     25       106285  83725    952        22            840"
      ]
     },
     "execution_count": 31,
     "metadata": {},
     "output_type": "execute_result"
    }
   ],
   "source": [
    "performance"
   ]
  },
  {
   "cell_type": "code",
   "execution_count": 32,
   "metadata": {},
   "outputs": [
    {
     "name": "stdout",
     "output_type": "stream",
     "text": [
      "Tamaño del dataset 75\n",
      "Columnas del dataset Index(['date', 'last_checked', 'id', 'media', 'serviceLink', 'comments',\n",
      "       'engagement', 'engagement_rate', 'impressions', 'likes', 'reach',\n",
      "       'saves', 'boosted_statistics', 'type', 'text'],\n",
      "      dtype='object')\n",
      "Conteo del dataset <bound method DataFrame.count of                   date  last_checked                 id  media  \\\n",
      "0  04/28/2020 10:16:19    1591964215  18085965034196639    NaN   \n",
      "1  05/04/2020 14:25:59    1591964215  17883775786569442    NaN   \n",
      "2  05/07/2020 17:05:58    1591964215  17866391137767054    NaN   \n",
      "3  05/10/2020 01:00:54    1591964215  17871974080725544    NaN   \n",
      "4  04/30/2020 07:58:51    1591964215  18103509448087691    NaN   \n",
      "\n",
      "                                serviceLink  comments  engagement  \\\n",
      "0  https://www.instagram.com/p/B_hqCK9jykK/         1           0   \n",
      "1  https://www.instagram.com/p/B_xjYB8DAJI/         0           0   \n",
      "2  https://www.instagram.com/p/B_5kC89DQG1/         0           0   \n",
      "3  https://www.instagram.com/p/B__j-wtjWod/         0           0   \n",
      "4  https://www.instagram.com/p/B_mj5LpDd_2/         1           0   \n",
      "\n",
      "   engagement_rate  impressions  likes  reach  saves  boosted_statistics  \\\n",
      "0                0            0     31      0      0                 NaN   \n",
      "1                0            0     26      0      0                 NaN   \n",
      "2                0            0     34      0      0                 NaN   \n",
      "3                0            0     35      0      0                 NaN   \n",
      "4                0            0     26      0      0                 NaN   \n",
      "\n",
      "             type                                               text  \n",
      "0           image  ¿Tenés un taller que usas pocas horas?🤔 ¡Enton...  \n",
      "1           image  ¿Estás buscando un lugar donde sacar fotos?📸🤔 ...  \n",
      "2           video                                                NaN  \n",
      "3           video                                                NaN  \n",
      "4  carousel_album  ¿Buscás un taller?🤔 Hay disponibles a 400mts d...  >\n"
     ]
    }
   ],
   "source": [
    "posts = pd.read_csv('../posts-20200418-to-20200716.csv')\n",
    "print(\"Tamaño del dataset\", posts.size)\n",
    "print(\"Columnas del dataset\", posts.columns)\n",
    "print(\"Conteo del dataset\", posts.count)"
   ]
  },
  {
   "cell_type": "code",
   "execution_count": 36,
   "metadata": {},
   "outputs": [
    {
     "data": {
      "text/plain": [
       "5"
      ]
     },
     "execution_count": 36,
     "metadata": {},
     "output_type": "execute_result"
    }
   ],
   "source": [
    "posts.id.size"
   ]
  },
  {
   "cell_type": "code",
   "execution_count": null,
   "metadata": {},
   "outputs": [],
   "source": []
  }
 ],
 "metadata": {
  "kernelspec": {
   "display_name": "Python 3",
   "language": "python",
   "name": "python3"
  },
  "language_info": {
   "codemirror_mode": {
    "name": "ipython",
    "version": 3
   },
   "file_extension": ".py",
   "mimetype": "text/x-python",
   "name": "python",
   "nbconvert_exporter": "python",
   "pygments_lexer": "ipython3",
   "version": "3.8.3"
  }
 },
 "nbformat": 4,
 "nbformat_minor": 4
}
