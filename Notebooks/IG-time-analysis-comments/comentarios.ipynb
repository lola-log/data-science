{
 "cells": [
  {
   "cell_type": "markdown",
   "metadata": {},
   "source": [
    "**LIBRERIAS**"
   ]
  },
  {
   "cell_type": "code",
   "execution_count": 1,
   "metadata": {},
   "outputs": [],
   "source": [
    "import pandas as pd\n",
    "import numpy as np\n",
    "import seaborn as sns\n",
    "import matplotlib.pyplot as plt\n",
    "# import datetime class from datetime module\n",
    "from datetime import datetime\n",
    "from datetime import date\n",
    "from datetime import time\n",
    "from time import sleep\n",
    "\n",
    "\n",
    "sns.set()"
   ]
  },
  {
   "cell_type": "markdown",
   "metadata": {},
   "source": [
    "# **EXPLORACIÓN DEL DATASET**"
   ]
  },
  {
   "cell_type": "code",
   "execution_count": null,
   "metadata": {},
   "outputs": [],
   "source": [
    "df = pd.read_csv('commentarios.csv')\n",
    "\n",
    "lunes = pd.read_csv('commentarios.csv')\n",
    "martes = pd.read_csv('commentarios.csv')\n",
    "miercoles = pd.read_csv('commentarios.csv')\n",
    "jueves = pd.read_csv('commentarios.csv')\n",
    "viernes = pd.read_csv('commentarios.csv')\n",
    "sabado = pd.read_csv('commentarios.csv')\n",
    "domingo = pd.read_csv('commentarios.csv')\n",
    "\n",
    "df.head(5)"
   ]
  },
  {
   "cell_type": "code",
   "execution_count": 3,
   "metadata": {},
   "outputs": [
    {
     "data": {
      "text/plain": [
       "2430"
      ]
     },
     "execution_count": 3,
     "metadata": {},
     "output_type": "execute_result"
    }
   ],
   "source": [
    "df.size"
   ]
  },
  {
   "cell_type": "code",
   "execution_count": null,
   "metadata": {},
   "outputs": [],
   "source": [
    "df.columns"
   ]
  },
  {
   "cell_type": "code",
   "execution_count": null,
   "metadata": {},
   "outputs": [],
   "source": [
    "print(df.shape)\n",
    "print(\"81 filas, 30 columnas\")"
   ]
  },
  {
   "cell_type": "code",
   "execution_count": null,
   "metadata": {},
   "outputs": [],
   "source": [
    "df.isna().sum()"
   ]
  },
  {
   "cell_type": "code",
   "execution_count": null,
   "metadata": {},
   "outputs": [],
   "source": [
    "# get current date\n",
    "datetime_object = datetime.now()\n",
    "print(datetime_object)\n",
    "print('Type :- ',type(datetime_object))"
   ]
  },
  {
   "cell_type": "markdown",
   "metadata": {},
   "source": [
    "**AGREGO TIEMPO DE BUENOS AIRES**"
   ]
  },
  {
   "cell_type": "code",
   "execution_count": 8,
   "metadata": {},
   "outputs": [],
   "source": [
    "from time import sleep\n",
    "# Converts date from unix time to YYYY-MM-DD hh24:mm:ss\n",
    "df.created_at = pd.to_datetime(df.created_at)\n",
    "df.created_at_ba = pd.to_datetime(df.created_at_ba)\n",
    "\n",
    "\n",
    "#df.created_at_ba.dt.hour.value_counts().sort_index().plot(kind='bar', figsize=(12,6))"
   ]
  },
  {
   "cell_type": "markdown",
   "metadata": {},
   "source": [
    "**AGREGO DÍAS DE LA SEMANA**"
   ]
  },
  {
   "cell_type": "code",
   "execution_count": null,
   "metadata": {},
   "outputs": [],
   "source": [
    "#lunes = df[df.index.weekday==0]\n",
    "df[\"weekday\"] = pd.to_datetime(df.created_at_ba).dt.dayofweek\n",
    "df.weekday"
   ]
  },
  {
   "cell_type": "markdown",
   "metadata": {},
   "source": [
    "**CORROBORO LOS DATOS**"
   ]
  },
  {
   "cell_type": "code",
   "execution_count": null,
   "metadata": {},
   "outputs": [],
   "source": [
    "df.columns"
   ]
  },
  {
   "cell_type": "code",
   "execution_count": null,
   "metadata": {},
   "outputs": [],
   "source": [
    "df.head(5)"
   ]
  },
  {
   "cell_type": "markdown",
   "metadata": {},
   "source": [
    "# **separo el dataset por días de la semana**"
   ]
  },
  {
   "cell_type": "code",
   "execution_count": null,
   "metadata": {},
   "outputs": [],
   "source": [
    "#AGREGO HORARIOS DE BUENOS AIRES\n",
    "lunes.created_at = pd.to_datetime(lunes.created_at)\n",
    "lunes.created_at_ba = pd.to_datetime(lunes.created_at_ba)\n",
    "#AGREGO DIAS DE LA SEMANA\n",
    "lunes[\"weekday\"] = pd.to_datetime(lunes.created_at_ba).dt.dayofweek\n",
    "lunes.loc[lunes[\"weekday\"] ==0]\n",
    "\n",
    "lunes.head(5)"
   ]
  },
  {
   "cell_type": "code",
   "execution_count": null,
   "metadata": {},
   "outputs": [],
   "source": [
    "df.head(5)"
   ]
  },
  {
   "cell_type": "code",
   "execution_count": null,
   "metadata": {},
   "outputs": [],
   "source": [
    "martes.created_at = pd.to_datetime(martes.created_at)\n",
    "martes.created_at_ba = pd.to_datetime(martes.created_at_ba)\n",
    "martes[\"weekday\"] = pd.to_datetime(martes.created_at_ba).dt.dayofweek\n",
    "martes =martes.loc[martes[\"weekday\"] ==1]\n",
    "\n",
    "martes.head(5)"
   ]
  },
  {
   "cell_type": "code",
   "execution_count": null,
   "metadata": {},
   "outputs": [],
   "source": [
    "miercoles.created_at = pd.to_datetime(miercoles.created_at)\n",
    "miercoles.created_at_ba = pd.to_datetime(miercoles.created_at_ba)\n",
    "miercoles[\"weekday\"] = pd.to_datetime(miercoles.created_at_ba).dt.dayofweek\n",
    "miercoles =miercoles.loc[miercoles[\"weekday\"] ==2]\n",
    "\n",
    "miercoles.head(5)"
   ]
  },
  {
   "cell_type": "code",
   "execution_count": null,
   "metadata": {},
   "outputs": [],
   "source": [
    "jueves.created_at = pd.to_datetime(jueves.created_at)\n",
    "jueves.created_at_ba = pd.to_datetime(jueves.created_at_ba)\n",
    "jueves[\"weekday\"] = pd.to_datetime(jueves.created_at_ba).dt.dayofweek\n",
    "jueves =jueves.loc[jueves[\"weekday\"] ==3]\n",
    "\n",
    "jueves.head(5)"
   ]
  },
  {
   "cell_type": "code",
   "execution_count": null,
   "metadata": {},
   "outputs": [],
   "source": [
    "viernes.created_at = pd.to_datetime(viernes.created_at)\n",
    "viernes.created_at_ba = pd.to_datetime(viernes.created_at_ba)\n",
    "viernes[\"weekday\"] = pd.to_datetime(viernes.created_at_ba).dt.dayofweek\n",
    "viernes =viernes.loc[viernes[\"weekday\"] ==4]\n",
    "\n",
    "viernes.head(5)"
   ]
  },
  {
   "cell_type": "code",
   "execution_count": null,
   "metadata": {},
   "outputs": [],
   "source": [
    "sabado.created_at = pd.to_datetime(sabado.created_at)\n",
    "sabado.created_at_ba = pd.to_datetime(sabado.created_at_ba)\n",
    "sabado[\"weekday\"] = pd.to_datetime(sabado.created_at_ba).dt.dayofweek\n",
    "sabado =sabado.loc[sabado[\"weekday\"] ==5]\n",
    "\n",
    "sabado.head(5)"
   ]
  },
  {
   "cell_type": "code",
   "execution_count": null,
   "metadata": {},
   "outputs": [],
   "source": [
    "domingo.created_at = pd.to_datetime(domingo.created_at)\n",
    "domingo.created_at_ba = pd.to_datetime(domingo.created_at_ba)\n",
    "domingo[\"weekday\"] = pd.to_datetime(domingo.created_at_ba).dt.dayofweek\n",
    "domingo =domingo.loc[domingo[\"weekday\"] ==6]\n",
    "\n",
    "domingo.head(5)"
   ]
  },
  {
   "cell_type": "markdown",
   "metadata": {},
   "source": [
    "# MEJOR HORARIO SEGUN DÍA"
   ]
  },
  {
   "cell_type": "code",
   "execution_count": 20,
   "metadata": {},
   "outputs": [
    {
     "data": {
      "text/plain": [
       "<matplotlib.axes._subplots.AxesSubplot at 0x11dcdbd30>"
      ]
     },
     "execution_count": 20,
     "metadata": {},
     "output_type": "execute_result"
    },
    {
     "data": {
      "image/png": "[encoded data removed]",
      "text/plain": [
       "<Figure size 864x432 with 1 Axes>"
      ]
     },
     "metadata": {},
     "output_type": "display_data"
    }
   ],
   "source": [
    "lunes.created_at_ba.dt.hour.value_counts().sort_index().plot(kind='bar', figsize=(12,6),title='Lunes')"
   ]
  },
  {
   "cell_type": "code",
   "execution_count": 21,
   "metadata": {},
   "outputs": [
    {
     "data": {
      "text/plain": [
       "<matplotlib.axes._subplots.AxesSubplot at 0x11dfe3e80>"
      ]
     },
     "execution_count": 21,
     "metadata": {},
     "output_type": "execute_result"
    },
    {
     "data": {
      "image/png": "[encoded data removed]",
      "text/plain": [
       "<Figure size 864x432 with 1 Axes>"
      ]
     },
     "metadata": {},
     "output_type": "display_data"
    }
   ],
   "source": [
    "martes.created_at_ba.dt.hour.value_counts().sort_index().plot(kind='bar', figsize=(12,6), title='martes')"
   ]
  },
  {
   "cell_type": "code",
   "execution_count": 22,
   "metadata": {},
   "outputs": [
    {
     "data": {
      "text/plain": [
       "<matplotlib.axes._subplots.AxesSubplot at 0x11e20b850>"
      ]
     },
     "execution_count": 22,
     "metadata": {},
     "output_type": "execute_result"
    },
    {
     "data": {
      "image/png": "[encoded data removed]",
      "text/plain": [
       "<Figure size 864x432 with 1 Axes>"
      ]
     },
     "metadata": {},
     "output_type": "display_data"
    }
   ],
   "source": [
    "miercoles.created_at_ba.dt.hour.value_counts().sort_index().plot(kind='bar', figsize=(12,6), title='miercoles')"
   ]
  },
  {
   "cell_type": "code",
   "execution_count": 23,
   "metadata": {},
   "outputs": [
    {
     "data": {
      "text/plain": [
       "<matplotlib.axes._subplots.AxesSubplot at 0x11dfdc730>"
      ]
     },
     "execution_count": 23,
     "metadata": {},
     "output_type": "execute_result"
    },
    {
     "data": {
      "image/png": "[encoded data removed]",
      "text/plain": [
       "<Figure size 864x432 with 1 Axes>"
      ]
     },
     "metadata": {},
     "output_type": "display_data"
    }
   ],
   "source": [
    "jueves.created_at_ba.dt.hour.value_counts().sort_index().plot(kind='bar', figsize=(12,6), title='jueves')"
   ]
  },
  {
   "cell_type": "code",
   "execution_count": 24,
   "metadata": {},
   "outputs": [
    {
     "data": {
      "text/plain": [
       "<matplotlib.axes._subplots.AxesSubplot at 0x11e508ca0>"
      ]
     },
     "execution_count": 24,
     "metadata": {},
     "output_type": "execute_result"
    },
    {
     "data": {
      "image/png": "[encoded data removed]",
      "text/plain": [
       "<Figure size 864x432 with 1 Axes>"
      ]
     },
     "metadata": {},
     "output_type": "display_data"
    }
   ],
   "source": [
    "viernes.created_at_ba.dt.hour.value_counts().sort_index().plot(kind='bar', figsize=(12,6), title='viernes')"
   ]
  },
  {
   "cell_type": "code",
   "execution_count": 25,
   "metadata": {},
   "outputs": [
    {
     "data": {
      "text/plain": [
       "<matplotlib.axes._subplots.AxesSubplot at 0x11e667f70>"
      ]
     },
     "execution_count": 25,
     "metadata": {},
     "output_type": "execute_result"
    },
    {
     "data": {
      "image/png": "[encoded data removed]",
      "text/plain": [
       "<Figure size 864x432 with 1 Axes>"
      ]
     },
     "metadata": {},
     "output_type": "display_data"
    }
   ],
   "source": [
    "sabado.created_at_ba.dt.hour.value_counts().sort_index().plot(kind='bar', figsize=(12,6), title='sabado')"
   ]
  },
  {
   "cell_type": "code",
   "execution_count": 26,
   "metadata": {},
   "outputs": [
    {
     "data": {
      "text/plain": [
       "<matplotlib.axes._subplots.AxesSubplot at 0x11e806b20>"
      ]
     },
     "execution_count": 26,
     "metadata": {},
     "output_type": "execute_result"
    },
    {
     "data": {
      "image/png": "[encoded data removed]",
      "text/plain": [
       "<Figure size 864x432 with 1 Axes>"
      ]
     },
     "metadata": {},
     "output_type": "display_data"
    }
   ],
   "source": [
    "domingo.created_at_ba.dt.hour.value_counts().sort_index().plot(kind='bar', figsize=(12,6), title='domingo')"
   ]
  }
 ],
 "metadata": {
  "kernelspec": {
   "display_name": "Python 3",
   "language": "python",
   "name": "python3"
  },
  "language_info": {
   "codemirror_mode": {
    "name": "ipython",
    "version": 3
   },
   "file_extension": ".py",
   "mimetype": "text/x-python",
   "name": "python",
   "nbconvert_exporter": "python",
   "pygments_lexer": "ipython3",
   "version": "3.8.3"
  }
 },
 "nbformat": 4,
 "nbformat_minor": 4
}
