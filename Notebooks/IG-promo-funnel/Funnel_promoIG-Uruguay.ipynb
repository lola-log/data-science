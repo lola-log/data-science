{
 "cells": [
  {
   "cell_type": "markdown",
   "metadata": {},
   "source": [
    "**Promo Uruguay IG**"
   ]
  },
  {
   "cell_type": "code",
   "execution_count": 1,
   "metadata": {},
   "outputs": [],
   "source": [
    "import plotly.graph_objects as go\n",
    "import plotly.express as px\n"
   ]
  },
  {
   "cell_type": "raw",
   "metadata": {},
   "source": [
    "data = dict(\n",
    "    number=[48935, 590, 136, 3],\n",
    "    stage=[\"Atracción\", \"Interacción\", \"Conversión\", \"Fidelización\"])\n",
    "fig = px.funnel(data, x='number', y='stage')\n",
    "fig.write_html('first_figure.html', auto_open=True)"
   ]
  },
  {
   "cell_type": "code",
   "execution_count": 3,
   "metadata": {},
   "outputs": [],
   "source": [
    "ravignani_ig = px.funnel_area(names=[\"53.110  Atracción\", \"785      Interacción\", \"0        Conversión\"],\n",
    "                    values=[53110, 785, 0])\n",
    "ravignani_ig.write_html('first_figure.html', auto_open=True)"
   ]
  },
  {
   "cell_type": "code",
   "execution_count": 14,
   "metadata": {},
   "outputs": [],
   "source": [
    "ravignani_ig = px.funnel_area(names=[ \"590      Interacción\", \"136      Conversión\", \"3          Fidelización\"],\n",
    "                    values=[ 590, 136, 3])\n",
    "ravignani_ig.write_html('first_figure.html', auto_open=True)"
   ]
  },
  {
   "cell_type": "code",
   "execution_count": null,
   "metadata": {},
   "outputs": [],
   "source": []
  }
 ],
 "metadata": {
  "kernelspec": {
   "display_name": "Python 3",
   "language": "python",
   "name": "python3"
  },
  "language_info": {
   "codemirror_mode": {
    "name": "ipython",
    "version": 3
   },
   "file_extension": ".py",
   "mimetype": "text/x-python",
   "name": "python",
   "nbconvert_exporter": "python",
   "pygments_lexer": "ipython3",
   "version": "3.8.5"
  }
 },
 "nbformat": 4,
 "nbformat_minor": 4
}
