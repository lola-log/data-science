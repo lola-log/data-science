{
 "cells": [
  {
   "cell_type": "code",
   "execution_count": 1,
   "metadata": {},
   "outputs": [],
   "source": [
    "import pandas as pd\n",
    "import numpy as np"
   ]
  },
  {
   "cell_type": "code",
   "execution_count": 2,
   "metadata": {},
   "outputs": [],
   "source": [
    "df = pd.read_csv('../datasets/DP_LIVE_29092020161528569.csv')\n"
   ]
  },
  {
   "cell_type": "code",
   "execution_count": null,
   "metadata": {},
   "outputs": [],
   "source": [
    "df.columns"
   ]
  },
  {
   "cell_type": "code",
   "execution_count": 4,
   "metadata": {},
   "outputs": [
    {
     "name": "stdout",
     "output_type": "stream",
     "text": [
      "El dataset que vamos a trabajar aquí tiene 772 observaciones\n"
     ]
    }
   ],
   "source": [
    "print(\"El dataset que vamos a trabajar aquí tiene {} observaciones\".format(df.shape[0]))"
   ]
  },
  {
   "cell_type": "code",
   "execution_count": 5,
   "metadata": {},
   "outputs": [],
   "source": [
    "locaciones = df.LOCATION"
   ]
  },
  {
   "cell_type": "code",
   "execution_count": 6,
   "metadata": {},
   "outputs": [],
   "source": [
    "df = df.drop(['LOCATION','INDICATOR', 'SUBJECT','MEASURE','FREQUENCY', 'Flag Codes'], axis = 1)"
   ]
  },
  {
   "cell_type": "code",
   "execution_count": 7,
   "metadata": {},
   "outputs": [
    {
     "data": {
      "text/plain": [
       "Index(['TIME', 'Value'], dtype='object')"
      ]
     },
     "execution_count": 7,
     "metadata": {},
     "output_type": "execute_result"
    }
   ],
   "source": [
    "df.columns"
   ]
  },
  {
   "cell_type": "code",
   "execution_count": null,
   "metadata": {},
   "outputs": [],
   "source": [
    "df.head(10)"
   ]
  },
  {
   "cell_type": "code",
   "execution_count": 9,
   "metadata": {},
   "outputs": [],
   "source": [
    "df.Value = df.Value.round(decimals=1)"
   ]
  },
  {
   "cell_type": "code",
   "execution_count": null,
   "metadata": {},
   "outputs": [],
   "source": [
    "df.head(10)"
   ]
  },
  {
   "cell_type": "code",
   "execution_count": null,
   "metadata": {},
   "outputs": [],
   "source": [
    "locaciones"
   ]
  },
  {
   "cell_type": "code",
   "execution_count": 12,
   "metadata": {},
   "outputs": [],
   "source": [
    "dictionary = { \n",
    "    'LUX':'Luxemburgo',\n",
    "    'ARG':'Argentina',\n",
    "    'AUS':'Australia',\n",
    "    'AUT':'Austrua',\n",
    "    'BEL':'Belgica',\n",
    "    'BGR':'Bulgaria',\n",
    "    'CAN':'Canada',\n",
    "    'CHL':'Chile',\n",
    "    'CHN':'China',\n",
    "    'COL':'Colombia',\n",
    "    'CRI':'Costa Rica',\n",
    "    'CZE':'Republica Checa',\n",
    "    'DNK':'Dinamarca',\n",
    "    'EA17':'Euro Area(17 países)',\n",
    "    'ESP':'España',\n",
    "    'EST':'Estonia',\n",
    "    'FIN':'Finalndia',\n",
    "    'FRA':'Francia',\n",
    "    'GBR':'Reino Unido',\n",
    "    'DEU':'Alemania',\n",
    "    'CHE':'Suiza',\n",
    "    'GRC':'Grecia',\n",
    "    'HUN':'Hungría',\n",
    "    'IND':'Indonesia',\n",
    "    'IRL':'Irlanda',\n",
    "    'ISL':'Islandia',\n",
    "    'ISR':'Israel',\n",
    "    'ITA':'Italia',\n",
    "    'JPN':'Japon',\n",
    "    'KOR':'Corea',\n",
    "    'LTU':'Lituania',\n",
    "    'LUX':'Luxemburgo',\n",
    "    'LVA':'Lavia',\n",
    "    'MEX':'Mexico',\n",
    "    'NOR':'Noruega',\n",
    "    'NLD':'Paises Bajos',\n",
    "    'NZL':'Nueva Zelanda',\n",
    "    'OECD':'OECD - Total',\n",
    "    'POL':'Polonia',\n",
    "    'PRT':'Portugal',\n",
    "    'ROU':'Romania',\n",
    "    'RUS':'Rusia',\n",
    "    'SVK':'Republica Eslovaca',\n",
    "    'SVN':'Slovenia',\n",
    "    'SWE':'Suiza',\n",
    "    'TUR':'Turquia',\n",
    "    'USA':'Estados Unidos'\n",
    "    \n",
    "             }"
   ]
  },
  {
   "cell_type": "code",
   "execution_count": 13,
   "metadata": {},
   "outputs": [],
   "source": [
    "def replace_all(text, dic):\n",
    "    for i, j in dic.items():\n",
    "        text = text.replace(i, j)\n",
    "    return text"
   ]
  },
  {
   "cell_type": "code",
   "execution_count": 14,
   "metadata": {},
   "outputs": [],
   "source": [
    "new_df = replace_all(locaciones,dictionary)"
   ]
  },
  {
   "cell_type": "code",
   "execution_count": null,
   "metadata": {
    "scrolled": true
   },
   "outputs": [],
   "source": [
    "new_df.values"
   ]
  },
  {
   "cell_type": "code",
   "execution_count": null,
   "metadata": {},
   "outputs": [],
   "source": [
    "df['Pais'] = new_df\n",
    "df.head(15)"
   ]
  },
  {
   "cell_type": "code",
   "execution_count": 17,
   "metadata": {},
   "outputs": [],
   "source": [
    "df.to_csv('2005 - 2021 (DP_LIVE_29092020161528569).csv')"
   ]
  },
  {
   "cell_type": "code",
   "execution_count": null,
   "metadata": {},
   "outputs": [],
   "source": []
  }
 ],
 "metadata": {
  "kernelspec": {
   "display_name": "Python 3",
   "language": "python",
   "name": "python3"
  },
  "language_info": {
   "codemirror_mode": {
    "name": "ipython",
    "version": 3
   },
   "file_extension": ".py",
   "mimetype": "text/x-python",
   "name": "python",
   "nbconvert_exporter": "python",
   "pygments_lexer": "ipython3",
   "version": "3.8.3"
  }
 },
 "nbformat": 4,
 "nbformat_minor": 4
}
