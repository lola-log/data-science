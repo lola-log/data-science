{
 "cells": [
  {
   "cell_type": "code",
   "execution_count": 1,
   "metadata": {},
   "outputs": [],
   "source": [
    "from selenium import webdriver\n",
    "from bs4 import BeautifulSoup\n",
    "import pandas as pd\n",
    "import datetime"
   ]
  },
  {
   "cell_type": "raw",
   "metadata": {},
   "source": [
    "driver = webdriver.Chrome('../chromedriver')\n",
    " \n",
    "# Extract description of a post from Instagram link\n",
    "driver.get('https://www.instagram.com/p/CEuFrSKDujr/?igshid=h8a6pktl97i8')\n",
    "soup = BeautifulSoup(driver.page_source,\"lxml\")\n",
    "desc = \" \"\n",
    " \n",
    "for item in soup.findAll('a'):\n",
    "    desc= desc + \" \" + str(item.string)\n",
    " \n",
    "# Extract tag list from Instagram post description\n",
    "taglist = desc.split()\n",
    "taglist = [x for x in taglist if x.startswith('#')]\n",
    "index = 0\n",
    "while index < len(taglist):\n",
    "    taglist[index] = taglist[index].strip('#')\n",
    "    index += 1\n",
    " \n"
   ]
  },
  {
   "cell_type": "code",
   "execution_count": 29,
   "metadata": {},
   "outputs": [
    {
     "name": "stdout",
     "output_type": "stream",
     "text": [
      "['consultorio', 'nutricionista', 'salud', 'saludable', 'bienestar', 'consulta', 'visitamedica', 'cardiologia']\n"
     ]
    }
   ],
   "source": [
    "# (OR) Copy-paste your tag list manually here\n",
    "taglist = [ 'consultorio' ,'nutricionista' ,'salud' \n",
    "    ,'saludable','bienestar' ,'consulta' ,'visitamedica'\n",
    "    ,'cardiologia' ]\n",
    "\n",
    "\n",
    "print(taglist)"
   ]
  },
  {
   "cell_type": "code",
   "execution_count": 30,
   "metadata": {},
   "outputs": [],
   "source": [
    "driver = webdriver.Chrome('../chromedriver')\n",
    "\n",
    "# Define dataframe to store hashtag information\n",
    "tag_df  = pd.DataFrame(columns = ['Hashtag', 'Number of Posts', 'Post Frequency' ])\n",
    " \n",
    "# Loop over each hashtag to extract information\n",
    "for tag in taglist:\n",
    " \n",
    "    driver.get('https://www.instagram.com/explore/tags/'+str(tag))\n",
    "    soup = BeautifulSoup(driver.page_source,\"lxml\")\n",
    " \n",
    "    # Extract current hashtag name\n",
    "    tagname = tag\n",
    "    # Extract total number of posts in this hashtag\n",
    "    # NOTE: Class name may change in the website code\n",
    "    # Get the latest class name by inspecting web code\n",
    "    nposts = soup.find('span', {'class': 'g47SY'})\n",
    " \n",
    "    # Extract all post links from 'explore tags' page\n",
    "    # Needed to extract post frequency of recent posts\n",
    "    myli = []\n",
    "    for a in soup.find_all('a', href=True):\n",
    "        myli.append(a['href'])\n",
    " \n",
    "    # Keep link of only 1st and 9th most recent post\n",
    "    newmyli = [x for x in myli if x.startswith('/p/')]\n",
    "    del newmyli[:9]\n",
    "    del newmyli[9:]\n",
    "    del newmyli[1:8]\n",
    " \n",
    "    timediff = []\n",
    " \n",
    "    # Extract the posting time of 1st and 9th most recent post for a tag\n",
    "    for j in range(len(newmyli)):\n",
    "        driver.get('https://www.instagram.com'+str(newmyli[j]))\n",
    "        soup = BeautifulSoup(driver.page_source,\"lxml\")\n",
    " \n",
    "        for i in soup.findAll('time'):\n",
    "            if i.has_attr('datetime'):\n",
    "                timediff.append(i['datetime'])\n",
    "                #print(i['datetime'])\n",
    " \n",
    "    # Calculate time difference between posts\n",
    "    # For obtaining posting frequency\n",
    "    #datetimeFormat = '%Y-%m-%dT%H:%M:%S.%fZ'\n",
    "    #item1=datetime.datetime.strptime(timediff[1], datetimeFormat)\n",
    "    #item2=(datetime.datetime.strptime(timediff[0], datetimeFormat))\n",
    "    #print(item1)\n",
    "    #print(item2)\n",
    "    #diff = item1 - item2\n",
    "    #pfreq= int(diff.total_seconds()/(9*60))\n",
    " \n",
    "    # Add hashtag info to dataframe\n",
    "    tag_df.loc[len(tag_df)] = [tagname, nposts, pfreq]\n",
    " \n",
    "driver.quit()"
   ]
  },
  {
   "cell_type": "code",
   "execution_count": 31,
   "metadata": {},
   "outputs": [
    {
     "name": "stdout",
     "output_type": "stream",
     "text": [
      "         Hashtag Number of Posts Post Frequency\n",
      "0    consultorio       [507,351]              0\n",
      "1  nutricionista     [4,907,891]              0\n",
      "2          salud    [21,963,872]              0\n",
      "3      saludable     [8,176,699]              0\n",
      "4      bienestar     [7,851,376]              0\n",
      "5       consulta       [726,121]              0\n",
      "6   visitamedica        [15,561]              0\n",
      "7    cardiologia       [531,953]              0\n"
     ]
    }
   ],
   "source": [
    "# Check the final dataframe\n",
    "print(tag_df)\n",
    " \n"
   ]
  },
  {
   "cell_type": "raw",
   "metadata": {},
   "source": [
    "# CSV output for hashtag analysis\n",
    "tag_df.to_csv('hashtag_list04.csv')"
   ]
  },
  {
   "cell_type": "code",
   "execution_count": null,
   "metadata": {},
   "outputs": [],
   "source": [
    " # Calculate time difference between posts\n",
    "    # For obtaining posting frequency\n",
    "    #datetimeFormat = '%Y-%m-%dT%H:%M:%S.%fZ'\n",
    "    #diff = datetime.datetime.strptime(timediff[0], datetimeFormat) - datetime.datetime.strptime(timediff[1], datetimeFormat)\n",
    "    #pfreq= int(diff.total_seconds()/(9*60))"
   ]
  },
  {
   "cell_type": "code",
   "execution_count": null,
   "metadata": {},
   "outputs": [],
   "source": [
    "datetimeFormat = '%Y-%m-%dT%H:%M:%S.%fZ'\n"
   ]
  },
  {
   "cell_type": "code",
   "execution_count": null,
   "metadata": {},
   "outputs": [],
   "source": [
    "diff = datetime.datetime.strptime(timediff[0], datetimeFormat)  - datetime.datetime.strptime(timediff[1], datetimeFormat)"
   ]
  },
  {
   "cell_type": "code",
   "execution_count": null,
   "metadata": {},
   "outputs": [],
   "source": [
    "pfreq= int(diff.total_seconds()/(9*60))"
   ]
  },
  {
   "cell_type": "code",
   "execution_count": null,
   "metadata": {},
   "outputs": [],
   "source": [
    "pfreq"
   ]
  },
  {
   "cell_type": "code",
   "execution_count": null,
   "metadata": {},
   "outputs": [],
   "source": []
  }
 ],
 "metadata": {
  "kernelspec": {
   "display_name": "Python 3",
   "language": "python",
   "name": "python3"
  },
  "language_info": {
   "codemirror_mode": {
    "name": "ipython",
    "version": 3
   },
   "file_extension": ".py",
   "mimetype": "text/x-python",
   "name": "python",
   "nbconvert_exporter": "python",
   "pygments_lexer": "ipython3",
   "version": "3.8.3"
  }
 },
 "nbformat": 4,
 "nbformat_minor": 4
}
