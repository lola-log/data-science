{
 "cells": [
  {
   "cell_type": "code",
   "execution_count": 1,
   "metadata": {},
   "outputs": [],
   "source": [
    "from selenium import webdriver\n",
    "from bs4 import BeautifulSoup\n",
    "import pandas as pd\n",
    "import datetime"
   ]
  },
  {
   "cell_type": "markdown",
   "metadata": {},
   "source": [
    "driver = webdriver.Chrome('../chromedriver')\n",
    " \n",
    "# Extract description of a post from Instagram link\n",
    "driver.get('https://www.instagram.com/p/CEuFrSKDujr/?igshid=h8a6pktl97i8')\n",
    "soup = BeautifulSoup(driver.page_source,\"lxml\")\n",
    "desc = \" \"\n",
    " \n",
    "for item in soup.findAll('a'):\n",
    "    desc= desc + \" \" + str(item.string)\n",
    " \n",
    "# Extract tag list from Instagram post description\n",
    "taglist = desc.split()\n",
    "taglist = [x for x in taglist if x.startswith('#')]\n",
    "index = 0\n",
    "while index < len(taglist):\n",
    "    taglist[index] = taglist[index].strip('#')\n",
    "    index += 1\n",
    " \n"
   ]
  },
  {
   "cell_type": "code",
   "execution_count": null,
   "metadata": {},
   "outputs": [],
   "source": [
    "# (OR) Copy-paste your tag list manually here\n",
    "taglist = ['art', 'instaart', 'iblackwork']\n",
    " \n",
    "print(taglist)"
   ]
  },
  {
   "cell_type": "code",
   "execution_count": 5,
   "metadata": {},
   "outputs": [],
   "source": [
    "# Define dataframe to store hashtag information\n",
    "tag_df  = pd.DataFrame(columns = ['Hashtag', 'Number of Posts', 'Posting Freq (mins)'])\n",
    " \n",
    "# Loop over each hashtag to extract information\n",
    "for tag in taglist:\n",
    " \n",
    "    driver.get('https://www.instagram.com/explore/tags/'+str(tag))\n",
    "    soup = BeautifulSoup(driver.page_source,\"lxml\")\n",
    " \n",
    "    # Extract current hashtag name\n",
    "    tagname = tag\n",
    "    # Extract total number of posts in this hashtag\n",
    "    # NOTE: Class name may change in the website code\n",
    "    # Get the latest class name by inspecting web code\n",
    "    nposts = soup.find('span', {'class': 'g47SY'}).text\n",
    " \n",
    "    # Extract all post links from 'explore tags' page\n",
    "    # Needed to extract post frequency of recent posts\n",
    "    myli = []\n",
    "    for a in soup.find_all('a', href=True):\n",
    "        myli.append(a['href'])\n",
    " \n",
    "    # Keep link of only 1st and 9th most recent post\n",
    "    newmyli = [x for x in myli if x.startswith('/p/')]\n",
    "    del newmyli[:9]\n",
    "    del newmyli[9:]\n",
    "    del newmyli[1:8]\n",
    " \n",
    "    timediff = []\n",
    " \n",
    "    # Extract the posting time of 1st and 9th most recent post for a tag\n",
    "    for j in range(len(newmyli)):\n",
    "        driver.get('https://www.instagram.com'+str(newmyli[j]))\n",
    "        soup = BeautifulSoup(driver.page_source,\"lxml\")\n",
    " \n",
    "        for i in soup.findAll('time'):\n",
    "            if i.has_attr('datetime'):\n",
    "                timediff.append(i['datetime'])\n",
    "                #print(i['datetime'])\n",
    " \n",
    "    # Calculate time difference between posts\n",
    "    # For obtaining posting frequency\n",
    "    datetimeFormat = '%Y-%m-%dT%H:%M:%S.%fZ'\n",
    "    diff = datetime.datetime.strptime(timediff[0], datetimeFormat)\\\n",
    "        - datetime.datetime.strptime(timediff[1], datetimeFormat)\n",
    "    pfreq= int(diff.total_seconds()/(9*60))\n",
    " \n",
    "    # Add hashtag info to dataframe\n",
    "    tag_df.loc[len(tag_df)] = [tagname, nposts, pfreq]\n",
    " \n",
    "driver.quit()"
   ]
  },
  {
   "cell_type": "code",
   "execution_count": 6,
   "metadata": {},
   "outputs": [
    {
     "name": "stdout",
     "output_type": "stream",
     "text": [
      "      Hashtag Number of Posts Posting Freq (mins)\n",
      "0         art     688,762,303                   0\n",
      "1    instaart      70,749,364                   0\n",
      "2  iblackwork         799,929                   0\n"
     ]
    }
   ],
   "source": [
    "# Check the final dataframe\n",
    "print(tag_df)\n",
    " \n"
   ]
  },
  {
   "cell_type": "raw",
   "metadata": {},
   "source": [
    "# CSV output for hashtag analysis\n",
    "tag_df.to_csv('hashtag_list3.csv')"
   ]
  }
 ],
 "metadata": {
  "kernelspec": {
   "display_name": "Python 3",
   "language": "python",
   "name": "python3"
  },
  "language_info": {
   "codemirror_mode": {
    "name": "ipython",
    "version": 3
   },
   "file_extension": ".py",
   "mimetype": "text/x-python",
   "name": "python",
   "nbconvert_exporter": "python",
   "pygments_lexer": "ipython3",
   "version": "3.8.3"
  }
 },
 "nbformat": 4,
 "nbformat_minor": 4
}
