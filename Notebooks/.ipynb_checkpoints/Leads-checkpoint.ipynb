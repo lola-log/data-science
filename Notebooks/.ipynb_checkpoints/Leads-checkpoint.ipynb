{
 "cells": [
  {
   "cell_type": "code",
   "execution_count": 1,
   "metadata": {},
   "outputs": [],
   "source": [
    "import numpy as np\n",
    "import pandas as pd\n",
    "import matplotlib.pylab as plt\n",
    "import seaborn as sns\n",
    "from IPython.display import display"
   ]
  },
  {
   "cell_type": "code",
   "execution_count": 2,
   "metadata": {},
   "outputs": [],
   "source": [
    "%matplotlib inline"
   ]
  },
  {
   "cell_type": "code",
   "execution_count": 3,
   "metadata": {},
   "outputs": [
    {
     "name": "stdout",
     "output_type": "stream",
     "text": [
      "Tamaño del dataset 22816\n",
      "\n",
      "Columnas del dataset Index(['Quien lo ingreso', 'Nombre', 'Apellido', 'Tipo', 'emprendedor',\n",
      "       'Email', 'Segundo Contacto', 'Telefono Segundo Contacto - si lo hay',\n",
      "       'Email Segundo contacto - si lo hay', 'Industria', 'Tipo_de_Espacio',\n",
      "       'Comunas', 'Fuente_de_Lead', 'Status_de_Lead ', 'Descripcion',\n",
      "       'Sitio Web', 'Facebook', 'Instagram', 'Twitter', 'Compañia',\n",
      "       'Sup. total (m2)', 'Dirección', 'Ciudad'],\n",
      "      dtype='object')\n"
     ]
    }
   ],
   "source": [
    "df = pd.read_csv('../carga_de_leads_al_zoho.csv')\n",
    "print(\"Tamaño del dataset\", df.size)\n",
    "print(\"\")\n",
    "print(\"Columnas del dataset\", df.columns)"
   ]
  },
  {
   "cell_type": "code",
   "execution_count": 4,
   "metadata": {},
   "outputs": [
    {
     "name": "stdout",
     "output_type": "stream",
     "text": [
      "(992, 23)\n"
     ]
    },
    {
     "data": {
      "text/html": [
       "<div>\n",
       "<style scoped>\n",
       "    .dataframe tbody tr th:only-of-type {\n",
       "        vertical-align: middle;\n",
       "    }\n",
       "\n",
       "    .dataframe tbody tr th {\n",
       "        vertical-align: top;\n",
       "    }\n",
       "\n",
       "    .dataframe thead th {\n",
       "        text-align: right;\n",
       "    }\n",
       "</style>\n",
       "<table border=\"1\" class=\"dataframe\">\n",
       "  <thead>\n",
       "    <tr style=\"text-align: right;\">\n",
       "      <th></th>\n",
       "      <th>Quien lo ingreso</th>\n",
       "      <th>Nombre</th>\n",
       "      <th>Apellido</th>\n",
       "      <th>Tipo</th>\n",
       "      <th>emprendedor</th>\n",
       "      <th>Email</th>\n",
       "      <th>Segundo Contacto</th>\n",
       "      <th>Telefono Segundo Contacto - si lo hay</th>\n",
       "      <th>Email Segundo contacto - si lo hay</th>\n",
       "      <th>Industria</th>\n",
       "      <th>...</th>\n",
       "      <th>Status_de_Lead</th>\n",
       "      <th>Descripcion</th>\n",
       "      <th>Sitio Web</th>\n",
       "      <th>Facebook</th>\n",
       "      <th>Instagram</th>\n",
       "      <th>Twitter</th>\n",
       "      <th>Compañia</th>\n",
       "      <th>Sup. total (m2)</th>\n",
       "      <th>Dirección</th>\n",
       "      <th>Ciudad</th>\n",
       "    </tr>\n",
       "  </thead>\n",
       "  <tbody>\n",
       "    <tr>\n",
       "      <td>0</td>\n",
       "      <td>Noel</td>\n",
       "      <td>Verónica Alejandra</td>\n",
       "      <td>Jabit</td>\n",
       "      <td>Usuarix</td>\n",
       "      <td>15 6016 1746</td>\n",
       "      <td>veronicajatib3008@gmail.com</td>\n",
       "      <td>NaN</td>\n",
       "      <td>NaN</td>\n",
       "      <td>NaN</td>\n",
       "      <td>Gastronomia</td>\n",
       "      <td>...</td>\n",
       "      <td>Contactar</td>\n",
       "      <td>Se le dio contacto de Gonza (Ravignani) para q...</td>\n",
       "      <td>NaN</td>\n",
       "      <td>https://www.facebook.com/veronica.jatib/</td>\n",
       "      <td>NaN</td>\n",
       "      <td>NaN</td>\n",
       "      <td>NaN</td>\n",
       "      <td>NaN</td>\n",
       "      <td>NaN</td>\n",
       "      <td>NaN</td>\n",
       "    </tr>\n",
       "    <tr>\n",
       "      <td>1</td>\n",
       "      <td>Noel</td>\n",
       "      <td>Carlos Insaurralde</td>\n",
       "      <td>Sorensen</td>\n",
       "      <td>Usuarix</td>\n",
       "      <td>11 3347 6407</td>\n",
       "      <td>NaN</td>\n",
       "      <td>NaN</td>\n",
       "      <td>NaN</td>\n",
       "      <td>NaN</td>\n",
       "      <td>Gastronomia</td>\n",
       "      <td>...</td>\n",
       "      <td>Contactar</td>\n",
       "      <td>Se le dio contacto de Gonza (Ravignani) para q...</td>\n",
       "      <td>NaN</td>\n",
       "      <td>https://www.facebook.com/carlosinsa02</td>\n",
       "      <td>NaN</td>\n",
       "      <td>NaN</td>\n",
       "      <td>NaN</td>\n",
       "      <td>NaN</td>\n",
       "      <td>NaN</td>\n",
       "      <td>NaN</td>\n",
       "    </tr>\n",
       "    <tr>\n",
       "      <td>2</td>\n",
       "      <td>NaN</td>\n",
       "      <td>Gustavo</td>\n",
       "      <td>Ferrari</td>\n",
       "      <td>Usuarix</td>\n",
       "      <td>15 6505 5090</td>\n",
       "      <td>ferrarifileteados@gmail.com</td>\n",
       "      <td>NaN</td>\n",
       "      <td>NaN</td>\n",
       "      <td>NaN</td>\n",
       "      <td>Arte &amp; Cultura</td>\n",
       "      <td>...</td>\n",
       "      <td>Contactar</td>\n",
       "      <td>Se le mostro los talleres de Uruguay. (Lu:barr...</td>\n",
       "      <td>NaN</td>\n",
       "      <td>NaN</td>\n",
       "      <td>NaN</td>\n",
       "      <td>NaN</td>\n",
       "      <td>NaN</td>\n",
       "      <td>NaN</td>\n",
       "      <td>NaN</td>\n",
       "      <td>NaN</td>\n",
       "    </tr>\n",
       "  </tbody>\n",
       "</table>\n",
       "<p>3 rows × 23 columns</p>\n",
       "</div>"
      ],
      "text/plain": [
       "  Quien lo ingreso              Nombre  Apellido     Tipo   emprendedor  \\\n",
       "0             Noel  Verónica Alejandra     Jabit  Usuarix  15 6016 1746   \n",
       "1             Noel  Carlos Insaurralde  Sorensen  Usuarix  11 3347 6407   \n",
       "2              NaN             Gustavo   Ferrari  Usuarix  15 6505 5090   \n",
       "\n",
       "                         Email  Segundo Contacto  \\\n",
       "0  veronicajatib3008@gmail.com               NaN   \n",
       "1                          NaN               NaN   \n",
       "2  ferrarifileteados@gmail.com               NaN   \n",
       "\n",
       "   Telefono Segundo Contacto - si lo hay Email Segundo contacto - si lo hay  \\\n",
       "0                                    NaN                                NaN   \n",
       "1                                    NaN                                NaN   \n",
       "2                                    NaN                                NaN   \n",
       "\n",
       "        Industria  ... Status_de_Lead   \\\n",
       "0     Gastronomia  ...       Contactar   \n",
       "1     Gastronomia  ...       Contactar   \n",
       "2  Arte & Cultura  ...       Contactar   \n",
       "\n",
       "                                         Descripcion Sitio Web  \\\n",
       "0  Se le dio contacto de Gonza (Ravignani) para q...       NaN   \n",
       "1  Se le dio contacto de Gonza (Ravignani) para q...       NaN   \n",
       "2  Se le mostro los talleres de Uruguay. (Lu:barr...       NaN   \n",
       "\n",
       "                                   Facebook Instagram  Twitter Compañia  \\\n",
       "0  https://www.facebook.com/veronica.jatib/       NaN      NaN      NaN   \n",
       "1     https://www.facebook.com/carlosinsa02       NaN      NaN      NaN   \n",
       "2                                       NaN       NaN      NaN      NaN   \n",
       "\n",
       "  Sup. total (m2)  Dirección  Ciudad  \n",
       "0             NaN        NaN     NaN  \n",
       "1             NaN        NaN     NaN  \n",
       "2             NaN        NaN     NaN  \n",
       "\n",
       "[3 rows x 23 columns]"
      ]
     },
     "execution_count": 4,
     "metadata": {},
     "output_type": "execute_result"
    }
   ],
   "source": [
    "print(df.shape)\n",
    "df.head(3)"
   ]
  },
  {
   "cell_type": "code",
   "execution_count": 5,
   "metadata": {},
   "outputs": [
    {
     "data": {
      "text/plain": [
       "Quien lo ingreso                         872\n",
       "Nombre                                   854\n",
       "Apellido                                 855\n",
       "Tipo                                     854\n",
       "emprendedor                              887\n",
       "Email                                    922\n",
       "Segundo Contacto                         992\n",
       "Telefono Segundo Contacto - si lo hay    992\n",
       "Email Segundo contacto - si lo hay       991\n",
       "Industria                                856\n",
       "Tipo_de_Espacio                          857\n",
       "Comunas                                  855\n",
       "Fuente_de_Lead                             0\n",
       "Status_de_Lead                             1\n",
       "Descripcion                              854\n",
       "Sitio Web                                992\n",
       "Facebook                                 866\n",
       "Instagram                                991\n",
       "Twitter                                  992\n",
       "Compañia                                 992\n",
       "Sup. total (m2)                          992\n",
       "Dirección                                992\n",
       "Ciudad                                   992\n",
       "dtype: int64"
      ]
     },
     "execution_count": 5,
     "metadata": {},
     "output_type": "execute_result"
    }
   ],
   "source": [
    "df.isnull().sum()"
   ]
  },
  {
   "cell_type": "code",
   "execution_count": 6,
   "metadata": {},
   "outputs": [
    {
     "name": "stdout",
     "output_type": "stream",
     "text": [
      "tipos de industrias: ['Gastronomia', 'Arte & Cultura', 'Comercio y consumo masivo', 'Emprendedor & Profesional Indep.', nan, 'Arte & cultura', 'Bienestar', 'Alternativo']\n",
      "\n",
      "cantidad de valores: 992\n",
      "\n"
     ]
    }
   ],
   "source": [
    "industrias = list(df[\"Industria\"].unique())\n",
    "print('tipos de industrias: %s\\n' % industrias)\n",
    "\n",
    "print('cantidad de valores: %i\\n' % len(df))"
   ]
  },
  {
   "cell_type": "code",
   "execution_count": 26,
   "metadata": {},
   "outputs": [],
   "source": [
    "filtro_comunas = ['Palermo','Monserrat', 'Chacarita', 'Mataderos']\n",
    "df_comunas =  df[df.Comunas.isin(filtro_tipos)]"
   ]
  },
  {
   "cell_type": "code",
   "execution_count": 11,
   "metadata": {},
   "outputs": [
    {
     "data": {
      "image/png": "[encoded data removed]",
      "text/plain": [
       "<Figure size 432x288 with 1 Axes>"
      ]
     },
     "metadata": {},
     "output_type": "display_data"
    }
   ],
   "source": [
    "sns.set(style=\"darkgrid\")\n",
    "ax = sns.countplot(x=\"Comunas\", data=df_comunas, palette=\"Set3\")"
   ]
  },
  {
   "cell_type": "code",
   "execution_count": 16,
   "metadata": {},
   "outputs": [],
   "source": [
    "filtro_tipos = ['Emprendedor & Profesional Indep.','Arte & Cultura', 'Gastronomia']\n",
    "df_industria =  df[df.Industria.isin(filtro_tipos)]"
   ]
  },
  {
   "cell_type": "code",
   "execution_count": 17,
   "metadata": {},
   "outputs": [
    {
     "data": {
      "image/png": "[encoded data removed]",
      "text/plain": [
       "<Figure size 432x288 with 1 Axes>"
      ]
     },
     "metadata": {},
     "output_type": "display_data"
    }
   ],
   "source": [
    "sns.set(style=\"darkgrid\")\n",
    "ax = sns.countplot(x=\"Industria\", data=df_industria, palette=\"Set3\")"
   ]
  },
  {
   "cell_type": "code",
   "execution_count": 89,
   "metadata": {},
   "outputs": [],
   "source": [
    "filtro_tipos = ['Alternativo', 'Taller comp','taller propio', 'Taller propio']\n",
    "df_tipo_espacio =  df[df.Tipo_de_Espacio.isin(filtro_tipos)]"
   ]
  },
  {
   "cell_type": "code",
   "execution_count": 90,
   "metadata": {},
   "outputs": [
    {
     "data": {
      "image/png": "[encoded data removed]",
      "text/plain": [
       "<Figure size 432x288 with 1 Axes>"
      ]
     },
     "metadata": {},
     "output_type": "display_data"
    }
   ],
   "source": [
    "sns.set(style=\"darkgrid\")\n",
    "ax = sns.countplot(x=\"Tipo_de_Espacio\", data=df_tipo_espacio, palette=\"Set3\")"
   ]
  },
  {
   "cell_type": "code",
   "execution_count": null,
   "metadata": {},
   "outputs": [],
   "source": []
  }
 ],
 "metadata": {
  "kernelspec": {
   "display_name": "Python 3",
   "language": "python",
   "name": "python3"
  },
  "language_info": {
   "codemirror_mode": {
    "name": "ipython",
    "version": 3
   },
   "file_extension": ".py",
   "mimetype": "text/x-python",
   "name": "python",
   "nbconvert_exporter": "python",
   "pygments_lexer": "ipython3",
   "version": "3.8.3"
  }
 },
 "nbformat": 4,
 "nbformat_minor": 4
}
