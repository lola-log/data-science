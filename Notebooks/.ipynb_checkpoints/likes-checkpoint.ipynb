{
 "cells": [
  {
   "cell_type": "code",
   "execution_count": 1,
   "metadata": {},
   "outputs": [],
   "source": [
    "import pandas as pd\n",
    "import numpy as np\n",
    "import seaborn as sns\n",
    "import matplotlib.pyplot as plt\n",
    "# import datetime class from datetime module\n",
    "from datetime import datetime\n",
    "from datetime import date\n",
    "from datetime import time\n",
    "from time import sleep\n",
    "\n",
    "\n",
    "sns.set()"
   ]
  },
  {
   "cell_type": "code",
   "execution_count": 5,
   "metadata": {},
   "outputs": [
    {
     "data": {
      "text/html": [
       "<div>\n",
       "<style scoped>\n",
       "    .dataframe tbody tr th:only-of-type {\n",
       "        vertical-align: middle;\n",
       "    }\n",
       "\n",
       "    .dataframe tbody tr th {\n",
       "        vertical-align: top;\n",
       "    }\n",
       "\n",
       "    .dataframe thead th {\n",
       "        text-align: right;\n",
       "    }\n",
       "</style>\n",
       "<table border=\"1\" class=\"dataframe\">\n",
       "  <thead>\n",
       "    <tr style=\"text-align: right;\">\n",
       "      <th></th>\n",
       "      <th>Unnamed: 0</th>\n",
       "      <th>pk</th>\n",
       "      <th>username</th>\n",
       "      <th>full_name</th>\n",
       "      <th>is_private</th>\n",
       "      <th>profile_pic_url</th>\n",
       "      <th>profile_pic_id</th>\n",
       "      <th>is_verified</th>\n",
       "      <th>latest_reel_media</th>\n",
       "      <th>post_id</th>\n",
       "      <th>content_type</th>\n",
       "    </tr>\n",
       "  </thead>\n",
       "  <tbody>\n",
       "    <tr>\n",
       "      <th>0</th>\n",
       "      <td>0</td>\n",
       "      <td>13251312016</td>\n",
       "      <td>rentartba</td>\n",
       "      <td>RentArt.</td>\n",
       "      <td>False</td>\n",
       "      <td>https://instagram.faep9-2.fna.fbcdn.net/v/t51....</td>\n",
       "      <td>2043020516404438767_13251312016</td>\n",
       "      <td>False</td>\n",
       "      <td>1595723143</td>\n",
       "      <td>2360409922946177275_13861534605</td>\n",
       "      <td>like</td>\n",
       "    </tr>\n",
       "    <tr>\n",
       "      <th>1</th>\n",
       "      <td>1</td>\n",
       "      <td>1555969795</td>\n",
       "      <td>silveiragaston</td>\n",
       "      <td>G. S Artista Visual</td>\n",
       "      <td>False</td>\n",
       "      <td>https://instagram.faep9-2.fna.fbcdn.net/v/t51....</td>\n",
       "      <td>2357210924072388815_1555969795</td>\n",
       "      <td>False</td>\n",
       "      <td>1595714824</td>\n",
       "      <td>2360409922946177275_13861534605</td>\n",
       "      <td>like</td>\n",
       "    </tr>\n",
       "    <tr>\n",
       "      <th>2</th>\n",
       "      <td>2</td>\n",
       "      <td>5333564238</td>\n",
       "      <td>adri_b_millan</td>\n",
       "      <td>Adriana B Millan</td>\n",
       "      <td>False</td>\n",
       "      <td>https://instagram.faep9-2.fna.fbcdn.net/v/t51....</td>\n",
       "      <td>2312020962315217551_5333564238</td>\n",
       "      <td>False</td>\n",
       "      <td>0</td>\n",
       "      <td>2360409922946177275_13861534605</td>\n",
       "      <td>like</td>\n",
       "    </tr>\n",
       "    <tr>\n",
       "      <th>3</th>\n",
       "      <td>3</td>\n",
       "      <td>3584827840</td>\n",
       "      <td>federicovelenski</td>\n",
       "      <td>Federico Velenski Chiari</td>\n",
       "      <td>False</td>\n",
       "      <td>https://instagram.faep9-2.fna.fbcdn.net/v/t51....</td>\n",
       "      <td>2340021767023077087_3584827840</td>\n",
       "      <td>False</td>\n",
       "      <td>1595726408</td>\n",
       "      <td>2360409922946177275_13861534605</td>\n",
       "      <td>like</td>\n",
       "    </tr>\n",
       "    <tr>\n",
       "      <th>4</th>\n",
       "      <td>4</td>\n",
       "      <td>26943250049</td>\n",
       "      <td>andrea._bernhardt</td>\n",
       "      <td>Andrea Bernhardt Love&amp;Songs</td>\n",
       "      <td>False</td>\n",
       "      <td>https://instagram.faep9-2.fna.fbcdn.net/v/t51....</td>\n",
       "      <td>2295419475214004358_26943250049</td>\n",
       "      <td>False</td>\n",
       "      <td>0</td>\n",
       "      <td>2360409922946177275_13861534605</td>\n",
       "      <td>like</td>\n",
       "    </tr>\n",
       "  </tbody>\n",
       "</table>\n",
       "</div>"
      ],
      "text/plain": [
       "   Unnamed: 0           pk           username                    full_name  \\\n",
       "0           0  13251312016          rentartba                     RentArt.   \n",
       "1           1   1555969795     silveiragaston          G. S Artista Visual   \n",
       "2           2   5333564238      adri_b_millan             Adriana B Millan   \n",
       "3           3   3584827840   federicovelenski     Federico Velenski Chiari   \n",
       "4           4  26943250049  andrea._bernhardt  Andrea Bernhardt Love&Songs   \n",
       "\n",
       "   is_private                                    profile_pic_url  \\\n",
       "0       False  https://instagram.faep9-2.fna.fbcdn.net/v/t51....   \n",
       "1       False  https://instagram.faep9-2.fna.fbcdn.net/v/t51....   \n",
       "2       False  https://instagram.faep9-2.fna.fbcdn.net/v/t51....   \n",
       "3       False  https://instagram.faep9-2.fna.fbcdn.net/v/t51....   \n",
       "4       False  https://instagram.faep9-2.fna.fbcdn.net/v/t51....   \n",
       "\n",
       "                    profile_pic_id  is_verified  latest_reel_media  \\\n",
       "0  2043020516404438767_13251312016        False         1595723143   \n",
       "1   2357210924072388815_1555969795        False         1595714824   \n",
       "2   2312020962315217551_5333564238        False                  0   \n",
       "3   2340021767023077087_3584827840        False         1595726408   \n",
       "4  2295419475214004358_26943250049        False                  0   \n",
       "\n",
       "                           post_id content_type  \n",
       "0  2360409922946177275_13861534605         like  \n",
       "1  2360409922946177275_13861534605         like  \n",
       "2  2360409922946177275_13861534605         like  \n",
       "3  2360409922946177275_13861534605         like  \n",
       "4  2360409922946177275_13861534605         like  "
      ]
     },
     "execution_count": 5,
     "metadata": {},
     "output_type": "execute_result"
    }
   ],
   "source": [
    "df = pd.read_csv('liked_media.csv')\n",
    "df.head(5)"
   ]
  },
  {
   "cell_type": "code",
   "execution_count": 4,
   "metadata": {},
   "outputs": [
    {
     "data": {
      "text/plain": [
       "Index(['Unnamed: 0', 'pk', 'username', 'full_name', 'is_private',\n",
       "       'profile_pic_url', 'profile_pic_id', 'is_verified', 'latest_reel_media',\n",
       "       'post_id', 'content_type'],\n",
       "      dtype='object')"
      ]
     },
     "execution_count": 4,
     "metadata": {},
     "output_type": "execute_result"
    }
   ],
   "source": [
    "df.columns"
   ]
  },
  {
   "cell_type": "code",
   "execution_count": null,
   "metadata": {},
   "outputs": [],
   "source": []
  }
 ],
 "metadata": {
  "kernelspec": {
   "display_name": "Python 3",
   "language": "python",
   "name": "python3"
  },
  "language_info": {
   "codemirror_mode": {
    "name": "ipython",
    "version": 3
   },
   "file_extension": ".py",
   "mimetype": "text/x-python",
   "name": "python",
   "nbconvert_exporter": "python",
   "pygments_lexer": "ipython3",
   "version": "3.8.3"
  }
 },
 "nbformat": 4,
 "nbformat_minor": 4
}
