{
 "cells": [
  {
   "cell_type": "code",
   "execution_count": 26,
   "metadata": {},
   "outputs": [],
   "source": [
    "import numpy as np\n",
    "import pandas as pd\n",
    "import matplotlib.pylab as plt\n",
    "import seaborn as sns\n",
    "import plotly.graph_objects as go\n",
    "import plotly.express as px\n",
    "import math\n",
    "%matplotlib inline"
   ]
  },
  {
   "cell_type": "code",
   "execution_count": 27,
   "metadata": {},
   "outputs": [],
   "source": [
    "df_p = pd.read_csv('../datasets/mas-vendidos-Provincia.csv')"
   ]
  },
  {
   "cell_type": "code",
   "execution_count": 28,
   "metadata": {},
   "outputs": [],
   "source": [
    "df_p = df_p.drop(['2020', 'PRODUTO.1'], axis = 1)"
   ]
  },
  {
   "cell_type": "code",
   "execution_count": 29,
   "metadata": {},
   "outputs": [],
   "source": [
    "df_p = df_p.rename(columns = {'2019': 'TOTAL_VENTAS' }, inplace = False)"
   ]
  },
  {
   "cell_type": "raw",
   "metadata": {},
   "source": [
    "print(df_p.shape)\n",
    "df_p.head(3)"
   ]
  },
  {
   "cell_type": "raw",
   "metadata": {},
   "source": [
    "print(df_e.shape)\n",
    "df_e.head(3)"
   ]
  },
  {
   "cell_type": "markdown",
   "metadata": {},
   "source": [
    "**PROVINCIA**"
   ]
  },
  {
   "cell_type": "raw",
   "metadata": {},
   "source": [
    "df_p.columns"
   ]
  },
  {
   "cell_type": "raw",
   "metadata": {},
   "source": [
    "print('cantidad de valores: %i\\n' % len(df_p))"
   ]
  },
  {
   "cell_type": "raw",
   "metadata": {},
   "source": [
    "productos = list(df_p[\"PRODUTO\"].unique())\n",
    "print('tipos de productos: %s\\n' % productos)"
   ]
  },
  {
   "cell_type": "code",
   "execution_count": 30,
   "metadata": {},
   "outputs": [],
   "source": [
    "# UNISEX\n",
    "\n",
    "filtro_uni = ['MOCHILA FILA NINETEEN ELEVEN UNISEX','PELOTA MINI NEO TRAINER AW','TRIPACK CLASS INVISIBLE',\n",
    "              'MEDIA ATLETICA 1/2 CANA DIAMANTES', 'SOQUETE UMBRO PACK X 3', 'MEDIAS DE FUTBOL TEAMWEAR',\n",
    "              'PELOTA NEO TRAINER C.A.T.'\n",
    "             ]\n",
    "uni_2019 = df_p[df_p.PRODUTO.isin(filtro_uni)]\n",
    "\n",
    "#NINIES\n",
    "\n",
    "filtro_ninies =  ['ZAPATILLA FILA EURO JOGGER SPORT KIDS', 'BOTIN SINTETICO UMBRO DRAKO JR',\n",
    "                  'ZAPATILLA FILA CLASSIC 92 KIDS', 'ZAPATILLA FILA LUGANO 5.0 KIDS',\n",
    "                  'ZAPATILLA FILA LUGANO 5.0 VLC BABY', \n",
    "                  'ZAPATILLA FILA FIT TECH INFANTIL', 'ZAPATILLA FILA ELEVATE KIDS', \n",
    "                  'ZAPATILLA FILA OVERPASS TECH KIDS', 'ZAPATILLA FILA VOLT KIDS', 'ZAPATILLA FILA ILLUSION KIDS',\n",
    "                  'ZAPATILLA FILA SLANT SUMMER KIDS', 'BOTIN SINTETICO UMBRO VELOX JR',\n",
    "                  'ZAPATILLA FILA CLASSIC 92 BABY', 'ZAPATILLA FILA SPIRIT KIDS', 'ZAPATILLA FILA BLAZE KIDS',\n",
    "                  'BOTIN SINTETICO UMBRO ATTAK II JR', 'BOTIN SINTETICO UMBRO SPEED SONIC JUNIOR',\n",
    "                  'BOTIN SINTETICO UMBRO FIFTY II JR', 'MEDIAS DE FUTBOL TEAMWEAR KIDS'\n",
    "                 ]\n",
    "\n",
    "ninies_2019 = df_p[df_p.PRODUTO.isin(filtro_ninies)]\n",
    "\n",
    "#HOMBRES\n",
    "\n",
    "filtro_hombres = [\n",
    "                  'ZAPATILLA FILA EURO JOGGER SPORT HOMBRE','OJOTA UMBRO LOCKER HOMBRE', \n",
    "    'OJOTA FILA DRIFTER BASIC HOMBRE', 'ZAPATILLA FILA F-RETRO SPORT 2.0 HOMBRE', \n",
    "    'ZAPATILLA FILA ETERNITY HOMBRE', 'ZAPATILLA FILA TWISTING 2.0 HOMBRE', \n",
    "     'BOTIN CAMPO UMBRO ATTAK II HOMBRE', 'ZAPATILLA FILA TREND HOMBRE', \n",
    "    'OJOTA FILA LOUNGE HOMBRE', 'ZAPATILLA FILA VERSATILE HOMBRE', 'ZAPATILLA FILA LUGANO 5.0 HOMBRE',\n",
    "    'ZAPATILLA FILA SLANT FORCE HOMBRE', 'ZAPATILLA FILA FR LIGHT ENERGIZED HOMBRE', 'ZAPATILLA FILA SPIRIT 2.0 HOMBRE', \n",
    "    'ZAPATILLA FILA CRONOS HOMBRE', 'BOTIN SINTETICO UMBRO DRAKO HOMBRE', 'ZAPATILLA FILA MOJAVE HOMBRE', \n",
    "    'BOTIN SINTETICO UMBRO ATTAK II HOMBRE', 'BOTIN SINTETICO UMBRO VELOX HOMBRE', 'ZAPATILLA FILA FR LUMIX HOMBRE', \n",
    "    ]\n",
    "\n",
    "hom_2019 = df_p[df_p.PRODUTO.isin(filtro_hombres)]\n",
    "\n",
    "filtro_hombres_ind = [\n",
    "    'CAMISETA OF.1 19 N.O.B. HOMBRE', 'CAMISETA OF.2 19 N.O.B. HOMBRE', 'CAMISETA OF.1 2019 C.A.T HOMBRE', \n",
    "    'CAMISETA OF.2 2019 C.A.T. HOMBRE', 'REMERA SALIDA M/C 19/20 C.A.T. HOMBRE','PANTALON PLANO TRAINING AW HOMBRE'\n",
    "    ]\n",
    "\n",
    "homb_ind_2019 = df_p[df_p.PRODUTO.isin(filtro_hombres_ind)]\n",
    "\n",
    "\n",
    "#MUJERES\n",
    "\n",
    "filtro_mujer = ['ZAPATILLA FILA DISRUPTOR II PREMIUM MUJER','ZAPATILLA FILA EURO JOGGER SPORT MUJER'\n",
    "                ,'ZAPATILLA FILA SLIDE MUJER','ZAPATILLA FILA SWEET MUJER','ZAPATILLA FILA LADY MUJER', \n",
    "                'ZAPATILLA FILA EURO JOGGER WEDGE MUJER','OJOTA FILA DRIFTER BASIC MUJER','ZAPATILLA FILA ETERNITY MUJER',\n",
    "                'ZAPATILLA FILA F-RETRO SPORT 2.0 MUJER','ZAPATILLA FILA ESSENTIAL MUJER','ZAPATILLA FILA FABULOUS MUJER',\n",
    "                'OJOTA FILA LOUNGE MUJER','ZAPATILLA FILA LUGANO 5.0 MUJER', 'ZAPATILLA FILA FINDER MUJER',\n",
    "                'ZAPATILLA FILA EURO JOGGER WEDGE SL MUJER','ZAPATILLA FILA TWISTING 2.0 MUJER','ZAPATILLA FILA FR 97 ENERGIZED MUJER'\n",
    "                'ZAPATILLA FILA LIGHTNESS MUJER', 'ZAPATILLA FILA CREEP MUJER']\n",
    "muj_2019 =  df_p[df_p.PRODUTO.isin(filtro_mujer)]\n"
   ]
  },
  {
   "cell_type": "raw",
   "metadata": {},
   "source": [
    "print('cantidad de valores UNISEX: %i\\n' % len(uni_2019))\n",
    "print('cantidad de valores MASCULINO: %i\\n' % len(hom_2019))\n",
    "print('cantidad de valores MASCULINO: %i\\n' % len(homb_ind_2019))\n",
    "print('cantidad de valores JUVENIL: %i\\n' % len(ninies_2019))\n",
    "print('cantidad de valores FEMENINO: %i\\n' % len(muj_2019))\n",
    "print('cantidad de valores dataset original: %i\\n' % len(df_p))"
   ]
  },
  {
   "cell_type": "markdown",
   "metadata": {},
   "source": [
    "**TOTAL**"
   ]
  },
  {
   "cell_type": "raw",
   "metadata": {},
   "source": [
    "print('Total de tipos de productos mujeres:', ninies_2019.size)\n",
    "print('Total de tipos de productos hombres:', hom_2019.size)\n",
    "print('Total de tipos de productos hombres:', homb_ind_2019.size)\n",
    "print('Total de tipos de productos unisex: ', uni_2019.size)\n",
    "print('Total de tipos de productos niños:  ', muj_2019.size)"
   ]
  },
  {
   "cell_type": "raw",
   "metadata": {},
   "source": [
    "muj_2019.head(10)      "
   ]
  },
  {
   "cell_type": "markdown",
   "metadata": {},
   "source": [
    "**GENERO**"
   ]
  },
  {
   "cell_type": "code",
   "execution_count": 31,
   "metadata": {},
   "outputs": [
    {
     "name": "stderr",
     "output_type": "stream",
     "text": [
      "<ipython-input-31-2b68c7c0d621>:1: SettingWithCopyWarning:\n",
      "\n",
      "\n",
      "A value is trying to be set on a copy of a slice from a DataFrame.\n",
      "Try using .loc[row_indexer,col_indexer] = value instead\n",
      "\n",
      "See the caveats in the documentation: https://pandas.pydata.org/pandas-docs/stable/user_guide/indexing.html#returning-a-view-versus-a-copy\n",
      "\n",
      "<ipython-input-31-2b68c7c0d621>:2: SettingWithCopyWarning:\n",
      "\n",
      "\n",
      "A value is trying to be set on a copy of a slice from a DataFrame.\n",
      "Try using .loc[row_indexer,col_indexer] = value instead\n",
      "\n",
      "See the caveats in the documentation: https://pandas.pydata.org/pandas-docs/stable/user_guide/indexing.html#returning-a-view-versus-a-copy\n",
      "\n",
      "<ipython-input-31-2b68c7c0d621>:3: SettingWithCopyWarning:\n",
      "\n",
      "\n",
      "A value is trying to be set on a copy of a slice from a DataFrame.\n",
      "Try using .loc[row_indexer,col_indexer] = value instead\n",
      "\n",
      "See the caveats in the documentation: https://pandas.pydata.org/pandas-docs/stable/user_guide/indexing.html#returning-a-view-versus-a-copy\n",
      "\n",
      "<ipython-input-31-2b68c7c0d621>:4: SettingWithCopyWarning:\n",
      "\n",
      "\n",
      "A value is trying to be set on a copy of a slice from a DataFrame.\n",
      "Try using .loc[row_indexer,col_indexer] = value instead\n",
      "\n",
      "See the caveats in the documentation: https://pandas.pydata.org/pandas-docs/stable/user_guide/indexing.html#returning-a-view-versus-a-copy\n",
      "\n",
      "<ipython-input-31-2b68c7c0d621>:5: SettingWithCopyWarning:\n",
      "\n",
      "\n",
      "A value is trying to be set on a copy of a slice from a DataFrame.\n",
      "Try using .loc[row_indexer,col_indexer] = value instead\n",
      "\n",
      "See the caveats in the documentation: https://pandas.pydata.org/pandas-docs/stable/user_guide/indexing.html#returning-a-view-versus-a-copy\n",
      "\n"
     ]
    }
   ],
   "source": [
    "ninies_2019['GENERO'] = 'JUV'\n",
    "hom_2019['GENERO'] = 'MASC'\n",
    "homb_ind_2019['GENERO'] = 'IND MASC'\n",
    "uni_2019['GENERO'] = 'ACC'\n",
    "muj_2019['GENERO'] = 'FEM'"
   ]
  },
  {
   "cell_type": "raw",
   "metadata": {},
   "source": [
    "muj_2019.head(10)"
   ]
  },
  {
   "cell_type": "raw",
   "metadata": {},
   "source": [
    "ninies_2019.head(10)"
   ]
  },
  {
   "cell_type": "raw",
   "metadata": {},
   "source": [
    "hom_2019.head(10)"
   ]
  },
  {
   "cell_type": "raw",
   "metadata": {},
   "source": [
    "uni_2019.head(10)"
   ]
  },
  {
   "cell_type": "markdown",
   "metadata": {},
   "source": [
    "**EDAD**"
   ]
  },
  {
   "cell_type": "code",
   "execution_count": 32,
   "metadata": {},
   "outputs": [
    {
     "name": "stderr",
     "output_type": "stream",
     "text": [
      "<ipython-input-32-9338658fb6d2>:1: SettingWithCopyWarning:\n",
      "\n",
      "\n",
      "A value is trying to be set on a copy of a slice from a DataFrame.\n",
      "Try using .loc[row_indexer,col_indexer] = value instead\n",
      "\n",
      "See the caveats in the documentation: https://pandas.pydata.org/pandas-docs/stable/user_guide/indexing.html#returning-a-view-versus-a-copy\n",
      "\n",
      "<ipython-input-32-9338658fb6d2>:2: SettingWithCopyWarning:\n",
      "\n",
      "\n",
      "A value is trying to be set on a copy of a slice from a DataFrame.\n",
      "Try using .loc[row_indexer,col_indexer] = value instead\n",
      "\n",
      "See the caveats in the documentation: https://pandas.pydata.org/pandas-docs/stable/user_guide/indexing.html#returning-a-view-versus-a-copy\n",
      "\n",
      "<ipython-input-32-9338658fb6d2>:3: SettingWithCopyWarning:\n",
      "\n",
      "\n",
      "A value is trying to be set on a copy of a slice from a DataFrame.\n",
      "Try using .loc[row_indexer,col_indexer] = value instead\n",
      "\n",
      "See the caveats in the documentation: https://pandas.pydata.org/pandas-docs/stable/user_guide/indexing.html#returning-a-view-versus-a-copy\n",
      "\n",
      "<ipython-input-32-9338658fb6d2>:4: SettingWithCopyWarning:\n",
      "\n",
      "\n",
      "A value is trying to be set on a copy of a slice from a DataFrame.\n",
      "Try using .loc[row_indexer,col_indexer] = value instead\n",
      "\n",
      "See the caveats in the documentation: https://pandas.pydata.org/pandas-docs/stable/user_guide/indexing.html#returning-a-view-versus-a-copy\n",
      "\n",
      "<ipython-input-32-9338658fb6d2>:5: SettingWithCopyWarning:\n",
      "\n",
      "\n",
      "A value is trying to be set on a copy of a slice from a DataFrame.\n",
      "Try using .loc[row_indexer,col_indexer] = value instead\n",
      "\n",
      "See the caveats in the documentation: https://pandas.pydata.org/pandas-docs/stable/user_guide/indexing.html#returning-a-view-versus-a-copy\n",
      "\n"
     ]
    }
   ],
   "source": [
    "ninies_2019['RANGO_ETARIO'] = 'JUVENIL'\n",
    "hom_2019['RANGO_ETARIO'] = 'ADULTO'\n",
    "homb_ind_2019['RANGO_ETARIO'] = 'ADULTO'\n",
    "uni_2019['RANGO_ETARIO'] = 'ADULTO'\n",
    "muj_2019['RANGO_ETARIO'] = 'ADULTO'"
   ]
  },
  {
   "cell_type": "code",
   "execution_count": 33,
   "metadata": {},
   "outputs": [
    {
     "name": "stderr",
     "output_type": "stream",
     "text": [
      "<ipython-input-33-b638ec83f653>:1: SettingWithCopyWarning:\n",
      "\n",
      "\n",
      "A value is trying to be set on a copy of a slice from a DataFrame.\n",
      "Try using .loc[row_indexer,col_indexer] = value instead\n",
      "\n",
      "See the caveats in the documentation: https://pandas.pydata.org/pandas-docs/stable/user_guide/indexing.html#returning-a-view-versus-a-copy\n",
      "\n",
      "<ipython-input-33-b638ec83f653>:2: SettingWithCopyWarning:\n",
      "\n",
      "\n",
      "A value is trying to be set on a copy of a slice from a DataFrame.\n",
      "Try using .loc[row_indexer,col_indexer] = value instead\n",
      "\n",
      "See the caveats in the documentation: https://pandas.pydata.org/pandas-docs/stable/user_guide/indexing.html#returning-a-view-versus-a-copy\n",
      "\n",
      "<ipython-input-33-b638ec83f653>:3: SettingWithCopyWarning:\n",
      "\n",
      "\n",
      "A value is trying to be set on a copy of a slice from a DataFrame.\n",
      "Try using .loc[row_indexer,col_indexer] = value instead\n",
      "\n",
      "See the caveats in the documentation: https://pandas.pydata.org/pandas-docs/stable/user_guide/indexing.html#returning-a-view-versus-a-copy\n",
      "\n",
      "<ipython-input-33-b638ec83f653>:4: SettingWithCopyWarning:\n",
      "\n",
      "\n",
      "A value is trying to be set on a copy of a slice from a DataFrame.\n",
      "Try using .loc[row_indexer,col_indexer] = value instead\n",
      "\n",
      "See the caveats in the documentation: https://pandas.pydata.org/pandas-docs/stable/user_guide/indexing.html#returning-a-view-versus-a-copy\n",
      "\n",
      "<ipython-input-33-b638ec83f653>:5: SettingWithCopyWarning:\n",
      "\n",
      "\n",
      "A value is trying to be set on a copy of a slice from a DataFrame.\n",
      "Try using .loc[row_indexer,col_indexer] = value instead\n",
      "\n",
      "See the caveats in the documentation: https://pandas.pydata.org/pandas-docs/stable/user_guide/indexing.html#returning-a-view-versus-a-copy\n",
      "\n"
     ]
    }
   ],
   "source": [
    "ninies_2019['ANIO'] = '2019'\n",
    "hom_2019['ANIO'] = '2019'\n",
    "homb_ind_2019['ANIO'] = '2019'\n",
    "uni_2019['ANIO'] = '2019'\n",
    "muj_2019['ANIO'] = '2019'"
   ]
  },
  {
   "cell_type": "raw",
   "metadata": {},
   "source": [
    "muj_2019.head(10)"
   ]
  },
  {
   "cell_type": "raw",
   "metadata": {},
   "source": [
    "ninies_2019.head(10)"
   ]
  },
  {
   "cell_type": "raw",
   "metadata": {},
   "source": [
    "hom_2019.head(10)"
   ]
  },
  {
   "cell_type": "raw",
   "metadata": {},
   "source": [
    "uni_2019.head(10)"
   ]
  },
  {
   "cell_type": "raw",
   "metadata": {},
   "source": [
    "print(ninies_2019['TOTAL_VENTAS'].sum())\n",
    "print(hom_2019['TOTAL_VENTAS'].sum())\n",
    "print(homb_ind_2019['TOTAL_VENTAS'].sum())\n",
    "print(uni_2019['TOTAL_VENTAS'].sum())\n",
    "print(muj_2019['TOTAL_VENTAS'].sum())\n"
   ]
  },
  {
   "cell_type": "raw",
   "metadata": {},
   "source": [
    "muj_2019.head(10)"
   ]
  },
  {
   "cell_type": "code",
   "execution_count": 34,
   "metadata": {},
   "outputs": [
    {
     "data": {
      "text/html": [
       "<div>\n",
       "<style scoped>\n",
       "    .dataframe tbody tr th:only-of-type {\n",
       "        vertical-align: middle;\n",
       "    }\n",
       "\n",
       "    .dataframe tbody tr th {\n",
       "        vertical-align: top;\n",
       "    }\n",
       "\n",
       "    .dataframe thead th {\n",
       "        text-align: right;\n",
       "    }\n",
       "</style>\n",
       "<table border=\"1\" class=\"dataframe\">\n",
       "  <thead>\n",
       "    <tr style=\"text-align: right;\">\n",
       "      <th></th>\n",
       "      <th>PROVINCIA</th>\n",
       "      <th>PRODUTO</th>\n",
       "      <th>TOTAL_VENTAS</th>\n",
       "      <th>GENERO</th>\n",
       "      <th>RANGO_ETARIO</th>\n",
       "      <th>ANIO</th>\n",
       "    </tr>\n",
       "  </thead>\n",
       "  <tbody>\n",
       "    <tr>\n",
       "      <th>1</th>\n",
       "      <td>BUENOS AIRES</td>\n",
       "      <td>MOCHILA FILA NINETEEN ELEVEN UNISEX</td>\n",
       "      <td>34606</td>\n",
       "      <td>ACC</td>\n",
       "      <td>ADULTO</td>\n",
       "      <td>2019</td>\n",
       "    </tr>\n",
       "    <tr>\n",
       "      <th>10</th>\n",
       "      <td>C.A.B.A.</td>\n",
       "      <td>MOCHILA FILA NINETEEN ELEVEN UNISEX</td>\n",
       "      <td>5272</td>\n",
       "      <td>ACC</td>\n",
       "      <td>ADULTO</td>\n",
       "      <td>2019</td>\n",
       "    </tr>\n",
       "    <tr>\n",
       "      <th>16</th>\n",
       "      <td>C.A.B.A.</td>\n",
       "      <td>PELOTA MINI NEO TRAINER AW</td>\n",
       "      <td>1900</td>\n",
       "      <td>ACC</td>\n",
       "      <td>ADULTO</td>\n",
       "      <td>2019</td>\n",
       "    </tr>\n",
       "    <tr>\n",
       "      <th>48</th>\n",
       "      <td>CHUBUT</td>\n",
       "      <td>TRIPACK CLASS INVISIBLE</td>\n",
       "      <td>460</td>\n",
       "      <td>ACC</td>\n",
       "      <td>ADULTO</td>\n",
       "      <td>2019</td>\n",
       "    </tr>\n",
       "    <tr>\n",
       "      <th>50</th>\n",
       "      <td>CÓRDOBA</td>\n",
       "      <td>MOCHILA FILA NINETEEN ELEVEN UNISEX</td>\n",
       "      <td>6592</td>\n",
       "      <td>ACC</td>\n",
       "      <td>ADULTO</td>\n",
       "      <td>2019</td>\n",
       "    </tr>\n",
       "    <tr>\n",
       "      <th>...</th>\n",
       "      <td>...</td>\n",
       "      <td>...</td>\n",
       "      <td>...</td>\n",
       "      <td>...</td>\n",
       "      <td>...</td>\n",
       "      <td>...</td>\n",
       "    </tr>\n",
       "    <tr>\n",
       "      <th>19</th>\n",
       "      <td>C.A.B.A.</td>\n",
       "      <td>OJOTA FILA DRIFTER BASIC HOMBRE</td>\n",
       "      <td>1720</td>\n",
       "      <td>MASC</td>\n",
       "      <td>ADULTO</td>\n",
       "      <td>2019</td>\n",
       "    </tr>\n",
       "    <tr>\n",
       "      <th>23</th>\n",
       "      <td>CATAMARCA</td>\n",
       "      <td>ZAPATILLA FILA EURO JOGGER SPORT HOMBRE</td>\n",
       "      <td>312</td>\n",
       "      <td>MASC</td>\n",
       "      <td>ADULTO</td>\n",
       "      <td>2019</td>\n",
       "    </tr>\n",
       "    <tr>\n",
       "      <th>31</th>\n",
       "      <td>CHACO</td>\n",
       "      <td>ZAPATILLA FILA EURO JOGGER SPORT HOMBRE</td>\n",
       "      <td>862</td>\n",
       "      <td>MASC</td>\n",
       "      <td>ADULTO</td>\n",
       "      <td>2019</td>\n",
       "    </tr>\n",
       "    <tr>\n",
       "      <th>36</th>\n",
       "      <td>CHACO</td>\n",
       "      <td>ZAPATILLA FILA F-RETRO SPORT 2.0 HOMBRE</td>\n",
       "      <td>535</td>\n",
       "      <td>MASC</td>\n",
       "      <td>ADULTO</td>\n",
       "      <td>2019</td>\n",
       "    </tr>\n",
       "    <tr>\n",
       "      <th>45</th>\n",
       "      <td>CHUBUT</td>\n",
       "      <td>ZAPATILLA FILA ETERNITY HOMBRE</td>\n",
       "      <td>551</td>\n",
       "      <td>MASC</td>\n",
       "      <td>ADULTO</td>\n",
       "      <td>2019</td>\n",
       "    </tr>\n",
       "  </tbody>\n",
       "</table>\n",
       "<p>100 rows × 6 columns</p>\n",
       "</div>"
      ],
      "text/plain": [
       "       PROVINCIA                                  PRODUTO  TOTAL_VENTAS  \\\n",
       "1   BUENOS AIRES      MOCHILA FILA NINETEEN ELEVEN UNISEX         34606   \n",
       "10      C.A.B.A.      MOCHILA FILA NINETEEN ELEVEN UNISEX          5272   \n",
       "16      C.A.B.A.               PELOTA MINI NEO TRAINER AW          1900   \n",
       "48        CHUBUT                  TRIPACK CLASS INVISIBLE           460   \n",
       "50       CÓRDOBA      MOCHILA FILA NINETEEN ELEVEN UNISEX          6592   \n",
       "..           ...                                      ...           ...   \n",
       "19      C.A.B.A.          OJOTA FILA DRIFTER BASIC HOMBRE          1720   \n",
       "23     CATAMARCA  ZAPATILLA FILA EURO JOGGER SPORT HOMBRE           312   \n",
       "31         CHACO  ZAPATILLA FILA EURO JOGGER SPORT HOMBRE           862   \n",
       "36         CHACO  ZAPATILLA FILA F-RETRO SPORT 2.0 HOMBRE           535   \n",
       "45        CHUBUT           ZAPATILLA FILA ETERNITY HOMBRE           551   \n",
       "\n",
       "   GENERO RANGO_ETARIO  ANIO  \n",
       "1     ACC       ADULTO  2019  \n",
       "10    ACC       ADULTO  2019  \n",
       "16    ACC       ADULTO  2019  \n",
       "48    ACC       ADULTO  2019  \n",
       "50    ACC       ADULTO  2019  \n",
       "..    ...          ...   ...  \n",
       "19   MASC       ADULTO  2019  \n",
       "23   MASC       ADULTO  2019  \n",
       "31   MASC       ADULTO  2019  \n",
       "36   MASC       ADULTO  2019  \n",
       "45   MASC       ADULTO  2019  \n",
       "\n",
       "[100 rows x 6 columns]"
      ]
     },
     "execution_count": 34,
     "metadata": {},
     "output_type": "execute_result"
    }
   ],
   "source": [
    "df_2019 = pd.concat([uni_2019, ninies_2019,hom_2019,homb_ind_2019, muj_2019], axis=0)\n",
    "df_2019.head(100)"
   ]
  },
  {
   "cell_type": "raw",
   "metadata": {},
   "source": [
    "df_2019.shape"
   ]
  },
  {
   "cell_type": "code",
   "execution_count": 35,
   "metadata": {},
   "outputs": [],
   "source": [
    "#df_2019.to_csv('df2019.csv')"
   ]
  },
  {
   "cell_type": "markdown",
   "metadata": {},
   "source": [
    "**DATASET 2020**"
   ]
  },
  {
   "cell_type": "code",
   "execution_count": 36,
   "metadata": {},
   "outputs": [],
   "source": [
    "df_p_2020 = pd.read_csv('../datasets/mas-vendidos-Provincia.csv')"
   ]
  },
  {
   "cell_type": "code",
   "execution_count": 37,
   "metadata": {},
   "outputs": [],
   "source": [
    "df_p_2020 = df_p_2020.drop(['2019', 'PRODUTO'], axis = 1)"
   ]
  },
  {
   "cell_type": "code",
   "execution_count": 38,
   "metadata": {},
   "outputs": [],
   "source": [
    "df_p_2020 = df_p_2020.rename(columns = {'2020': 'TOTAL_VENTAS','PRODUTO.1': 'PRODUTO' }, inplace = False)"
   ]
  },
  {
   "cell_type": "raw",
   "metadata": {},
   "source": [
    "df_p_2020.columns"
   ]
  },
  {
   "cell_type": "raw",
   "metadata": {},
   "source": [
    "print('cantidad de valores: %i\\n' % len(df_p_2020))"
   ]
  },
  {
   "cell_type": "raw",
   "metadata": {},
   "source": [
    "df_p_2020.head(10)"
   ]
  },
  {
   "cell_type": "raw",
   "metadata": {},
   "source": [
    "productos = list(df_p_2020[\"PRODUTO.1\"].unique())\n",
    "print('tipos de productos: %s\\n' % productos)"
   ]
  },
  {
   "cell_type": "code",
   "execution_count": 39,
   "metadata": {},
   "outputs": [],
   "source": [
    "# UNISEX\n",
    "\n",
    "filtro_uni = ['MOCHILA FILA NINETEEN ELEVEN UNISEX', 'MOCHILA UNISEX FILA ESSENCE', 'MOCHILA UNISEX FILA DUO COLOR'\n",
    "              'PELOTA NEO TRAINER', 'BOTIN SINTETICO UMBRO INSIGHT', 'SHORTS HOMBRE TWR LETTER',\n",
    "              'TRIPACK SOQUETE  STRIPES FILA','BOTIN SINTETICO UMBRO NEO GEO', 'PELOTA NEO FUTSAL LIGA',\n",
    "              'PELOTA NEO TRAINER MINI', 'MEDIAS DE FUTBOL TEAMWEAR'\n",
    "             ]\n",
    "uni_2020 = df_p_2020[df_p_2020.PRODUTO.isin(filtro_uni)]\n",
    "\n",
    "#NINIES\n",
    "\n",
    "filtro_ninies =  [\n",
    "                    'ZAPATILLA FILA LUGANO 6.0 KIDS', 'ZAPATILLA FILA EURO JOGGER SPORT KIDS',\n",
    "                    'ZAPATILLA FILA LUGANO 6.0 VLC BABY',  'ZAPATILLA FILA ATTREK INFANTIL', 'ZAPATILLA FILA VOLT KIDS', \n",
    "                    'ZAPATILLA FILA CLASSIC 92 BABY', 'REMERA BLOCK KIDS',  'ZAPATILLA FILA LUGANO 6.0 BABY',\n",
    "                    'ZAPATILLA FILA SLANT SUMMER KIDS', 'ZAPATILLA FILA F-RETRO SPORT 2.0 SL KIDS',\n",
    "                    'BOTIN SINTETICO UMBRO SPEED SONIC JUNIOR','MEDIAS DE FUTBOL TEAMWEAR KIDS', 'BOTIN SINTETICO UMBRO VELOX JR',\n",
    "                    'ZAPATILLA FILA CLASSIC 92 KIDS'\n",
    "                 ]\n",
    "\n",
    "ninies_2020 = df_p_2020[df_p_2020.PRODUTO.isin(filtro_ninies)]\n",
    "\n",
    "#HOMBRES\n",
    "\n",
    "filtro_hombres = [\n",
    "                'ZAPATILLA FILA EURO JOGGER SPORT HOMBRE', 'ZAPATILLA FILA DISCOVERY HOMBRE', \n",
    "                'ZAPATILLA FILA SLANT FORCE HOMBRE', 'ZAPATILLA FILA LUGANO 6.0 HOMBRE', 'ZAPATILLA FILA TREND HOMBRE', \n",
    "                'ZAPATILLA FILA THUNDERBOLT HOMBRE', 'ZAPATILLA FILA ZERMAT HOMBRE', 'ZAPATILLA FILA RACER MOVE HOMBRE',\n",
    "                'ZAPATILLA FILA FABULOUS HOMBRE',\n",
    "                'ZAPATILLA FILA BLACK ROCK HOMBRE','ZAPATILLA FILA TRACKER HOMBRE', \n",
    "                'ZAPATILLA FILA CAMBER HOMBRE', 'ZAPATILLA FILA RACER FLUID HOMBRE', \n",
    "                'BOTIN SINTETICO UMBRO VELOX HOMBRE', 'OJOTA FILA DRIFTER BASIC HOMBRE', 'ZAPATILLA FILA LUGANO 5.0 HOMBRE' \n",
    "                  ]\n",
    "\n",
    "hom_2020 = df_p_2020[df_p_2020.PRODUTO.isin(filtro_hombres)]\n",
    "\n",
    "filtro_hombres_ind = ['SHORT TWR BASICO ARGE HOMBRE','CONJUNTO DIJON HOMBRE','CONJUNTO NIZA HOMBRE'] \n",
    "\n",
    "hom_ind_2020 = df_p_2020[df_p_2020.PRODUTO.isin(filtro_hombres_ind)]\n",
    "\n",
    "#MUJERES\n",
    "\n",
    "filtro_mujer = [\n",
    "                 'ZAPATILLA FILA EURO JOGGER SPORT MUJER', 'ZAPATILLA FILA DISRUPTOR II PREMIUM MUJER',\n",
    "                 'ZAPATILLA FILA LADY MUJER', 'ZAPATILLA FILA TREND MUJER', \n",
    "                 'ZAPATILLA FILA LUGANO 6.0 MUJER', 'ZAPATILLA FILA FR LUMIX MUJER', 'ZAPATILLA FILA EURO JOGGER WEDGE SL MUJER',\n",
    "                 'ZAPATILLA FILA D-FORMATION MUJER',  'ZAPATILLA FILA SLIDE MUJER', 'ZAPATILLA FILA SLANT FORCE MUJER', \n",
    "                 'ZAPATILLA FILA RACER MOVE MUJER',  'ZAPATILLA FILA DISCOVERY MUJER', 'ZAPATILLA FILA CAMBER MUJER',\n",
    "                 'ZAPATILLA FILA V.TRACK MUJER','ZAPATILLA FILA QUARK MUJER',   'ZAPATILLA FILA LUGANO 5.0 MUJER', \n",
    "                'ZAPATILLA FILA ZERMAT MUJER'\n",
    "                ]\n",
    "muj_2020 =  df_p_2020[df_p_2020.PRODUTO.isin(filtro_mujer)]\n"
   ]
  },
  {
   "cell_type": "raw",
   "metadata": {},
   "source": [
    "muj_2020.head(10)"
   ]
  },
  {
   "cell_type": "raw",
   "metadata": {},
   "source": [
    "print('cantidad de valores UNISEX: %i\\n' % len(uni_2020))\n",
    "print('cantidad de valores MASCULINO: %i\\n' % len(hom_2020))\n",
    "print('cantidad de valores MASCULINO: %i\\n' % len(hom_ind_2020))\n",
    "print('cantidad de valores JUVENIL: %i\\n' % len(ninies_2020))\n",
    "print('cantidad de valores FEMENINO: %i\\n' % len(muj_2020))\n",
    "print('cantidad de valores dataset original: %i\\n' % len(df_p_2020))"
   ]
  },
  {
   "cell_type": "code",
   "execution_count": 40,
   "metadata": {},
   "outputs": [
    {
     "name": "stderr",
     "output_type": "stream",
     "text": [
      "<ipython-input-40-a821629cc140>:1: SettingWithCopyWarning:\n",
      "\n",
      "\n",
      "A value is trying to be set on a copy of a slice from a DataFrame.\n",
      "Try using .loc[row_indexer,col_indexer] = value instead\n",
      "\n",
      "See the caveats in the documentation: https://pandas.pydata.org/pandas-docs/stable/user_guide/indexing.html#returning-a-view-versus-a-copy\n",
      "\n",
      "<ipython-input-40-a821629cc140>:2: SettingWithCopyWarning:\n",
      "\n",
      "\n",
      "A value is trying to be set on a copy of a slice from a DataFrame.\n",
      "Try using .loc[row_indexer,col_indexer] = value instead\n",
      "\n",
      "See the caveats in the documentation: https://pandas.pydata.org/pandas-docs/stable/user_guide/indexing.html#returning-a-view-versus-a-copy\n",
      "\n",
      "<ipython-input-40-a821629cc140>:3: SettingWithCopyWarning:\n",
      "\n",
      "\n",
      "A value is trying to be set on a copy of a slice from a DataFrame.\n",
      "Try using .loc[row_indexer,col_indexer] = value instead\n",
      "\n",
      "See the caveats in the documentation: https://pandas.pydata.org/pandas-docs/stable/user_guide/indexing.html#returning-a-view-versus-a-copy\n",
      "\n",
      "<ipython-input-40-a821629cc140>:4: SettingWithCopyWarning:\n",
      "\n",
      "\n",
      "A value is trying to be set on a copy of a slice from a DataFrame.\n",
      "Try using .loc[row_indexer,col_indexer] = value instead\n",
      "\n",
      "See the caveats in the documentation: https://pandas.pydata.org/pandas-docs/stable/user_guide/indexing.html#returning-a-view-versus-a-copy\n",
      "\n",
      "<ipython-input-40-a821629cc140>:5: SettingWithCopyWarning:\n",
      "\n",
      "\n",
      "A value is trying to be set on a copy of a slice from a DataFrame.\n",
      "Try using .loc[row_indexer,col_indexer] = value instead\n",
      "\n",
      "See the caveats in the documentation: https://pandas.pydata.org/pandas-docs/stable/user_guide/indexing.html#returning-a-view-versus-a-copy\n",
      "\n"
     ]
    }
   ],
   "source": [
    "ninies_2020['GENERO'] = 'JUV'\n",
    "hom_2020['GENERO'] = 'MASC'\n",
    "hom_ind_2020['GENERO'] = \"MASC\"\n",
    "uni_2020['GENERO'] = 'ACC'\n",
    "muj_2020['GENERO'] = 'FEM'"
   ]
  },
  {
   "cell_type": "code",
   "execution_count": 41,
   "metadata": {},
   "outputs": [
    {
     "name": "stderr",
     "output_type": "stream",
     "text": [
      "<ipython-input-41-d8a959da0406>:1: SettingWithCopyWarning:\n",
      "\n",
      "\n",
      "A value is trying to be set on a copy of a slice from a DataFrame.\n",
      "Try using .loc[row_indexer,col_indexer] = value instead\n",
      "\n",
      "See the caveats in the documentation: https://pandas.pydata.org/pandas-docs/stable/user_guide/indexing.html#returning-a-view-versus-a-copy\n",
      "\n",
      "<ipython-input-41-d8a959da0406>:2: SettingWithCopyWarning:\n",
      "\n",
      "\n",
      "A value is trying to be set on a copy of a slice from a DataFrame.\n",
      "Try using .loc[row_indexer,col_indexer] = value instead\n",
      "\n",
      "See the caveats in the documentation: https://pandas.pydata.org/pandas-docs/stable/user_guide/indexing.html#returning-a-view-versus-a-copy\n",
      "\n",
      "<ipython-input-41-d8a959da0406>:3: SettingWithCopyWarning:\n",
      "\n",
      "\n",
      "A value is trying to be set on a copy of a slice from a DataFrame.\n",
      "Try using .loc[row_indexer,col_indexer] = value instead\n",
      "\n",
      "See the caveats in the documentation: https://pandas.pydata.org/pandas-docs/stable/user_guide/indexing.html#returning-a-view-versus-a-copy\n",
      "\n",
      "<ipython-input-41-d8a959da0406>:4: SettingWithCopyWarning:\n",
      "\n",
      "\n",
      "A value is trying to be set on a copy of a slice from a DataFrame.\n",
      "Try using .loc[row_indexer,col_indexer] = value instead\n",
      "\n",
      "See the caveats in the documentation: https://pandas.pydata.org/pandas-docs/stable/user_guide/indexing.html#returning-a-view-versus-a-copy\n",
      "\n",
      "<ipython-input-41-d8a959da0406>:5: SettingWithCopyWarning:\n",
      "\n",
      "\n",
      "A value is trying to be set on a copy of a slice from a DataFrame.\n",
      "Try using .loc[row_indexer,col_indexer] = value instead\n",
      "\n",
      "See the caveats in the documentation: https://pandas.pydata.org/pandas-docs/stable/user_guide/indexing.html#returning-a-view-versus-a-copy\n",
      "\n"
     ]
    }
   ],
   "source": [
    "ninies_2020['RANGO_ETARIO'] = 'JUVENIL'\n",
    "hom_2020['RANGO_ETARIO'] = 'ADULTO'\n",
    "hom_ind_2020['RANGO_ETARIO'] = 'ADULTO'\n",
    "uni_2020['RANGO_ETARIO'] = 'ADULTO'\n",
    "muj_2020['RANGO_ETARIO'] = 'ADULTO'"
   ]
  },
  {
   "cell_type": "code",
   "execution_count": 42,
   "metadata": {},
   "outputs": [
    {
     "name": "stderr",
     "output_type": "stream",
     "text": [
      "<ipython-input-42-7f63ccb206c6>:1: SettingWithCopyWarning:\n",
      "\n",
      "\n",
      "A value is trying to be set on a copy of a slice from a DataFrame.\n",
      "Try using .loc[row_indexer,col_indexer] = value instead\n",
      "\n",
      "See the caveats in the documentation: https://pandas.pydata.org/pandas-docs/stable/user_guide/indexing.html#returning-a-view-versus-a-copy\n",
      "\n",
      "<ipython-input-42-7f63ccb206c6>:2: SettingWithCopyWarning:\n",
      "\n",
      "\n",
      "A value is trying to be set on a copy of a slice from a DataFrame.\n",
      "Try using .loc[row_indexer,col_indexer] = value instead\n",
      "\n",
      "See the caveats in the documentation: https://pandas.pydata.org/pandas-docs/stable/user_guide/indexing.html#returning-a-view-versus-a-copy\n",
      "\n",
      "<ipython-input-42-7f63ccb206c6>:3: SettingWithCopyWarning:\n",
      "\n",
      "\n",
      "A value is trying to be set on a copy of a slice from a DataFrame.\n",
      "Try using .loc[row_indexer,col_indexer] = value instead\n",
      "\n",
      "See the caveats in the documentation: https://pandas.pydata.org/pandas-docs/stable/user_guide/indexing.html#returning-a-view-versus-a-copy\n",
      "\n",
      "<ipython-input-42-7f63ccb206c6>:4: SettingWithCopyWarning:\n",
      "\n",
      "\n",
      "A value is trying to be set on a copy of a slice from a DataFrame.\n",
      "Try using .loc[row_indexer,col_indexer] = value instead\n",
      "\n",
      "See the caveats in the documentation: https://pandas.pydata.org/pandas-docs/stable/user_guide/indexing.html#returning-a-view-versus-a-copy\n",
      "\n",
      "<ipython-input-42-7f63ccb206c6>:5: SettingWithCopyWarning:\n",
      "\n",
      "\n",
      "A value is trying to be set on a copy of a slice from a DataFrame.\n",
      "Try using .loc[row_indexer,col_indexer] = value instead\n",
      "\n",
      "See the caveats in the documentation: https://pandas.pydata.org/pandas-docs/stable/user_guide/indexing.html#returning-a-view-versus-a-copy\n",
      "\n"
     ]
    }
   ],
   "source": [
    "ninies_2020['ANIO'] = '2020'\n",
    "hom_2020['ANIO'] = '2020'\n",
    "hom_ind_2020['ANIO'] = '2020'\n",
    "uni_2020['ANIO'] = '2020'\n",
    "muj_2020['ANIO'] = '2020'"
   ]
  },
  {
   "cell_type": "code",
   "execution_count": 43,
   "metadata": {},
   "outputs": [
    {
     "data": {
      "text/html": [
       "<div>\n",
       "<style scoped>\n",
       "    .dataframe tbody tr th:only-of-type {\n",
       "        vertical-align: middle;\n",
       "    }\n",
       "\n",
       "    .dataframe tbody tr th {\n",
       "        vertical-align: top;\n",
       "    }\n",
       "\n",
       "    .dataframe thead th {\n",
       "        text-align: right;\n",
       "    }\n",
       "</style>\n",
       "<table border=\"1\" class=\"dataframe\">\n",
       "  <thead>\n",
       "    <tr style=\"text-align: right;\">\n",
       "      <th></th>\n",
       "      <th>PROVINCIA</th>\n",
       "      <th>PRODUTO</th>\n",
       "      <th>TOTAL_VENTAS</th>\n",
       "      <th>GENERO</th>\n",
       "      <th>RANGO_ETARIO</th>\n",
       "      <th>ANIO</th>\n",
       "    </tr>\n",
       "  </thead>\n",
       "  <tbody>\n",
       "    <tr>\n",
       "      <th>0</th>\n",
       "      <td>BUENOS AIRES</td>\n",
       "      <td>MOCHILA FILA NINETEEN ELEVEN UNISEX</td>\n",
       "      <td>33053</td>\n",
       "      <td>ACC</td>\n",
       "      <td>ADULTO</td>\n",
       "      <td>2020</td>\n",
       "    </tr>\n",
       "    <tr>\n",
       "      <th>16</th>\n",
       "      <td>C.A.B.A.</td>\n",
       "      <td>MOCHILA FILA NINETEEN ELEVEN UNISEX</td>\n",
       "      <td>1170</td>\n",
       "      <td>ACC</td>\n",
       "      <td>ADULTO</td>\n",
       "      <td>2020</td>\n",
       "    </tr>\n",
       "    <tr>\n",
       "      <th>19</th>\n",
       "      <td>C.A.B.A.</td>\n",
       "      <td>BOTIN SINTETICO UMBRO INSIGHT</td>\n",
       "      <td>980</td>\n",
       "      <td>ACC</td>\n",
       "      <td>ADULTO</td>\n",
       "      <td>2020</td>\n",
       "    </tr>\n",
       "    <tr>\n",
       "      <th>28</th>\n",
       "      <td>CATAMARCA</td>\n",
       "      <td>MOCHILA FILA NINETEEN ELEVEN UNISEX</td>\n",
       "      <td>190</td>\n",
       "      <td>ACC</td>\n",
       "      <td>ADULTO</td>\n",
       "      <td>2020</td>\n",
       "    </tr>\n",
       "    <tr>\n",
       "      <th>34</th>\n",
       "      <td>CHACO</td>\n",
       "      <td>MOCHILA FILA NINETEEN ELEVEN UNISEX</td>\n",
       "      <td>300</td>\n",
       "      <td>ACC</td>\n",
       "      <td>ADULTO</td>\n",
       "      <td>2020</td>\n",
       "    </tr>\n",
       "    <tr>\n",
       "      <th>...</th>\n",
       "      <td>...</td>\n",
       "      <td>...</td>\n",
       "      <td>...</td>\n",
       "      <td>...</td>\n",
       "      <td>...</td>\n",
       "      <td>...</td>\n",
       "    </tr>\n",
       "    <tr>\n",
       "      <th>3</th>\n",
       "      <td>BUENOS AIRES</td>\n",
       "      <td>ZAPATILLA FILA EURO JOGGER SPORT HOMBRE</td>\n",
       "      <td>19652</td>\n",
       "      <td>MASC</td>\n",
       "      <td>ADULTO</td>\n",
       "      <td>2020</td>\n",
       "    </tr>\n",
       "    <tr>\n",
       "      <th>4</th>\n",
       "      <td>BUENOS AIRES</td>\n",
       "      <td>ZAPATILLA FILA DISCOVERY HOMBRE</td>\n",
       "      <td>14521</td>\n",
       "      <td>MASC</td>\n",
       "      <td>ADULTO</td>\n",
       "      <td>2020</td>\n",
       "    </tr>\n",
       "    <tr>\n",
       "      <th>5</th>\n",
       "      <td>BUENOS AIRES</td>\n",
       "      <td>ZAPATILLA FILA SLANT FORCE HOMBRE</td>\n",
       "      <td>14074</td>\n",
       "      <td>MASC</td>\n",
       "      <td>ADULTO</td>\n",
       "      <td>2020</td>\n",
       "    </tr>\n",
       "    <tr>\n",
       "      <th>8</th>\n",
       "      <td>BUENOS AIRES</td>\n",
       "      <td>ZAPATILLA FILA LUGANO 6.0 HOMBRE</td>\n",
       "      <td>9858</td>\n",
       "      <td>MASC</td>\n",
       "      <td>ADULTO</td>\n",
       "      <td>2020</td>\n",
       "    </tr>\n",
       "    <tr>\n",
       "      <th>12</th>\n",
       "      <td>C.A.B.A.</td>\n",
       "      <td>ZAPATILLA FILA EURO JOGGER SPORT HOMBRE</td>\n",
       "      <td>1419</td>\n",
       "      <td>MASC</td>\n",
       "      <td>ADULTO</td>\n",
       "      <td>2020</td>\n",
       "    </tr>\n",
       "  </tbody>\n",
       "</table>\n",
       "<p>100 rows × 6 columns</p>\n",
       "</div>"
      ],
      "text/plain": [
       "       PROVINCIA                                  PRODUTO  TOTAL_VENTAS  \\\n",
       "0   BUENOS AIRES      MOCHILA FILA NINETEEN ELEVEN UNISEX         33053   \n",
       "16      C.A.B.A.      MOCHILA FILA NINETEEN ELEVEN UNISEX          1170   \n",
       "19      C.A.B.A.            BOTIN SINTETICO UMBRO INSIGHT           980   \n",
       "28     CATAMARCA      MOCHILA FILA NINETEEN ELEVEN UNISEX           190   \n",
       "34         CHACO      MOCHILA FILA NINETEEN ELEVEN UNISEX           300   \n",
       "..           ...                                      ...           ...   \n",
       "3   BUENOS AIRES  ZAPATILLA FILA EURO JOGGER SPORT HOMBRE         19652   \n",
       "4   BUENOS AIRES          ZAPATILLA FILA DISCOVERY HOMBRE         14521   \n",
       "5   BUENOS AIRES        ZAPATILLA FILA SLANT FORCE HOMBRE         14074   \n",
       "8   BUENOS AIRES         ZAPATILLA FILA LUGANO 6.0 HOMBRE          9858   \n",
       "12      C.A.B.A.  ZAPATILLA FILA EURO JOGGER SPORT HOMBRE          1419   \n",
       "\n",
       "   GENERO RANGO_ETARIO  ANIO  \n",
       "0     ACC       ADULTO  2020  \n",
       "16    ACC       ADULTO  2020  \n",
       "19    ACC       ADULTO  2020  \n",
       "28    ACC       ADULTO  2020  \n",
       "34    ACC       ADULTO  2020  \n",
       "..    ...          ...   ...  \n",
       "3    MASC       ADULTO  2020  \n",
       "4    MASC       ADULTO  2020  \n",
       "5    MASC       ADULTO  2020  \n",
       "8    MASC       ADULTO  2020  \n",
       "12   MASC       ADULTO  2020  \n",
       "\n",
       "[100 rows x 6 columns]"
      ]
     },
     "execution_count": 43,
     "metadata": {},
     "output_type": "execute_result"
    }
   ],
   "source": [
    "df_2020 = pd.concat([uni_2020,ninies_2020, hom_2020,hom_ind_2020,muj_2020], axis=0)\n",
    "df_2020.head(100)"
   ]
  },
  {
   "cell_type": "raw",
   "metadata": {},
   "source": [
    "df_2019.head(100)"
   ]
  },
  {
   "cell_type": "code",
   "execution_count": 19,
   "metadata": {},
   "outputs": [],
   "source": [
    "#df_2019.to_csv('df_2019_.csv')\n",
    "#df_2020.to_csv('df_2020_.csv')"
   ]
  },
  {
   "cell_type": "code",
   "execution_count": 20,
   "metadata": {},
   "outputs": [],
   "source": [
    "c = pd.concat([df_2019,df_2020],ignore_index=True)"
   ]
  },
  {
   "cell_type": "code",
   "execution_count": 21,
   "metadata": {},
   "outputs": [],
   "source": [
    "c.to_csv('SKU_masVendidos.csv')"
   ]
  },
  {
   "cell_type": "code",
   "execution_count": 22,
   "metadata": {},
   "outputs": [],
   "source": [
    "#df_2020.to_csv('SKU_masVendidos_2020.csv')"
   ]
  },
  {
   "cell_type": "code",
   "execution_count": 23,
   "metadata": {},
   "outputs": [],
   "source": [
    "#df_2019.to_csv('SKU_masVendidos_2019.csv')"
   ]
  },
  {
   "cell_type": "markdown",
   "metadata": {},
   "source": [
    "**GRÁFICA SCATTER 2019 y 2020 CON ANIMACIÓN**"
   ]
  },
  {
   "cell_type": "code",
   "execution_count": 44,
   "metadata": {},
   "outputs": [],
   "source": [
    "import plotly.express as px\n",
    "for template in [ \"plotly_dark\"]:\n",
    "\n",
    "    fig = px.scatter(c, x=\"GENERO\", y=\"TOTAL_VENTAS\", animation_frame=\"ANIO\", animation_group=\"PROVINCIA\",\n",
    "           size=\"TOTAL_VENTAS\", color=\"GENERO\", hover_name=\"PROVINCIA\",template=template)\n",
    "    \n",
    "    fig.write_html('first_figure.html', auto_open=True)"
   ]
  },
  {
   "cell_type": "markdown",
   "metadata": {},
   "source": [
    "**GRÁFICA BAR 2019 Y 2020 CON ANIMACIÓN**"
   ]
  },
  {
   "cell_type": "code",
   "execution_count": 50,
   "metadata": {},
   "outputs": [],
   "source": [
    "import plotly.express as px\n",
    "\n",
    "for template in [ \"plotly_dark\"]:\n",
    "    fig = px.bar(c, x=\"GENERO\", y=\"TOTAL_VENTAS\", color=\"PROVINCIA\",\n",
    "                  animation_frame=\"ANIO\", template=template)\n",
    "    fig.write_html('first_figure.html', auto_open=True)\n",
    "    fig.write_html(\"Animacion.html\")"
   ]
  },
  {
   "cell_type": "markdown",
   "metadata": {},
   "source": [
    "**GRÁFICA BAR COMPARATIVA 2019 Y 2020**"
   ]
  },
  {
   "cell_type": "raw",
   "metadata": {},
   "source": [
    "import plotly.graph_objects as go\n",
    "colors = ['coral', 'turquoise', 'deeppink', 'yellowgreen']\n",
    "for template in [\"plotly_dark\"]:\n",
    "    \n",
    "    fig = go.Figure(\n",
    "        data=[ go.Bar(name='2019', x=df_2019[\"GENERO\"], y=df_2019[\"TOTAL_VENTAS\"]),\n",
    "              go.Bar(name='2020', x=df_2020[\"GENERO\"], y=df_2020[\"TOTAL_VENTAS\"])]\n",
    "    )\n",
    "# Change the bar mode\n",
    "    \n",
    "    fig.update_layout(barmode='group',template=template)\n",
    "    fig.write_html('first_figure.html', auto_open=True)\n",
    "    "
   ]
  },
  {
   "cell_type": "code",
   "execution_count": 48,
   "metadata": {},
   "outputs": [],
   "source": [
    "for template in [\"plotly_dark\"]:\n",
    "    trace1 = go.Bar(name='2019', x=df_2019[\"GENERO\"], y=df_2019[\"TOTAL_VENTAS\"],marker_color='#78d1c4')\n",
    "\n",
    "    trace2 = go.Bar(name='2020', x=df_2020[\"GENERO\"], y=df_2020[\"TOTAL_VENTAS\"],marker_color='#af009a')\n",
    "\n",
    "    data = [trace1, trace2]\n",
    "    layout = go.Layout(barmode = 'group',template=template)\n",
    "    fig = go.Figure(data = data, layout = layout)\n",
    "    \n",
    "#    fig.update_traces(marker=dict(color=('red','blue')))\n",
    "    fig.write_html('first_figure.html', auto_open=True)\n",
    "    fig.write_html(\"Downloads.html\")"
   ]
  },
  {
   "cell_type": "code",
   "execution_count": null,
   "metadata": {},
   "outputs": [],
   "source": []
  }
 ],
 "metadata": {
  "kernelspec": {
   "display_name": "Python 3",
   "language": "python",
   "name": "python3"
  },
  "language_info": {
   "codemirror_mode": {
    "name": "ipython",
    "version": 3
   },
   "file_extension": ".py",
   "mimetype": "text/x-python",
   "name": "python",
   "nbconvert_exporter": "python",
   "pygments_lexer": "ipython3",
   "version": "3.8.5"
  }
 },
 "nbformat": 4,
 "nbformat_minor": 4
}
