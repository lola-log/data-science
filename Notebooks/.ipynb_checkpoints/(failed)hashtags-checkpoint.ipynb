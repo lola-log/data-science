{
 "cells": [
  {
   "cell_type": "code",
   "execution_count": 1,
   "metadata": {},
   "outputs": [],
   "source": [
    "from instaloader import Instaloader, Profile\n",
    "import datetime\n",
    "\n",
    "MAX_DAYS = 50\n",
    "\n",
    "LIKES_WEIGHT = 1\n",
    "COMMENTS_WEIGHT = 1\n",
    "NUM_FOLLOWERS_WEIGHT = 1\n",
    "NUM_POSTS_WEIGHT = 1\n",
    "\n",
    "def get_summary(profile):\n",
    "    user = {}\n",
    "    # print('Engagement.get_summary: {}'.format(profile.username))\n",
    "    user['followers'] = profile.followers\n",
    "    # print('  Followers: {}'.format(profile.followers))\n",
    "\n",
    "    total_num_likes = 0\n",
    "    total_num_comments = 0\n",
    "    total_num_posts = 0\n",
    "    current_date = datetime.datetime.now()\n",
    "\n",
    "    for post in profile.get_posts():\n",
    "        delta = current_date - post.date\n",
    "        if (delta.days > MAX_DAYS):\n",
    "            break\n",
    "        if (post.likes is not None):\n",
    "            total_num_likes += post.likes\n",
    "        if (post.comments is not None):\n",
    "            total_num_comments += post.comments\n",
    "        total_num_posts += 1\n",
    "        # print('  {} - Number of Likes: {}, Number of Comments: {}, Post Date: {}'.format(total_num_posts, total_num_likes, total_num_comments, post.date))\n",
    "\n",
    "    engagement = 0\n",
    "    if profile.followers > 0 and total_num_posts > 0:\n",
    "        engagement = float( (LIKES_WEIGHT * total_num_likes) + (COMMENTS_WEIGHT * total_num_comments)) / ((NUM_FOLLOWERS_WEIGHT * profile.followers) * (NUM_POSTS_WEIGHT * total_num_posts))\n",
    "    user['engagement'] = engagement * 100\n",
    "    # print('  Engagement: {}'.format(user['engagement']))\n",
    "    user['num_recent_posts'] = total_num_posts\n",
    "    # print('  Number of Recent Posts: {}'.format(user['num_recent_posts']))\n",
    "    post_freq = 0.0\n",
    "    if (total_num_posts > 0):\n",
    "        post_freq = float(MAX_DAYS) / total_num_posts\n",
    "    user['post_frequency'] = post_freq\n",
    "    # print('  Recent Post Frequency: {}'.format(user['post_frequency']))\n",
    "    return user"
   ]
  },
  {
   "cell_type": "code",
   "execution_count": 2,
   "metadata": {},
   "outputs": [],
   "source": [
    "loader = Instaloader()\n",
    "NUM_POSTS = 10\n",
    "\n",
    "def get_hashtags_posts(query):\n",
    "    posts = loader.get_hashtag_posts(query)\n",
    "    users = {}\n",
    "    count = 0\n",
    "    for post in posts:\n",
    "        profile = post.owner_profile\n",
    "        if profile.username not in users:\n",
    "            summary = engagement.get_summary(profile)\n",
    "            users[profile.username] = summary\n",
    "            count += 1\n",
    "            print('{}: {}'.format(count, profile.username))\n",
    "            if count == NUM_POSTS:\n",
    "                break\n",
    "    return users"
   ]
  },
  {
   "cell_type": "code",
   "execution_count": 4,
   "metadata": {},
   "outputs": [
    {
     "ename": "NameError",
     "evalue": "name 'engagement' is not defined",
     "output_type": "error",
     "traceback": [
      "\u001b[0;31m---------------------------------------------------------------------------\u001b[0m",
      "\u001b[0;31mNameError\u001b[0m                                 Traceback (most recent call last)",
      "\u001b[0;32m<ipython-input-4-05f7dd871f33>\u001b[0m in \u001b[0;36m<module>\u001b[0;34m\u001b[0m\n\u001b[1;32m     24\u001b[0m \u001b[0;32mif\u001b[0m \u001b[0m__name__\u001b[0m \u001b[0;34m==\u001b[0m \u001b[0;34m\"__main__\"\u001b[0m\u001b[0;34m:\u001b[0m\u001b[0;34m\u001b[0m\u001b[0;34m\u001b[0m\u001b[0m\n\u001b[1;32m     25\u001b[0m     \u001b[0mhashtag\u001b[0m \u001b[0;34m=\u001b[0m \u001b[0;34m\"tacos\"\u001b[0m\u001b[0;34m\u001b[0m\u001b[0;34m\u001b[0m\u001b[0m\n\u001b[0;32m---> 26\u001b[0;31m     \u001b[0musers\u001b[0m \u001b[0;34m=\u001b[0m \u001b[0mget_hashtags_posts\u001b[0m\u001b[0;34m(\u001b[0m\u001b[0mhashtag\u001b[0m\u001b[0;34m)\u001b[0m\u001b[0;34m\u001b[0m\u001b[0;34m\u001b[0m\u001b[0m\n\u001b[0m\u001b[1;32m     27\u001b[0m     \u001b[0mprint\u001b[0m\u001b[0;34m(\u001b[0m\u001b[0musers\u001b[0m\u001b[0;34m)\u001b[0m\u001b[0;34m\u001b[0m\u001b[0;34m\u001b[0m\u001b[0m\n",
      "\u001b[0;32m<ipython-input-4-05f7dd871f33>\u001b[0m in \u001b[0;36mget_hashtags_posts\u001b[0;34m(query)\u001b[0m\n\u001b[1;32m     14\u001b[0m         \u001b[0mprofile\u001b[0m \u001b[0;34m=\u001b[0m \u001b[0mpost\u001b[0m\u001b[0;34m.\u001b[0m\u001b[0mowner_profile\u001b[0m\u001b[0;34m\u001b[0m\u001b[0;34m\u001b[0m\u001b[0m\n\u001b[1;32m     15\u001b[0m         \u001b[0;32mif\u001b[0m \u001b[0mprofile\u001b[0m\u001b[0;34m.\u001b[0m\u001b[0musername\u001b[0m \u001b[0;32mnot\u001b[0m \u001b[0;32min\u001b[0m \u001b[0musers\u001b[0m\u001b[0;34m:\u001b[0m\u001b[0;34m\u001b[0m\u001b[0;34m\u001b[0m\u001b[0m\n\u001b[0;32m---> 16\u001b[0;31m             \u001b[0msummary\u001b[0m \u001b[0;34m=\u001b[0m \u001b[0mengagement\u001b[0m\u001b[0;34m.\u001b[0m\u001b[0mget_summary\u001b[0m\u001b[0;34m(\u001b[0m\u001b[0mprofile\u001b[0m\u001b[0;34m)\u001b[0m\u001b[0;34m\u001b[0m\u001b[0;34m\u001b[0m\u001b[0m\n\u001b[0m\u001b[1;32m     17\u001b[0m             \u001b[0musers\u001b[0m\u001b[0;34m[\u001b[0m\u001b[0mprofile\u001b[0m\u001b[0;34m.\u001b[0m\u001b[0musername\u001b[0m\u001b[0;34m]\u001b[0m \u001b[0;34m=\u001b[0m \u001b[0msummary\u001b[0m\u001b[0;34m\u001b[0m\u001b[0;34m\u001b[0m\u001b[0m\n\u001b[1;32m     18\u001b[0m             \u001b[0mcount\u001b[0m \u001b[0;34m+=\u001b[0m \u001b[0;36m1\u001b[0m\u001b[0;34m\u001b[0m\u001b[0;34m\u001b[0m\u001b[0m\n",
      "\u001b[0;31mNameError\u001b[0m: name 'engagement' is not defined"
     ]
    }
   ],
   "source": [
    "import threading\n",
    "from instaloader import Instaloader, Profile\n",
    "#import engagement\n",
    "import pickle\n",
    "\n",
    "loader = Instaloader()\n",
    "NUM_POSTS = 10\n",
    "\n",
    "def get_hashtags_posts(query):\n",
    "    posts = loader.get_hashtag_posts(query)\n",
    "    users = {}\n",
    "    count = 0\n",
    "    for post in posts:\n",
    "        profile = post.owner_profile\n",
    "        if profile.username not in users:\n",
    "            summary = engagement.get_summary(profile)\n",
    "            users[profile.username] = summary\n",
    "            count += 1\n",
    "            print('{}: {}'.format(count, profile.username))\n",
    "            if count == NUM_POSTS:\n",
    "                break\n",
    "    return users\n",
    "\n",
    "if __name__ == \"__main__\":\n",
    "    hashtag = \"tacos\"\n",
    "    users = get_hashtags_posts(hashtag)\n",
    "    print(users)"
   ]
  },
  {
   "cell_type": "code",
   "execution_count": 7,
   "metadata": {},
   "outputs": [
    {
     "name": "stdout",
     "output_type": "stream",
     "text": [
      "1.5205588448667244\n"
     ]
    }
   ],
   "source": [
    "PROFILE_NAME = \"espaciosya\"\n",
    "target_profile = PROFILE_NAME\n",
    "\n",
    "from instaloader import Instaloader, Profile\n",
    "loader = Instaloader()\n",
    "\n",
    "profile = Profile.from_username(loader.context, target_profile)\n",
    "\n",
    "num_followers = profile.followers\n",
    "total_num_likes = 0\n",
    "total_num_comments = 0\n",
    "total_num_posts = 0\n",
    "\n",
    "for post in profile.get_posts():\n",
    "    total_num_likes += post.likes\n",
    "    total_num_comments += post.comments\n",
    "    total_num_posts += 1\n",
    "\n",
    "\n",
    "engagement = float(total_num_likes + total_num_comments) / (num_followers * total_num_posts)\n",
    "print(engagement * 100)"
   ]
  },
  {
   "cell_type": "code",
   "execution_count": null,
   "metadata": {},
   "outputs": [],
   "source": []
  }
 ],
 "metadata": {
  "kernelspec": {
   "display_name": "Python 3",
   "language": "python",
   "name": "python3"
  },
  "language_info": {
   "codemirror_mode": {
    "name": "ipython",
    "version": 3
   },
   "file_extension": ".py",
   "mimetype": "text/x-python",
   "name": "python",
   "nbconvert_exporter": "python",
   "pygments_lexer": "ipython3",
   "version": "3.8.3"
  }
 },
 "nbformat": 4,
 "nbformat_minor": 4
}
