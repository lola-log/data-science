{
 "cells": [
  {
   "cell_type": "markdown",
   "metadata": {},
   "source": [
    "**LIBRERIAS**"
   ]
  },
  {
   "cell_type": "code",
   "execution_count": 1,
   "metadata": {},
   "outputs": [
    {
     "name": "stdout",
     "output_type": "stream",
     "text": [
      "Fail to import moviepy. Need only for Video upload.\n"
     ]
    }
   ],
   "source": [
    "from InstagramAPI import InstagramAPI\n",
    "import pandas as pd\n",
    "from pandas.io.json import json_normalize\n",
    "import json\n",
    "from time import sleep\n",
    "from datetime import datetime"
   ]
  },
  {
   "cell_type": "markdown",
   "metadata": {},
   "source": [
    "**LOG IN A LA CUENTA**"
   ]
  },
  {
   "cell_type": "code",
   "execution_count": 2,
   "metadata": {},
   "outputs": [
    {
     "name": "stdout",
     "output_type": "stream",
     "text": [
      "Request return 405 error!\n",
      "{'message': '', 'status': 'fail'}\n",
      "Request return 404 error!\n",
      "Login success!\n",
      "\n"
     ]
    },
    {
     "data": {
      "text/plain": [
       "True"
      ]
     },
     "execution_count": 2,
     "metadata": {},
     "output_type": "execute_result"
    }
   ],
   "source": [
    "api = InstagramAPI(\"espaciosya\", \"spikelee8\")\n",
    "api.login()"
   ]
  },
  {
   "cell_type": "markdown",
   "metadata": {},
   "source": [
    "**ACTIVIDAD RECIENTE DE LA CUENTA**"
   ]
  },
  {
   "cell_type": "code",
   "execution_count": 3,
   "metadata": {
    "jupyter": {
     "source_hidden": true
    },
    "scrolled": true
   },
   "outputs": [
    {
     "name": "stdout",
     "output_type": "stream",
     "text": [
      "bunnywizzard commented: ❤\n",
      "espacio37salasshow started following you.\n",
      "flaviavcoccia liked your photo.\n",
      "psicologa.sandraderossi liked your photo.\n",
      "andrea._bernhardt liked your photo.\n",
      "rentartba liked your photo.\n",
      "silveiragaston liked your photo.\n",
      "elsupremocomics started following you.\n",
      "juancruzgandolfi started following you.\n",
      "grupo.qmt started following you.\n",
      "caceresofi liked your photo.\n",
      "feliferrari liked your photo.\n",
      "ai_digitalmarketing liked your photo.\n",
      "mab_ciancio liked your photo.\n",
      "noelzapater liked your photo.\n",
      "sofichamo liked your photo.\n",
      "juan.gourmet liked your photo.\n",
      "adri_b_millan liked your photo.\n",
      "hertaborda liked your photo.\n",
      "aruchasouza liked your photo.\n",
      "aviagustina liked your photo.\n",
      "lupitas78 started following you.\n",
      "fernandonarcisolopez liked your photo.\n",
      "by_sela liked your photo.\n",
      "albertoybarra1965 liked your photo.\n",
      "noebarral started following you.\n",
      "avila7018 liked your photo.\n",
      "juanbasili started following you.\n",
      "antoniolibras liked your photo.\n",
      "panyqueso liked your photo.\n",
      "mantenimientodeheza liked your photo.\n",
      "sobviotxica liked your photo.\n",
      "sobviotxica liked your photo.\n",
      "sobviotxica liked your post.\n",
      "sobviotxica liked your photo.\n",
      "sobviotxica liked your IGTV video.\n",
      "sobviotxica liked your post.\n",
      "sobviotxica liked your photo.\n",
      "macarenapaisani liked your photo.\n",
      "julianperuilh95 started following you.\n",
      "mab_ciancio liked your photo.\n",
      "caceresofi liked your photo.\n",
      "vi_marka_design started following you.\n",
      "paulina.portela.1 liked your photo.\n",
      "juan.gourmet liked your photo.\n",
      "estebanolivera72 liked your photo.\n",
      "aviagustina liked your photo.\n",
      "sofichamo liked your photo.\n",
      "merevequoz liked your photo.\n",
      "andrea._bernhardt liked your photo.\n",
      "aruchasouza liked your photo.\n",
      "rosanacalabrese liked your photo.\n",
      "facu.guimil started following you.\n",
      "beabown liked your post.\n",
      "brule.atelier started following you.\n",
      "laruufiore started following you.\n",
      "avon.camara.y.accion liked your post.\n",
      "flaviavcoccia liked your post.\n",
      "langostinochiari liked your post.\n",
      "bunnywizzard liked your post.\n",
      "lyrical__brush liked your post.\n",
      "rosanacalabrese liked your post.\n",
      "lennyruizc liked your photo.\n",
      "reynosolulu started following you.\n",
      "duhastenri liked your photo.\n",
      "lina.acosta.9465 liked your photo.\n",
      "karinsiarra liked your photo.\n",
      "nikond3500gc liked your photo.\n",
      "7th_floor_rituals started following you.\n",
      "adriana.martinssoares.37 liked your photo.\n",
      "alejandro_herenu liked your photo.\n",
      "silveiragaston liked your post.\n",
      "grupolaundry liked your photo.\n",
      "ariel.attianese.laboral liked your post.\n",
      "juan.gourmet liked your post.\n",
      "losatrapasuenosdecris liked your post.\n",
      "agusbadass liked your photo.\n",
      "automotoresquattro liked your photo.\n",
      "vazquezarayaoficial liked your photo.\n",
      "lasjardineras.estudio liked your photo.\n",
      "rentartba liked your post.\n",
      "lucassleiiva liked your photo.\n",
      "sergio.saucedo.773776 liked your photo.\n",
      "alexis_paredes_503 liked your photo.\n",
      "hernantalonier started following you.\n",
      "paulina.portela.1 started following you.\n",
      "a_hirsfeld.04 liked your photo.\n",
      "matiiascanabides liked your photo.\n",
      "brandon7541 liked your photo.\n",
      "ratonmansilla liked your photo.\n",
      "ignaciio_beat liked your photo.\n",
      "pabloabadie liked your photo.\n",
      "poloworktime liked your photo.\n",
      "aruchasouza liked your post.\n",
      "noelzapater liked your post.\n",
      "sebasfrias01 liked your photo.\n",
      "vlrprdz liked your post.\n",
      "patfotograma0 liked your photo.\n",
      "michel.omg liked your photo.\n",
      "ma_ximiliano9224 liked your photo.\n"
     ]
    }
   ],
   "source": [
    "api.getRecentActivity()\n",
    "get_recent_activity_response= api.LastJson \n",
    "for notifcation in get_recent_activity_response['old_stories']:\n",
    "    print(notifcation['args']['text'])"
   ]
  },
  {
   "cell_type": "markdown",
   "metadata": {},
   "source": [
    "**CONSULTAR ACTIVIDAD DE UN SEGUIDOR ESPECIFICX**"
   ]
  },
  {
   "cell_type": "code",
   "execution_count": 4,
   "metadata": {
    "jupyter": {
     "source_hidden": true
    }
   },
   "outputs": [
    {
     "name": "stdout",
     "output_type": "stream",
     "text": [
      "merevequoz liked your photo.\n"
     ]
    }
   ],
   "source": [
    "username=\"merevequoz\"\n",
    "for notifcation in get_recent_activity_response['old_stories']:\n",
    "    text = notifcation['args']['text']\n",
    "    if username  in text:\n",
    "        print (text)"
   ]
  },
  {
   "cell_type": "markdown",
   "metadata": {},
   "source": [
    "**SOLO PARA DEJAR DE SEGUIR A QUIENES NO SIGAN A LA CUENTA**"
   ]
  },
  {
   "cell_type": "raw",
   "metadata": {
    "jupyter": {
     "source_hidden": true
    }
   },
   "source": [
    "follower_users = []\n",
    "\n",
    "def unfollow_users():\n",
    "    api.login()\n",
    "    api.getSelfUserFollowers() # Get your followers\n",
    "    result = api.LastJson\n",
    "    for user in result['users']:\n",
    "        follower_users.append({'pk':user['pk'], 'username':user['username']})\n",
    "\n",
    "    api.getSelfUsersFollowing() # Get users which you are following\n",
    "    result = api.LastJson\n",
    "    for user in result['users']:\n",
    "        following_users.append({'pk':user['pk'],'username':user['username']})\n",
    "    for user in following_users:\n",
    "        if not user['pk'] in follower_users: # if the user not follows you\n",
    "            print('Unfollowing @' + user['username'])\n",
    "            api.unfollow(user['pk'])\n",
    "            # set this really long to avoid from suspension\n",
    "            sleep(20) "
   ]
  },
  {
   "cell_type": "markdown",
   "metadata": {},
   "source": [
    "**OTRO CODIGO**\n"
   ]
  },
  {
   "cell_type": "markdown",
   "metadata": {},
   "source": [
    "**CONSEGUIR TOTAL DE POSTEOS**"
   ]
  },
  {
   "cell_type": "code",
   "execution_count": 5,
   "metadata": {},
   "outputs": [
    {
     "name": "stdout",
     "output_type": "stream",
     "text": [
      "18 posts retrieved so far...\n",
      "36 posts retrieved so far...\n",
      "54 posts retrieved so far...\n",
      "72 posts retrieved so far...\n",
      "90 posts retrieved so far...\n",
      "108 posts retrieved so far...\n",
      "126 posts retrieved so far...\n",
      "Total posts retrieved: 133\n"
     ]
    }
   ],
   "source": [
    "import time\n",
    "def get_my_posts(api):\n",
    "    '''Retrieve all posts from own profile'''\n",
    "    my_posts = []\n",
    "    has_more_posts = True\n",
    "    max_id= ''\n",
    "\n",
    "    while has_more_posts:\n",
    "        api.getSelfUserFeed(maxid=max_id)\n",
    "        if api.LastJson['more_available'] is not True:\n",
    "            has_more_posts = False #stop condition\n",
    "\n",
    "        max_id = api.LastJson.get('next_max_id','')\n",
    "        my_posts.extend(api.LastJson['items']) #merge lists\n",
    "        time.sleep(2) # slows down to avoid flooding\n",
    "\n",
    "        if has_more_posts:\n",
    "            print(str(len(my_posts)) + ' posts retrieved so far...')\n",
    "\n",
    "    print('Total posts retrieved: ' + str(len(my_posts)))\n",
    "    \n",
    "    return my_posts\n",
    "\n",
    "my_posts = get_my_posts(api)"
   ]
  },
  {
   "cell_type": "markdown",
   "metadata": {},
   "source": [
    "**RECOGE INFO DE TODOS LOS LIKES DE TODOS LOS POSTEOS**"
   ]
  },
  {
   "cell_type": "code",
   "execution_count": 6,
   "metadata": {},
   "outputs": [
    {
     "name": "stdout",
     "output_type": "stream",
     "text": [
      "wait 4.4 minutes\n",
      "done\n"
     ]
    }
   ],
   "source": [
    "def get_posts_likers(api, my_posts):\n",
    "    '''Retrieve all likers on all posts'''\n",
    "    \n",
    "    likers = []\n",
    "    \n",
    "    print('wait %.1f minutes' % (len(my_posts)*2/60.))\n",
    "    for i in range(len(my_posts)):\n",
    "        m_id = my_posts[i]['id']\n",
    "        api.getMediaLikers(m_id)\n",
    "        \n",
    "        likers += [api.LastJson]\n",
    "        \n",
    "        # Include post_id in likers dict list\n",
    "        likers[i]['post_id'] = m_id\n",
    "        \n",
    "        time.sleep(2)\n",
    "    print('done')\n",
    "    \n",
    "    return likers\n",
    "\n",
    "\n",
    "likers = get_posts_likers(api, my_posts)  "
   ]
  },
  {
   "cell_type": "code",
   "execution_count": 7,
   "metadata": {},
   "outputs": [
    {
     "name": "stdout",
     "output_type": "stream",
     "text": [
      "wait 4.4 minutes\n",
      "done\n"
     ]
    }
   ],
   "source": [
    "def get_liked_media (api, my_posts):\n",
    "    '''Retrieve all likers on all posts'''\n",
    "    \n",
    "    likes = []\n",
    "    \n",
    "    print('wait %.1f minutes' % (len(my_posts)*2/60.))\n",
    "    for i in range(len(my_posts)):\n",
    "        m_id = my_posts[i]['id']\n",
    "        api.getLikedMedia(m_id)\n",
    "        \n",
    "        likes += [api.LastJson]\n",
    "        \n",
    "        # Include post_id in likers dict list\n",
    "        likes[i]['post_id'] = m_id\n",
    "        \n",
    "        time.sleep(2)\n",
    "    print('done')\n",
    "    \n",
    "    return likes\n",
    "\n",
    "\n",
    "liked_media = get_liked_media(api, my_posts)  "
   ]
  },
  {
   "cell_type": "code",
   "execution_count": 8,
   "metadata": {},
   "outputs": [],
   "source": [
    "def posts_likers_to_df(liked_media):\n",
    "    '''Transforms likers list of dicts into pandas DataFrame'''\n",
    "    \n",
    "    # Normalize likers by getting the 'users' list and the post_id of each like\n",
    "    df_likers = pd.json_normalize(liked_media, 'users', ['post_id'])\n",
    "    \n",
    "    # Add 'content_type' column to know the rows are likes\n",
    "    df_likers['content_type'] = 'like'\n",
    "    \n",
    "    return df_likers\n",
    "\n",
    "df_liked_media = posts_likers_to_df(likers)"
   ]
  },
  {
   "cell_type": "markdown",
   "metadata": {},
   "source": [
    "**RECIBE TODOS LOS COMENTARIOS EN TODOS LOS POSTEOS**"
   ]
  },
  {
   "cell_type": "code",
   "execution_count": 9,
   "metadata": {},
   "outputs": [
    {
     "name": "stdout",
     "output_type": "stream",
     "text": [
      "wait 4.4 minutes\n",
      "done\n"
     ]
    }
   ],
   "source": [
    "def get_posts_commenters(api, my_posts):\n",
    "    '''Retrieve all commenters on all posts '''\n",
    "    \n",
    "    commenters = []\n",
    "    \n",
    "    print('wait %.1f minutes' % (len(my_posts)*2/60.))\n",
    "    for i in range(len(my_posts)):\n",
    "        m_id = my_posts[i]['id']\n",
    "        api.getMediaComments(m_id)\n",
    "        \n",
    "        commenters += [api.LastJson]\n",
    "        \n",
    "        # Include post_id in commenters dict list\n",
    "        commenters[i]['post_id'] = m_id\n",
    "            \n",
    "        time.sleep(2)\n",
    "    print('done')\n",
    "    \n",
    "    return commenters\n",
    "\n",
    "commenters = get_posts_commenters(api, my_posts)"
   ]
  },
  {
   "cell_type": "markdown",
   "metadata": {},
   "source": [
    "**CONVIERTE TODOS LOS LIKES Y LOS COMENTARIOS EN UN DATAFRAME**"
   ]
  },
  {
   "cell_type": "code",
   "execution_count": 10,
   "metadata": {},
   "outputs": [
    {
     "data": {
      "text/html": [
       "<div>\n",
       "<style scoped>\n",
       "    .dataframe tbody tr th:only-of-type {\n",
       "        vertical-align: middle;\n",
       "    }\n",
       "\n",
       "    .dataframe tbody tr th {\n",
       "        vertical-align: top;\n",
       "    }\n",
       "\n",
       "    .dataframe thead th {\n",
       "        text-align: right;\n",
       "    }\n",
       "</style>\n",
       "<table border=\"1\" class=\"dataframe\">\n",
       "  <thead>\n",
       "    <tr style=\"text-align: right;\">\n",
       "      <th></th>\n",
       "      <th>pk</th>\n",
       "      <th>username</th>\n",
       "      <th>full_name</th>\n",
       "      <th>is_private</th>\n",
       "      <th>profile_pic_url</th>\n",
       "      <th>profile_pic_id</th>\n",
       "      <th>is_verified</th>\n",
       "      <th>latest_reel_media</th>\n",
       "      <th>post_id</th>\n",
       "      <th>content_type</th>\n",
       "    </tr>\n",
       "  </thead>\n",
       "  <tbody>\n",
       "    <tr>\n",
       "      <th>0</th>\n",
       "      <td>13251312016</td>\n",
       "      <td>rentartba</td>\n",
       "      <td>RentArt.</td>\n",
       "      <td>False</td>\n",
       "      <td>https://instagram.faep9-2.fna.fbcdn.net/v/t51....</td>\n",
       "      <td>2043020516404438767_13251312016</td>\n",
       "      <td>False</td>\n",
       "      <td>0</td>\n",
       "      <td>2360409922946177275_13861534605</td>\n",
       "      <td>like</td>\n",
       "    </tr>\n",
       "    <tr>\n",
       "      <th>1</th>\n",
       "      <td>1555969795</td>\n",
       "      <td>silveiragaston</td>\n",
       "      <td>G. S Artista Visual</td>\n",
       "      <td>False</td>\n",
       "      <td>https://instagram.faep9-2.fna.fbcdn.net/v/t51....</td>\n",
       "      <td>2357210924072388815_1555969795</td>\n",
       "      <td>False</td>\n",
       "      <td>1595820333</td>\n",
       "      <td>2360409922946177275_13861534605</td>\n",
       "      <td>like</td>\n",
       "    </tr>\n",
       "    <tr>\n",
       "      <th>2</th>\n",
       "      <td>5333564238</td>\n",
       "      <td>adri_b_millan</td>\n",
       "      <td>Adriana B Millan</td>\n",
       "      <td>False</td>\n",
       "      <td>https://instagram.faep9-2.fna.fbcdn.net/v/t51....</td>\n",
       "      <td>2312020962315217551_5333564238</td>\n",
       "      <td>False</td>\n",
       "      <td>0</td>\n",
       "      <td>2360409922946177275_13861534605</td>\n",
       "      <td>like</td>\n",
       "    </tr>\n",
       "    <tr>\n",
       "      <th>3</th>\n",
       "      <td>3584827840</td>\n",
       "      <td>federicovelenski</td>\n",
       "      <td>Federico Velenski Chiari</td>\n",
       "      <td>True</td>\n",
       "      <td>https://instagram.faep9-2.fna.fbcdn.net/v/t51....</td>\n",
       "      <td>2340021767023077087_3584827840</td>\n",
       "      <td>False</td>\n",
       "      <td>0</td>\n",
       "      <td>2360409922946177275_13861534605</td>\n",
       "      <td>like</td>\n",
       "    </tr>\n",
       "    <tr>\n",
       "      <th>4</th>\n",
       "      <td>26943250049</td>\n",
       "      <td>andrea._bernhardt</td>\n",
       "      <td>Andrea Bernhardt Love&amp;Songs</td>\n",
       "      <td>False</td>\n",
       "      <td>https://instagram.faep9-2.fna.fbcdn.net/v/t51....</td>\n",
       "      <td>2295419475214004358_26943250049</td>\n",
       "      <td>False</td>\n",
       "      <td>0</td>\n",
       "      <td>2360409922946177275_13861534605</td>\n",
       "      <td>like</td>\n",
       "    </tr>\n",
       "    <tr>\n",
       "      <th>5</th>\n",
       "      <td>29851111557</td>\n",
       "      <td>ai_digitalmarketing</td>\n",
       "      <td>AI Marketing</td>\n",
       "      <td>False</td>\n",
       "      <td>https://instagram.faep9-2.fna.fbcdn.net/v/t51....</td>\n",
       "      <td>2274838692680260860_29851111557</td>\n",
       "      <td>False</td>\n",
       "      <td>0</td>\n",
       "      <td>2360409922946177275_13861534605</td>\n",
       "      <td>like</td>\n",
       "    </tr>\n",
       "    <tr>\n",
       "      <th>6</th>\n",
       "      <td>550638409</td>\n",
       "      <td>noelzapater</td>\n",
       "      <td>𝓝𝓸𝓮𝓵 𝓩𝓪𝓹𝓪𝓽𝓮𝓻</td>\n",
       "      <td>True</td>\n",
       "      <td>https://instagram.faep9-2.fna.fbcdn.net/v/t51....</td>\n",
       "      <td>2300507358817917326_550638409</td>\n",
       "      <td>False</td>\n",
       "      <td>0</td>\n",
       "      <td>2360409922946177275_13861534605</td>\n",
       "      <td>like</td>\n",
       "    </tr>\n",
       "    <tr>\n",
       "      <th>7</th>\n",
       "      <td>351000011</td>\n",
       "      <td>feliferrari</td>\n",
       "      <td>Felicitas</td>\n",
       "      <td>False</td>\n",
       "      <td>https://instagram.faep9-2.fna.fbcdn.net/v/t51....</td>\n",
       "      <td>2254172845932667540_351000011</td>\n",
       "      <td>False</td>\n",
       "      <td>0</td>\n",
       "      <td>2360409922946177275_13861534605</td>\n",
       "      <td>like</td>\n",
       "    </tr>\n",
       "    <tr>\n",
       "      <th>8</th>\n",
       "      <td>4228365777</td>\n",
       "      <td>mab_ciancio</td>\n",
       "      <td>Mab Ciancio</td>\n",
       "      <td>False</td>\n",
       "      <td>https://instagram.faep9-2.fna.fbcdn.net/v/t51....</td>\n",
       "      <td>2356878487631071965_4228365777</td>\n",
       "      <td>False</td>\n",
       "      <td>0</td>\n",
       "      <td>2360409922946177275_13861534605</td>\n",
       "      <td>like</td>\n",
       "    </tr>\n",
       "    <tr>\n",
       "      <th>9</th>\n",
       "      <td>8543143319</td>\n",
       "      <td>flaviavcoccia</td>\n",
       "      <td>Flavia</td>\n",
       "      <td>False</td>\n",
       "      <td>https://instagram.faep9-2.fna.fbcdn.net/v/t51....</td>\n",
       "      <td>2341172206761311487_8543143319</td>\n",
       "      <td>False</td>\n",
       "      <td>0</td>\n",
       "      <td>2360409922946177275_13861534605</td>\n",
       "      <td>like</td>\n",
       "    </tr>\n",
       "  </tbody>\n",
       "</table>\n",
       "</div>"
      ],
      "text/plain": [
       "            pk             username                    full_name  is_private  \\\n",
       "0  13251312016            rentartba                     RentArt.       False   \n",
       "1   1555969795       silveiragaston          G. S Artista Visual       False   \n",
       "2   5333564238        adri_b_millan             Adriana B Millan       False   \n",
       "3   3584827840     federicovelenski     Federico Velenski Chiari        True   \n",
       "4  26943250049    andrea._bernhardt  Andrea Bernhardt Love&Songs       False   \n",
       "5  29851111557  ai_digitalmarketing                 AI Marketing       False   \n",
       "6    550638409          noelzapater                 𝓝𝓸𝓮𝓵 𝓩𝓪𝓹𝓪𝓽𝓮𝓻        True   \n",
       "7    351000011          feliferrari                    Felicitas       False   \n",
       "8   4228365777          mab_ciancio                  Mab Ciancio       False   \n",
       "9   8543143319        flaviavcoccia                       Flavia       False   \n",
       "\n",
       "                                     profile_pic_url  \\\n",
       "0  https://instagram.faep9-2.fna.fbcdn.net/v/t51....   \n",
       "1  https://instagram.faep9-2.fna.fbcdn.net/v/t51....   \n",
       "2  https://instagram.faep9-2.fna.fbcdn.net/v/t51....   \n",
       "3  https://instagram.faep9-2.fna.fbcdn.net/v/t51....   \n",
       "4  https://instagram.faep9-2.fna.fbcdn.net/v/t51....   \n",
       "5  https://instagram.faep9-2.fna.fbcdn.net/v/t51....   \n",
       "6  https://instagram.faep9-2.fna.fbcdn.net/v/t51....   \n",
       "7  https://instagram.faep9-2.fna.fbcdn.net/v/t51....   \n",
       "8  https://instagram.faep9-2.fna.fbcdn.net/v/t51....   \n",
       "9  https://instagram.faep9-2.fna.fbcdn.net/v/t51....   \n",
       "\n",
       "                    profile_pic_id  is_verified  latest_reel_media  \\\n",
       "0  2043020516404438767_13251312016        False                  0   \n",
       "1   2357210924072388815_1555969795        False         1595820333   \n",
       "2   2312020962315217551_5333564238        False                  0   \n",
       "3   2340021767023077087_3584827840        False                  0   \n",
       "4  2295419475214004358_26943250049        False                  0   \n",
       "5  2274838692680260860_29851111557        False                  0   \n",
       "6    2300507358817917326_550638409        False                  0   \n",
       "7    2254172845932667540_351000011        False                  0   \n",
       "8   2356878487631071965_4228365777        False                  0   \n",
       "9   2341172206761311487_8543143319        False                  0   \n",
       "\n",
       "                           post_id content_type  \n",
       "0  2360409922946177275_13861534605         like  \n",
       "1  2360409922946177275_13861534605         like  \n",
       "2  2360409922946177275_13861534605         like  \n",
       "3  2360409922946177275_13861534605         like  \n",
       "4  2360409922946177275_13861534605         like  \n",
       "5  2360409922946177275_13861534605         like  \n",
       "6  2360409922946177275_13861534605         like  \n",
       "7  2360409922946177275_13861534605         like  \n",
       "8  2360409922946177275_13861534605         like  \n",
       "9  2360409922946177275_13861534605         like  "
      ]
     },
     "execution_count": 10,
     "metadata": {},
     "output_type": "execute_result"
    }
   ],
   "source": [
    "def posts_likers_to_df(likers):\n",
    "    '''Transforms likers list of dicts into pandas DataFrame'''\n",
    "    \n",
    "    # Normalize likers by getting the 'users' list and the post_id of each like\n",
    "    df_likers = pd.json_normalize(likers, 'users', ['post_id'])\n",
    "    \n",
    "    # Add 'content_type' column to know the rows are likes\n",
    "    df_likers['content_type'] = 'like'\n",
    "    \n",
    "    return df_likers\n",
    "\n",
    "def posts_commenters_to_df(commenters):\n",
    "    '''Transforms commenters list of dicts into pandas DataFrame'''\n",
    "    \n",
    "    # Include username and full_name of commenter in 'comments' list of dicts\n",
    "    for i in range(len(commenters)):\n",
    "        if len(commenters[i]['comments']) > 0: # checks if there is any comment on the post\n",
    "            for j in range(len(commenters[i]['comments'])):\n",
    "                # Puts username/full_name one level up\n",
    "                commenters[i]['comments'][j]['username'] = commenters[i]['comments'][j]['user']['username']\n",
    "                commenters[i]['comments'][j]['full_name'] = commenters[i]['comments'][j]['user']['full_name']\n",
    "                \n",
    "    # Create DataFrame\n",
    "    # Normalize commenters to have 1 row per comment, and gets 'post_id' from parent \n",
    "    df_commenters = pd.json_normalize(commenters, 'comments', 'post_id')\n",
    "    \n",
    "    # Get rid of 'user' column as we already handled it above\n",
    "    #del df_commenters['user']\n",
    "    \n",
    "    return df_commenters\n",
    "\n",
    "df_likers = posts_likers_to_df(likers)\n",
    "df_commenters = posts_commenters_to_df(commenters)\n",
    "df_likers.head(10)"
   ]
  },
  {
   "cell_type": "code",
   "execution_count": 11,
   "metadata": {},
   "outputs": [
    {
     "data": {
      "text/html": [
       "<div>\n",
       "<style scoped>\n",
       "    .dataframe tbody tr th:only-of-type {\n",
       "        vertical-align: middle;\n",
       "    }\n",
       "\n",
       "    .dataframe tbody tr th {\n",
       "        vertical-align: top;\n",
       "    }\n",
       "\n",
       "    .dataframe thead th {\n",
       "        text-align: right;\n",
       "    }\n",
       "</style>\n",
       "<table border=\"1\" class=\"dataframe\">\n",
       "  <thead>\n",
       "    <tr style=\"text-align: right;\">\n",
       "      <th></th>\n",
       "      <th>pk</th>\n",
       "      <th>user_id</th>\n",
       "      <th>text</th>\n",
       "      <th>type</th>\n",
       "      <th>created_at</th>\n",
       "      <th>created_at_utc</th>\n",
       "      <th>content_type</th>\n",
       "      <th>status</th>\n",
       "      <th>bit_flags</th>\n",
       "      <th>did_report_as_spam</th>\n",
       "      <th>...</th>\n",
       "      <th>user.username</th>\n",
       "      <th>user.full_name</th>\n",
       "      <th>user.is_private</th>\n",
       "      <th>user.profile_pic_url</th>\n",
       "      <th>user.profile_pic_id</th>\n",
       "      <th>user.is_verified</th>\n",
       "      <th>user.is_mentionable</th>\n",
       "      <th>user.latest_reel_media</th>\n",
       "      <th>user.latest_besties_reel_media</th>\n",
       "      <th>post_id</th>\n",
       "    </tr>\n",
       "  </thead>\n",
       "  <tbody>\n",
       "    <tr>\n",
       "      <th>0</th>\n",
       "      <td>17858180057034788</td>\n",
       "      <td>4228365777</td>\n",
       "      <td>Genio gracias ❤️🤟</td>\n",
       "      <td>0</td>\n",
       "      <td>1594998511</td>\n",
       "      <td>1594998511</td>\n",
       "      <td>comment</td>\n",
       "      <td>Active</td>\n",
       "      <td>0</td>\n",
       "      <td>False</td>\n",
       "      <td>...</td>\n",
       "      <td>mab_ciancio</td>\n",
       "      <td>Mab Ciancio</td>\n",
       "      <td>False</td>\n",
       "      <td>https://instagram.faep9-2.fna.fbcdn.net/v/t51....</td>\n",
       "      <td>2356878487631071965_4228365777</td>\n",
       "      <td>False</td>\n",
       "      <td>True</td>\n",
       "      <td>0</td>\n",
       "      <td>0</td>\n",
       "      <td>2355318648589056048_13861534605</td>\n",
       "    </tr>\n",
       "    <tr>\n",
       "      <th>1</th>\n",
       "      <td>18113399353084653</td>\n",
       "      <td>7859984234</td>\n",
       "      <td>Un lujo, las obras son de un excelente concept...</td>\n",
       "      <td>0</td>\n",
       "      <td>1595026868</td>\n",
       "      <td>1595026868</td>\n",
       "      <td>comment</td>\n",
       "      <td>Active</td>\n",
       "      <td>0</td>\n",
       "      <td>False</td>\n",
       "      <td>...</td>\n",
       "      <td>gs_lombardo</td>\n",
       "      <td>Gustavol63</td>\n",
       "      <td>True</td>\n",
       "      <td>https://instagram.faep9-2.fna.fbcdn.net/v/t51....</td>\n",
       "      <td>1787553362611370674_7859984234</td>\n",
       "      <td>False</td>\n",
       "      <td>True</td>\n",
       "      <td>0</td>\n",
       "      <td>0</td>\n",
       "      <td>2355318648589056048_13861534605</td>\n",
       "    </tr>\n",
       "    <tr>\n",
       "      <th>2</th>\n",
       "      <td>17874475066760536</td>\n",
       "      <td>496297088</td>\n",
       "      <td>Qué grande este artista👏</td>\n",
       "      <td>0</td>\n",
       "      <td>1595036568</td>\n",
       "      <td>1595036568</td>\n",
       "      <td>comment</td>\n",
       "      <td>Active</td>\n",
       "      <td>0</td>\n",
       "      <td>False</td>\n",
       "      <td>...</td>\n",
       "      <td>mariagmnzcong</td>\n",
       "      <td>Maria Gimenez</td>\n",
       "      <td>True</td>\n",
       "      <td>https://instagram.faep9-2.fna.fbcdn.net/v/t51....</td>\n",
       "      <td>2042284786198220000_496297088</td>\n",
       "      <td>False</td>\n",
       "      <td>True</td>\n",
       "      <td>0</td>\n",
       "      <td>0</td>\n",
       "      <td>2355318648589056048_13861534605</td>\n",
       "    </tr>\n",
       "    <tr>\n",
       "      <th>3</th>\n",
       "      <td>17863616500975490</td>\n",
       "      <td>13861534605</td>\n",
       "      <td>Gastón posiblemente mejore sus clases virtuale...</td>\n",
       "      <td>0</td>\n",
       "      <td>1595038606</td>\n",
       "      <td>1595038606</td>\n",
       "      <td>comment</td>\n",
       "      <td>Active</td>\n",
       "      <td>0</td>\n",
       "      <td>False</td>\n",
       "      <td>...</td>\n",
       "      <td>espaciosya</td>\n",
       "      <td>espaciosYA!</td>\n",
       "      <td>False</td>\n",
       "      <td>https://instagram.faep9-2.fna.fbcdn.net/v/t51....</td>\n",
       "      <td>2210536968645869030_13861534605</td>\n",
       "      <td>False</td>\n",
       "      <td>True</td>\n",
       "      <td>0</td>\n",
       "      <td>0</td>\n",
       "      <td>2355318648589056048_13861534605</td>\n",
       "    </tr>\n",
       "    <tr>\n",
       "      <th>4</th>\n",
       "      <td>17882502370670219</td>\n",
       "      <td>3177498684</td>\n",
       "      <td>Me interesa. Info por favor</td>\n",
       "      <td>0</td>\n",
       "      <td>1594950768</td>\n",
       "      <td>1594950768</td>\n",
       "      <td>comment</td>\n",
       "      <td>Active</td>\n",
       "      <td>0</td>\n",
       "      <td>False</td>\n",
       "      <td>...</td>\n",
       "      <td>marcelocofone</td>\n",
       "      <td>marcelocofonearte</td>\n",
       "      <td>False</td>\n",
       "      <td>https://instagram.faep9-2.fna.fbcdn.net/v/t51....</td>\n",
       "      <td>2236842294965915253_3177498684</td>\n",
       "      <td>False</td>\n",
       "      <td>True</td>\n",
       "      <td>0</td>\n",
       "      <td>0</td>\n",
       "      <td>2353948267877984346_13861534605</td>\n",
       "    </tr>\n",
       "    <tr>\n",
       "      <th>5</th>\n",
       "      <td>18164032108008573</td>\n",
       "      <td>3177498684</td>\n",
       "      <td>Somos un grupo de creativos</td>\n",
       "      <td>0</td>\n",
       "      <td>1594950813</td>\n",
       "      <td>1594950813</td>\n",
       "      <td>comment</td>\n",
       "      <td>Active</td>\n",
       "      <td>0</td>\n",
       "      <td>False</td>\n",
       "      <td>...</td>\n",
       "      <td>marcelocofone</td>\n",
       "      <td>marcelocofonearte</td>\n",
       "      <td>False</td>\n",
       "      <td>https://instagram.faep9-2.fna.fbcdn.net/v/t51....</td>\n",
       "      <td>2236842294965915253_3177498684</td>\n",
       "      <td>False</td>\n",
       "      <td>True</td>\n",
       "      <td>0</td>\n",
       "      <td>0</td>\n",
       "      <td>2353948267877984346_13861534605</td>\n",
       "    </tr>\n",
       "    <tr>\n",
       "      <th>6</th>\n",
       "      <td>17856512969083845</td>\n",
       "      <td>13861534605</td>\n",
       "      <td>Te mandamos MD 🙌</td>\n",
       "      <td>2</td>\n",
       "      <td>1594951111</td>\n",
       "      <td>1594951111</td>\n",
       "      <td>comment</td>\n",
       "      <td>Active</td>\n",
       "      <td>0</td>\n",
       "      <td>False</td>\n",
       "      <td>...</td>\n",
       "      <td>espaciosya</td>\n",
       "      <td>espaciosYA!</td>\n",
       "      <td>False</td>\n",
       "      <td>https://instagram.faep9-2.fna.fbcdn.net/v/t51....</td>\n",
       "      <td>2210536968645869030_13861534605</td>\n",
       "      <td>False</td>\n",
       "      <td>True</td>\n",
       "      <td>0</td>\n",
       "      <td>0</td>\n",
       "      <td>2353948267877984346_13861534605</td>\n",
       "    </tr>\n",
       "    <tr>\n",
       "      <th>7</th>\n",
       "      <td>17876758429743538</td>\n",
       "      <td>9605067312</td>\n",
       "      <td>Hola. Me envian xfavor info de superficie, ubi...</td>\n",
       "      <td>0</td>\n",
       "      <td>1595118648</td>\n",
       "      <td>1595118648</td>\n",
       "      <td>comment</td>\n",
       "      <td>Active</td>\n",
       "      <td>0</td>\n",
       "      <td>False</td>\n",
       "      <td>...</td>\n",
       "      <td>pela_glorias</td>\n",
       "      <td>Pela Glorias</td>\n",
       "      <td>False</td>\n",
       "      <td>https://instagram.faep9-2.fna.fbcdn.net/v/t51....</td>\n",
       "      <td>2313573142272106040_9605067312</td>\n",
       "      <td>False</td>\n",
       "      <td>True</td>\n",
       "      <td>0</td>\n",
       "      <td>0</td>\n",
       "      <td>2353948267877984346_13861534605</td>\n",
       "    </tr>\n",
       "    <tr>\n",
       "      <th>8</th>\n",
       "      <td>17866470625931021</td>\n",
       "      <td>13861534605</td>\n",
       "      <td>@pela_glorias te mandamos un mensaje directo 📲</td>\n",
       "      <td>2</td>\n",
       "      <td>1595138977</td>\n",
       "      <td>1595138977</td>\n",
       "      <td>comment</td>\n",
       "      <td>Active</td>\n",
       "      <td>0</td>\n",
       "      <td>False</td>\n",
       "      <td>...</td>\n",
       "      <td>espaciosya</td>\n",
       "      <td>espaciosYA!</td>\n",
       "      <td>False</td>\n",
       "      <td>https://instagram.faep9-2.fna.fbcdn.net/v/t51....</td>\n",
       "      <td>2210536968645869030_13861534605</td>\n",
       "      <td>False</td>\n",
       "      <td>True</td>\n",
       "      <td>0</td>\n",
       "      <td>0</td>\n",
       "      <td>2353948267877984346_13861534605</td>\n",
       "    </tr>\n",
       "    <tr>\n",
       "      <th>9</th>\n",
       "      <td>17883368572656209</td>\n",
       "      <td>4236908151</td>\n",
       "      <td>Podras pasarme más datos? Ubicación? Precio?</td>\n",
       "      <td>0</td>\n",
       "      <td>1595164417</td>\n",
       "      <td>1595164417</td>\n",
       "      <td>comment</td>\n",
       "      <td>Active</td>\n",
       "      <td>0</td>\n",
       "      <td>False</td>\n",
       "      <td>...</td>\n",
       "      <td>_blitus</td>\n",
       "      <td>Pablo Emanuel</td>\n",
       "      <td>True</td>\n",
       "      <td>https://instagram.faep9-2.fna.fbcdn.net/v/t51....</td>\n",
       "      <td>2141470575171111342_4236908151</td>\n",
       "      <td>False</td>\n",
       "      <td>True</td>\n",
       "      <td>0</td>\n",
       "      <td>0</td>\n",
       "      <td>2353948267877984346_13861534605</td>\n",
       "    </tr>\n",
       "  </tbody>\n",
       "</table>\n",
       "<p>10 rows × 28 columns</p>\n",
       "</div>"
      ],
      "text/plain": [
       "                  pk      user_id  \\\n",
       "0  17858180057034788   4228365777   \n",
       "1  18113399353084653   7859984234   \n",
       "2  17874475066760536    496297088   \n",
       "3  17863616500975490  13861534605   \n",
       "4  17882502370670219   3177498684   \n",
       "5  18164032108008573   3177498684   \n",
       "6  17856512969083845  13861534605   \n",
       "7  17876758429743538   9605067312   \n",
       "8  17866470625931021  13861534605   \n",
       "9  17883368572656209   4236908151   \n",
       "\n",
       "                                                text  type  created_at  \\\n",
       "0                                  Genio gracias ❤️🤟     0  1594998511   \n",
       "1  Un lujo, las obras son de un excelente concept...     0  1595026868   \n",
       "2                           Qué grande este artista👏     0  1595036568   \n",
       "3  Gastón posiblemente mejore sus clases virtuale...     0  1595038606   \n",
       "4                        Me interesa. Info por favor     0  1594950768   \n",
       "5                        Somos un grupo de creativos     0  1594950813   \n",
       "6                                   Te mandamos MD 🙌     2  1594951111   \n",
       "7  Hola. Me envian xfavor info de superficie, ubi...     0  1595118648   \n",
       "8     @pela_glorias te mandamos un mensaje directo 📲     2  1595138977   \n",
       "9       Podras pasarme más datos? Ubicación? Precio?     0  1595164417   \n",
       "\n",
       "   created_at_utc content_type  status  bit_flags  did_report_as_spam  ...  \\\n",
       "0      1594998511      comment  Active          0               False  ...   \n",
       "1      1595026868      comment  Active          0               False  ...   \n",
       "2      1595036568      comment  Active          0               False  ...   \n",
       "3      1595038606      comment  Active          0               False  ...   \n",
       "4      1594950768      comment  Active          0               False  ...   \n",
       "5      1594950813      comment  Active          0               False  ...   \n",
       "6      1594951111      comment  Active          0               False  ...   \n",
       "7      1595118648      comment  Active          0               False  ...   \n",
       "8      1595138977      comment  Active          0               False  ...   \n",
       "9      1595164417      comment  Active          0               False  ...   \n",
       "\n",
       "   user.username     user.full_name  user.is_private  \\\n",
       "0    mab_ciancio        Mab Ciancio            False   \n",
       "1    gs_lombardo         Gustavol63             True   \n",
       "2  mariagmnzcong      Maria Gimenez             True   \n",
       "3     espaciosya        espaciosYA!            False   \n",
       "4  marcelocofone  marcelocofonearte            False   \n",
       "5  marcelocofone  marcelocofonearte            False   \n",
       "6     espaciosya        espaciosYA!            False   \n",
       "7   pela_glorias       Pela Glorias            False   \n",
       "8     espaciosya        espaciosYA!            False   \n",
       "9        _blitus      Pablo Emanuel             True   \n",
       "\n",
       "                                user.profile_pic_url  \\\n",
       "0  https://instagram.faep9-2.fna.fbcdn.net/v/t51....   \n",
       "1  https://instagram.faep9-2.fna.fbcdn.net/v/t51....   \n",
       "2  https://instagram.faep9-2.fna.fbcdn.net/v/t51....   \n",
       "3  https://instagram.faep9-2.fna.fbcdn.net/v/t51....   \n",
       "4  https://instagram.faep9-2.fna.fbcdn.net/v/t51....   \n",
       "5  https://instagram.faep9-2.fna.fbcdn.net/v/t51....   \n",
       "6  https://instagram.faep9-2.fna.fbcdn.net/v/t51....   \n",
       "7  https://instagram.faep9-2.fna.fbcdn.net/v/t51....   \n",
       "8  https://instagram.faep9-2.fna.fbcdn.net/v/t51....   \n",
       "9  https://instagram.faep9-2.fna.fbcdn.net/v/t51....   \n",
       "\n",
       "               user.profile_pic_id user.is_verified user.is_mentionable  \\\n",
       "0   2356878487631071965_4228365777            False                True   \n",
       "1   1787553362611370674_7859984234            False                True   \n",
       "2    2042284786198220000_496297088            False                True   \n",
       "3  2210536968645869030_13861534605            False                True   \n",
       "4   2236842294965915253_3177498684            False                True   \n",
       "5   2236842294965915253_3177498684            False                True   \n",
       "6  2210536968645869030_13861534605            False                True   \n",
       "7   2313573142272106040_9605067312            False                True   \n",
       "8  2210536968645869030_13861534605            False                True   \n",
       "9   2141470575171111342_4236908151            False                True   \n",
       "\n",
       "   user.latest_reel_media user.latest_besties_reel_media  \\\n",
       "0                       0                              0   \n",
       "1                       0                              0   \n",
       "2                       0                              0   \n",
       "3                       0                              0   \n",
       "4                       0                              0   \n",
       "5                       0                              0   \n",
       "6                       0                              0   \n",
       "7                       0                              0   \n",
       "8                       0                              0   \n",
       "9                       0                              0   \n",
       "\n",
       "                           post_id  \n",
       "0  2355318648589056048_13861534605  \n",
       "1  2355318648589056048_13861534605  \n",
       "2  2355318648589056048_13861534605  \n",
       "3  2355318648589056048_13861534605  \n",
       "4  2353948267877984346_13861534605  \n",
       "5  2353948267877984346_13861534605  \n",
       "6  2353948267877984346_13861534605  \n",
       "7  2353948267877984346_13861534605  \n",
       "8  2353948267877984346_13861534605  \n",
       "9  2353948267877984346_13861534605  \n",
       "\n",
       "[10 rows x 28 columns]"
      ]
     },
     "execution_count": 11,
     "metadata": {},
     "output_type": "execute_result"
    }
   ],
   "source": [
    "df_commenters.head(10)"
   ]
  },
  {
   "cell_type": "code",
   "execution_count": 20,
   "metadata": {
    "scrolled": true
   },
   "outputs": [
    {
     "name": "stdout",
     "output_type": "stream",
     "text": [
      "0                0\n",
      "1       1595820333\n",
      "2                0\n",
      "3                0\n",
      "4                0\n",
      "           ...    \n",
      "4291             0\n",
      "4292             0\n",
      "4293    1595786267\n",
      "4294             0\n",
      "4295             0\n",
      "Name: latest_reel_media, Length: 4296, dtype: int64\n"
     ]
    }
   ],
   "source": [
    "print(df_likers.latest_reel_media)"
   ]
  },
  {
   "cell_type": "markdown",
   "metadata": {},
   "source": [
    "# **INFO FINAL**"
   ]
  },
  {
   "cell_type": "code",
   "execution_count": 21,
   "metadata": {},
   "outputs": [
    {
     "name": "stdout",
     "output_type": "stream",
     "text": [
      "Total posts: 133\n",
      "---------\n",
      "Total likes en perfil: 4296\n",
      "Usuarios particulares que likearon tus posts: 1671\n",
      "---------\n",
      "Total comentarios en perfil: 82\n",
      "Usuarios particulares que comentaron tus posts: 47\n"
     ]
    }
   ],
   "source": [
    "print('Total posts: ' + str(len(my_posts)))\n",
    "print('---------')\n",
    "print('Total likes en perfil: ' + str(df_likers.shape[0])) #shape[0] represents number of rows\n",
    "print('Usuarios particulares que likearon tus posts: ' +str(df_likers.username.nunique())) # nunique() will count distinct values of a col\n",
    "print('---------')\n",
    "print('Total comentarios en perfil: ' + str(df_commenters.shape[0]))\n",
    "print('Usuarios particulares que comentaron tus posts: ' +str(df_commenters.username.nunique()))"
   ]
  },
  {
   "cell_type": "markdown",
   "metadata": {},
   "source": [
    "# **10 USUARIOS QUE MAS LIKES DAN**"
   ]
  },
  {
   "cell_type": "code",
   "execution_count": 22,
   "metadata": {},
   "outputs": [
    {
     "data": {
      "text/plain": [
       "mab_ciancio         93\n",
       "panyqueso           93\n",
       "casaamenabar        78\n",
       "adri_b_millan       72\n",
       "espaciosya          72\n",
       "aruchasouza         66\n",
       "somos.cactus        63\n",
       "federicovelenski    60\n",
       "sontrumancia        60\n",
       "veritorosello_      54\n",
       "Name: username, dtype: int64"
      ]
     },
     "execution_count": 22,
     "metadata": {},
     "output_type": "execute_result"
    }
   ],
   "source": [
    "df_likers.username.value_counts()[:10]"
   ]
  },
  {
   "cell_type": "code",
   "execution_count": 23,
   "metadata": {},
   "outputs": [
    {
     "data": {
      "text/plain": [
       "<matplotlib.axes._subplots.AxesSubplot at 0x1256c2130>"
      ]
     },
     "execution_count": 23,
     "metadata": {},
     "output_type": "execute_result"
    },
    {
     "data": {
      "image/png": "[encoded data removed]",
      "text/plain": [
       "<Figure size 864x432 with 1 Axes>"
      ]
     },
     "metadata": {
      "needs_background": "light"
     },
     "output_type": "display_data"
    }
   ],
   "source": [
    "df_likers.username.value_counts()[:20].plot(kind='bar', title='Top 10 media likers', grid=True, figsize=(12,6))"
   ]
  },
  {
   "cell_type": "markdown",
   "metadata": {},
   "source": [
    "# **10 USUARIOS QUE MAS COMENTAN**"
   ]
  },
  {
   "cell_type": "code",
   "execution_count": 24,
   "metadata": {},
   "outputs": [
    {
     "data": {
      "text/plain": [
       "espaciosya               20\n",
       "mab_ciancio               7\n",
       "merevequoz                4\n",
       "marcelocofone             3\n",
       "veritorosello_            2\n",
       "anders_ms_                2\n",
       "aycholita                 2\n",
       "rubensoterafotos          2\n",
       "likedigitalve             2\n",
       "mm.arquitecta             1\n",
       "mariagmnzcong             1\n",
       "universa.producciones     1\n",
       "camidesireep              1\n",
       "evolve.shoponline         1\n",
       "aviagustina               1\n",
       "suculentastigre           1\n",
       "ai_digitalmarketing       1\n",
       "merchu_1619               1\n",
       "emprendeconessenhoy       1\n",
       "glownegnegocios           1\n",
       "Name: username, dtype: int64"
      ]
     },
     "execution_count": 24,
     "metadata": {},
     "output_type": "execute_result"
    }
   ],
   "source": [
    "df_commenters.username.value_counts()[:20]"
   ]
  },
  {
   "cell_type": "code",
   "execution_count": 25,
   "metadata": {},
   "outputs": [
    {
     "data": {
      "text/plain": [
       "<matplotlib.axes._subplots.AxesSubplot at 0x125b84970>"
      ]
     },
     "execution_count": 25,
     "metadata": {},
     "output_type": "execute_result"
    },
    {
     "data": {
      "image/png": "[encoded data removed]",
      "text/plain": [
       "<Figure size 864x432 with 1 Axes>"
      ]
     },
     "metadata": {
      "needs_background": "light"
     },
     "output_type": "display_data"
    }
   ],
   "source": [
    "df_commenters['username'].value_counts()[:20].plot(kind='bar', figsize=(12,6), title='Top 10 post commenters')"
   ]
  },
  {
   "cell_type": "markdown",
   "metadata": {},
   "source": [
    "# **NUMERO DE COMENTARIOS POR DIA**"
   ]
  },
  {
   "cell_type": "code",
   "execution_count": 26,
   "metadata": {},
   "outputs": [],
   "source": [
    "# Converts date from unix time to YYYY-MM-DD hh24:mm:ss\n",
    "df_commenters.created_at = pd.to_datetime(df_commenters.created_at, unit='s')\n",
    "df_commenters.created_at_utc = pd.to_datetime(df_commenters.created_at_utc, unit='s')"
   ]
  },
  {
   "cell_type": "code",
   "execution_count": 32,
   "metadata": {
    "collapsed": true,
    "jupyter": {
     "outputs_hidden": true
    }
   },
   "outputs": [
    {
     "data": {
      "text/plain": [
       "<matplotlib.axes._subplots.AxesSubplot at 0x124614d90>"
      ]
     },
     "execution_count": 32,
     "metadata": {},
     "output_type": "execute_result"
    },
    {
     "data": {
      "image/png": "[encoded data removed]",
      "text/plain": [
       "<Figure size 864x432 with 1 Axes>"
      ]
     },
     "metadata": {
      "needs_background": "light"
     },
     "output_type": "display_data"
    }
   ],
   "source": [
    "df_commenters.created_at_ba.dt.weekday.value_counts().sort_index().plot(kind='bar', figsize=(12,6), title='Comments per day of the week (0 - Lunes, 6 - Domingo)')"
   ]
  },
  {
   "cell_type": "code",
   "execution_count": 28,
   "metadata": {},
   "outputs": [
    {
     "name": "stdout",
     "output_type": "stream",
     "text": [
      "ayuda: orden de los días segun python\n",
      "0 - Monday\n",
      "1 - Tuesday\n",
      "2 - Wednesday\n",
      "3 - Thursday\n",
      "4 - Friday\n",
      "5 - Saturday\n",
      "6 - Sunday\n"
     ]
    }
   ],
   "source": [
    "import calendar\n",
    "print('ayuda: orden de los días segun python')\n",
    "j = 0\n",
    "for i in calendar.day_name:\n",
    "    print(j,'-',i)\n",
    "    j+=1"
   ]
  },
  {
   "cell_type": "markdown",
   "metadata": {},
   "source": [
    "**NUMEROS DE COMENTARIOS HECHOS POR HORA**"
   ]
  },
  {
   "cell_type": "code",
   "execution_count": 29,
   "metadata": {},
   "outputs": [
    {
     "data": {
      "text/plain": [
       "<matplotlib.axes._subplots.AxesSubplot at 0x124208af0>"
      ]
     },
     "execution_count": 29,
     "metadata": {},
     "output_type": "execute_result"
    },
    {
     "data": {
      "image/png": "[encoded data removed]",
      "text/plain": [
       "<Figure size 864x432 with 1 Axes>"
      ]
     },
     "metadata": {
      "needs_background": "light"
     },
     "output_type": "display_data"
    }
   ],
   "source": [
    "df_commenters.created_at_utc.dt.hour.value_counts().sort_index().plot(kind='bar', figsize=(12,6))"
   ]
  },
  {
   "cell_type": "markdown",
   "metadata": {},
   "source": [
    "# **NUMERO DE COMENTARIOS CREADOS POR HORA EN HORARIO DE BUENOS AIRES**"
   ]
  },
  {
   "cell_type": "code",
   "execution_count": 30,
   "metadata": {},
   "outputs": [],
   "source": [
    " # Create a column to show when a a comment was created in Buenos Aires time\n",
    "df_commenters['created_at_ba'] = df_commenters.created_at_utc.dt.tz_localize('UTC').dt.tz_convert('America/Buenos_Aires')"
   ]
  },
  {
   "cell_type": "code",
   "execution_count": 31,
   "metadata": {},
   "outputs": [
    {
     "data": {
      "text/plain": [
       "<matplotlib.axes._subplots.AxesSubplot at 0x124555370>"
      ]
     },
     "execution_count": 31,
     "metadata": {},
     "output_type": "execute_result"
    },
    {
     "data": {
      "image/png": "[encoded data removed]",
      "text/plain": [
       "<Figure size 864x432 with 1 Axes>"
      ]
     },
     "metadata": {
      "needs_background": "light"
     },
     "output_type": "display_data"
    }
   ],
   "source": [
    "df_commenters.created_at_ba.dt.hour.value_counts().sort_index().plot(kind='bar', figsize=(12,6))"
   ]
  },
  {
   "cell_type": "markdown",
   "metadata": {},
   "source": [
    "**dfs**"
   ]
  },
  {
   "cell_type": "raw",
   "metadata": {},
   "source": [
    "df_commenters.to_csv('comments.csv')"
   ]
  },
  {
   "cell_type": "raw",
   "metadata": {},
   "source": [
    "df_likers.to_csv('likes.csv')"
   ]
  },
  {
   "cell_type": "code",
   "execution_count": 34,
   "metadata": {},
   "outputs": [
    {
     "data": {
      "text/html": [
       "<div>\n",
       "<style scoped>\n",
       "    .dataframe tbody tr th:only-of-type {\n",
       "        vertical-align: middle;\n",
       "    }\n",
       "\n",
       "    .dataframe tbody tr th {\n",
       "        vertical-align: top;\n",
       "    }\n",
       "\n",
       "    .dataframe thead th {\n",
       "        text-align: right;\n",
       "    }\n",
       "</style>\n",
       "<table border=\"1\" class=\"dataframe\">\n",
       "  <thead>\n",
       "    <tr style=\"text-align: right;\">\n",
       "      <th></th>\n",
       "      <th>pk</th>\n",
       "      <th>user_id</th>\n",
       "      <th>text</th>\n",
       "      <th>type</th>\n",
       "      <th>created_at</th>\n",
       "      <th>created_at_utc</th>\n",
       "      <th>content_type</th>\n",
       "      <th>status</th>\n",
       "      <th>bit_flags</th>\n",
       "      <th>did_report_as_spam</th>\n",
       "      <th>...</th>\n",
       "      <th>user.full_name</th>\n",
       "      <th>user.is_private</th>\n",
       "      <th>user.profile_pic_url</th>\n",
       "      <th>user.profile_pic_id</th>\n",
       "      <th>user.is_verified</th>\n",
       "      <th>user.is_mentionable</th>\n",
       "      <th>user.latest_reel_media</th>\n",
       "      <th>user.latest_besties_reel_media</th>\n",
       "      <th>post_id</th>\n",
       "      <th>created_at_ba</th>\n",
       "    </tr>\n",
       "  </thead>\n",
       "  <tbody>\n",
       "    <tr>\n",
       "      <th>0</th>\n",
       "      <td>17858180057034788</td>\n",
       "      <td>4228365777</td>\n",
       "      <td>Genio gracias ❤️🤟</td>\n",
       "      <td>0</td>\n",
       "      <td>2020-07-17 15:08:31</td>\n",
       "      <td>2020-07-17 15:08:31</td>\n",
       "      <td>comment</td>\n",
       "      <td>Active</td>\n",
       "      <td>0</td>\n",
       "      <td>False</td>\n",
       "      <td>...</td>\n",
       "      <td>Mab Ciancio</td>\n",
       "      <td>False</td>\n",
       "      <td>https://instagram.faep9-2.fna.fbcdn.net/v/t51....</td>\n",
       "      <td>2356878487631071965_4228365777</td>\n",
       "      <td>False</td>\n",
       "      <td>True</td>\n",
       "      <td>0</td>\n",
       "      <td>0</td>\n",
       "      <td>2355318648589056048_13861534605</td>\n",
       "      <td>2020-07-17 12:08:31-03:00</td>\n",
       "    </tr>\n",
       "    <tr>\n",
       "      <th>1</th>\n",
       "      <td>18113399353084653</td>\n",
       "      <td>7859984234</td>\n",
       "      <td>Un lujo, las obras son de un excelente concept...</td>\n",
       "      <td>0</td>\n",
       "      <td>2020-07-17 23:01:08</td>\n",
       "      <td>2020-07-17 23:01:08</td>\n",
       "      <td>comment</td>\n",
       "      <td>Active</td>\n",
       "      <td>0</td>\n",
       "      <td>False</td>\n",
       "      <td>...</td>\n",
       "      <td>Gustavol63</td>\n",
       "      <td>True</td>\n",
       "      <td>https://instagram.faep9-2.fna.fbcdn.net/v/t51....</td>\n",
       "      <td>1787553362611370674_7859984234</td>\n",
       "      <td>False</td>\n",
       "      <td>True</td>\n",
       "      <td>0</td>\n",
       "      <td>0</td>\n",
       "      <td>2355318648589056048_13861534605</td>\n",
       "      <td>2020-07-17 20:01:08-03:00</td>\n",
       "    </tr>\n",
       "    <tr>\n",
       "      <th>2</th>\n",
       "      <td>17874475066760536</td>\n",
       "      <td>496297088</td>\n",
       "      <td>Qué grande este artista👏</td>\n",
       "      <td>0</td>\n",
       "      <td>2020-07-18 01:42:48</td>\n",
       "      <td>2020-07-18 01:42:48</td>\n",
       "      <td>comment</td>\n",
       "      <td>Active</td>\n",
       "      <td>0</td>\n",
       "      <td>False</td>\n",
       "      <td>...</td>\n",
       "      <td>Maria Gimenez</td>\n",
       "      <td>True</td>\n",
       "      <td>https://instagram.faep9-2.fna.fbcdn.net/v/t51....</td>\n",
       "      <td>2042284786198220000_496297088</td>\n",
       "      <td>False</td>\n",
       "      <td>True</td>\n",
       "      <td>0</td>\n",
       "      <td>0</td>\n",
       "      <td>2355318648589056048_13861534605</td>\n",
       "      <td>2020-07-17 22:42:48-03:00</td>\n",
       "    </tr>\n",
       "    <tr>\n",
       "      <th>3</th>\n",
       "      <td>17863616500975490</td>\n",
       "      <td>13861534605</td>\n",
       "      <td>Gastón posiblemente mejore sus clases virtuale...</td>\n",
       "      <td>0</td>\n",
       "      <td>2020-07-18 02:16:46</td>\n",
       "      <td>2020-07-18 02:16:46</td>\n",
       "      <td>comment</td>\n",
       "      <td>Active</td>\n",
       "      <td>0</td>\n",
       "      <td>False</td>\n",
       "      <td>...</td>\n",
       "      <td>espaciosYA!</td>\n",
       "      <td>False</td>\n",
       "      <td>https://instagram.faep9-2.fna.fbcdn.net/v/t51....</td>\n",
       "      <td>2210536968645869030_13861534605</td>\n",
       "      <td>False</td>\n",
       "      <td>True</td>\n",
       "      <td>0</td>\n",
       "      <td>0</td>\n",
       "      <td>2355318648589056048_13861534605</td>\n",
       "      <td>2020-07-17 23:16:46-03:00</td>\n",
       "    </tr>\n",
       "    <tr>\n",
       "      <th>4</th>\n",
       "      <td>17882502370670219</td>\n",
       "      <td>3177498684</td>\n",
       "      <td>Me interesa. Info por favor</td>\n",
       "      <td>0</td>\n",
       "      <td>2020-07-17 01:52:48</td>\n",
       "      <td>2020-07-17 01:52:48</td>\n",
       "      <td>comment</td>\n",
       "      <td>Active</td>\n",
       "      <td>0</td>\n",
       "      <td>False</td>\n",
       "      <td>...</td>\n",
       "      <td>marcelocofonearte</td>\n",
       "      <td>False</td>\n",
       "      <td>https://instagram.faep9-2.fna.fbcdn.net/v/t51....</td>\n",
       "      <td>2236842294965915253_3177498684</td>\n",
       "      <td>False</td>\n",
       "      <td>True</td>\n",
       "      <td>0</td>\n",
       "      <td>0</td>\n",
       "      <td>2353948267877984346_13861534605</td>\n",
       "      <td>2020-07-16 22:52:48-03:00</td>\n",
       "    </tr>\n",
       "  </tbody>\n",
       "</table>\n",
       "<p>5 rows × 29 columns</p>\n",
       "</div>"
      ],
      "text/plain": [
       "                  pk      user_id  \\\n",
       "0  17858180057034788   4228365777   \n",
       "1  18113399353084653   7859984234   \n",
       "2  17874475066760536    496297088   \n",
       "3  17863616500975490  13861534605   \n",
       "4  17882502370670219   3177498684   \n",
       "\n",
       "                                                text  type  \\\n",
       "0                                  Genio gracias ❤️🤟     0   \n",
       "1  Un lujo, las obras son de un excelente concept...     0   \n",
       "2                           Qué grande este artista👏     0   \n",
       "3  Gastón posiblemente mejore sus clases virtuale...     0   \n",
       "4                        Me interesa. Info por favor     0   \n",
       "\n",
       "           created_at      created_at_utc content_type  status  bit_flags  \\\n",
       "0 2020-07-17 15:08:31 2020-07-17 15:08:31      comment  Active          0   \n",
       "1 2020-07-17 23:01:08 2020-07-17 23:01:08      comment  Active          0   \n",
       "2 2020-07-18 01:42:48 2020-07-18 01:42:48      comment  Active          0   \n",
       "3 2020-07-18 02:16:46 2020-07-18 02:16:46      comment  Active          0   \n",
       "4 2020-07-17 01:52:48 2020-07-17 01:52:48      comment  Active          0   \n",
       "\n",
       "   did_report_as_spam  ...     user.full_name user.is_private  \\\n",
       "0               False  ...        Mab Ciancio           False   \n",
       "1               False  ...         Gustavol63            True   \n",
       "2               False  ...      Maria Gimenez            True   \n",
       "3               False  ...        espaciosYA!           False   \n",
       "4               False  ...  marcelocofonearte           False   \n",
       "\n",
       "                                user.profile_pic_url  \\\n",
       "0  https://instagram.faep9-2.fna.fbcdn.net/v/t51....   \n",
       "1  https://instagram.faep9-2.fna.fbcdn.net/v/t51....   \n",
       "2  https://instagram.faep9-2.fna.fbcdn.net/v/t51....   \n",
       "3  https://instagram.faep9-2.fna.fbcdn.net/v/t51....   \n",
       "4  https://instagram.faep9-2.fna.fbcdn.net/v/t51....   \n",
       "\n",
       "               user.profile_pic_id  user.is_verified user.is_mentionable  \\\n",
       "0   2356878487631071965_4228365777             False                True   \n",
       "1   1787553362611370674_7859984234             False                True   \n",
       "2    2042284786198220000_496297088             False                True   \n",
       "3  2210536968645869030_13861534605             False                True   \n",
       "4   2236842294965915253_3177498684             False                True   \n",
       "\n",
       "  user.latest_reel_media  user.latest_besties_reel_media  \\\n",
       "0                      0                               0   \n",
       "1                      0                               0   \n",
       "2                      0                               0   \n",
       "3                      0                               0   \n",
       "4                      0                               0   \n",
       "\n",
       "                           post_id             created_at_ba  \n",
       "0  2355318648589056048_13861534605 2020-07-17 12:08:31-03:00  \n",
       "1  2355318648589056048_13861534605 2020-07-17 20:01:08-03:00  \n",
       "2  2355318648589056048_13861534605 2020-07-17 22:42:48-03:00  \n",
       "3  2355318648589056048_13861534605 2020-07-17 23:16:46-03:00  \n",
       "4  2353948267877984346_13861534605 2020-07-16 22:52:48-03:00  \n",
       "\n",
       "[5 rows x 29 columns]"
      ]
     },
     "execution_count": 34,
     "metadata": {},
     "output_type": "execute_result"
    }
   ],
   "source": [
    "df_commenters.head()"
   ]
  },
  {
   "cell_type": "code",
   "execution_count": null,
   "metadata": {},
   "outputs": [],
   "source": []
  }
 ],
 "metadata": {
  "kernelspec": {
   "display_name": "Python 3",
   "language": "python",
   "name": "python3"
  },
  "language_info": {
   "codemirror_mode": {
    "name": "ipython",
    "version": 3
   },
   "file_extension": ".py",
   "mimetype": "text/x-python",
   "name": "python",
   "nbconvert_exporter": "python",
   "pygments_lexer": "ipython3",
   "version": "3.8.3"
  }
 },
 "nbformat": 4,
 "nbformat_minor": 4
}
