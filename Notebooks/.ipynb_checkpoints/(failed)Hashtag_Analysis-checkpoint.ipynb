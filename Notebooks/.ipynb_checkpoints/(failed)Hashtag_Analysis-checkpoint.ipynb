{
 "cells": [
  {
   "cell_type": "code",
   "execution_count": 37,
   "metadata": {},
   "outputs": [
    {
     "ename": "ModuleNotFoundError",
     "evalue": "No module named 'datastore'",
     "output_type": "error",
     "traceback": [
      "\u001b[0;31m---------------------------------------------------------------------------\u001b[0m",
      "\u001b[0;31mModuleNotFoundError\u001b[0m                       Traceback (most recent call last)",
      "\u001b[0;32m<ipython-input-37-5bc3ac6af7a4>\u001b[0m in \u001b[0;36m<module>\u001b[0;34m\u001b[0m\n\u001b[1;32m      1\u001b[0m \u001b[0;31m# Imports\u001b[0m\u001b[0;34m\u001b[0m\u001b[0;34m\u001b[0m\u001b[0;34m\u001b[0m\u001b[0m\n\u001b[0;32m----> 2\u001b[0;31m \u001b[0;32mfrom\u001b[0m \u001b[0mdatastore\u001b[0m \u001b[0;32mimport\u001b[0m \u001b[0;34m*\u001b[0m\u001b[0;34m\u001b[0m\u001b[0;34m\u001b[0m\u001b[0m\n\u001b[0m\u001b[1;32m      3\u001b[0m \u001b[0;32mfrom\u001b[0m \u001b[0mselenium\u001b[0m \u001b[0;32mimport\u001b[0m \u001b[0mwebdriver\u001b[0m\u001b[0;34m\u001b[0m\u001b[0;34m\u001b[0m\u001b[0m\n\u001b[1;32m      4\u001b[0m \u001b[0;32mfrom\u001b[0m \u001b[0mselenium\u001b[0m\u001b[0;34m.\u001b[0m\u001b[0mwebdriver\u001b[0m\u001b[0;34m.\u001b[0m\u001b[0mcommon\u001b[0m\u001b[0;34m.\u001b[0m\u001b[0mkeys\u001b[0m \u001b[0;32mimport\u001b[0m \u001b[0mKeys\u001b[0m\u001b[0;34m\u001b[0m\u001b[0;34m\u001b[0m\u001b[0m\n\u001b[1;32m      5\u001b[0m \u001b[0;32mfrom\u001b[0m \u001b[0mselenium\u001b[0m\u001b[0;34m.\u001b[0m\u001b[0mwebdriver\u001b[0m\u001b[0;34m.\u001b[0m\u001b[0mcommon\u001b[0m\u001b[0;34m.\u001b[0m\u001b[0mby\u001b[0m \u001b[0;32mimport\u001b[0m \u001b[0mBy\u001b[0m\u001b[0;34m\u001b[0m\u001b[0;34m\u001b[0m\u001b[0m\n",
      "\u001b[0;31mModuleNotFoundError\u001b[0m: No module named 'datastore'"
     ]
    }
   ],
   "source": [
    "# Imports\n",
    "from datastore import *\n",
    "from selenium import webdriver\n",
    "from selenium.webdriver.common.keys import Keys\n",
    "from selenium.webdriver.common.by import By\n",
    "from selenium.webdriver.support.ui import WebDriverWait\n",
    "#import urlparse\n",
    "import os, sys\n",
    "\n",
    "class Ingestor():\n",
    "    work_root=''\n",
    "    instagram_username=''\n",
    "    instagram_password=''\n",
    "    instagram_login_url = 'https://www.instagram.com/accounts/login/'\n",
    "    driver = None\n",
    "    datastore = None\n",
    "\n",
    "    def __init__(self, username='espaciosya',password='spikelee8'):\n",
    "        self.instagram_username = username\n",
    "        self.instagram_password = password\n",
    "\n",
    "        self.work_root = os.path.dirname(os.path.abspath(__file__))\n",
    "        print (\"INFO: \", \"Absolute script path: \", os.path.abspath(__file__))\n",
    "        chromedriver = os.path.join(self.work_root, 'drivers/chromedriver')\n",
    "        print (\"INFO: \", \"Path to driver: \", chromedriver)\n",
    "\n",
    "        os.environ[\"webdriver.chrome.driver\"] = chromedriver\n",
    "        self.driver = webdriver.Chrome(chromedriver)\n",
    "\n",
    "        self.datastore = DataStore()"
   ]
  },
  {
   "cell_type": "code",
   "execution_count": 5,
   "metadata": {},
   "outputs": [],
   "source": [
    "from datetime import datetime\n",
    "from elasticsearch import Elasticsearch\n",
    "\n",
    "class DataStore():\n",
    "    es_instance = None\n",
    "\n",
    "    def __init__(self):\n",
    "        self.es_instance = Elasticsearch()\n",
    "\n",
    "    def store_tag_popularity(self,tag='', tag_posts=0, tag_popular_posts=''):\n",
    "        self.es_instance.indices.create(index='tag_popularity',ignore=400)\n",
    "        self.es_instance.index(index='tag_popularity',doc_type='tag', body={\"tag_name\": tag, \"tag_posts\": tag_posts, \"timestamp\": datetime.now(), \"tag_popular_posts\": tag_popular_posts})"
   ]
  },
  {
   "cell_type": "code",
   "execution_count": 36,
   "metadata": {},
   "outputs": [],
   "source": [
    "def get_tag_data(self,tag_file='hierro'):\n",
    "    # Get the path to the data file.\n",
    "    tag_file_input = os.path.join(self.work_root, 'data/', tag_file)\n",
    "    with open(tag_file_input, 'r') as input_tags:\n",
    "        # Read in the list of tags that we need to get the popularity for.\n",
    "        tags = input_tags.readlines()\n",
    "        for tag in tags:\n",
    "            # Clean-up the tag from new-line characters.\n",
    "            working_tag = tag.replace('\\n','')\n",
    "            print( \"INFO: \", \"Getting information for tag: \", working_tag)\n",
    "            self.driver.get(\"https://www.instagram.com/explore/tags/\" + working_tag)\n",
    "            number_of_photos_tagged = 0\n",
    "\n",
    "            # Attempt to get the number of images with a number of tagged posts.\n",
    "            try:\n",
    "                number_of_photos_tagged_raw = self.driver.find_element_by_xpath(\"//*[@id='react-root']/section/main/article/header/span/span\")\n",
    "\n",
    "                # If data is obtained, we need to replace the comma character from the string to make it a number.\n",
    "                if number_of_photos_tagged_raw:\n",
    "                    number_of_photos_tagged = number_of_photos_tagged_raw.text.replace(',','')\n",
    "\n",
    "            # If we could not get the number of tags, we still want to go on.\n",
    "            except:\n",
    "                pass\n",
    "\n",
    "            # Show the user a warning that we could not get the number of photos tagged.\n",
    "            if number_of_photos_tagged == 0:\n",
    "                print (\"WARNING: \", \"No tagged number for \", working_tag)\n",
    "            print (\"INFO: \", \"Tagged photos: \", number_of_photos_tagged)\n",
    "\n",
    "            # Construct an array that will hold popular photo URLs.\n",
    "            tag_popular_posts = [None] * 9\n",
    "            increment = 0;\n",
    "\n",
    "            # 3 columns, 3 rows - iterate through each to get the URLs to individual top posts. This is typically the case.\n",
    "            try:\n",
    "                for row in range (0,3):\n",
    "                    for column in range(0, 3):\n",
    "                        target_row = str(row + 1)\n",
    "                        target_column = str(column + 1)\n",
    "                        top_photo = self.driver.find_element_by_xpath('//*[@id=\"react-root\"]/section/main/article/div[1]/div/div[' + target_row +  ']/div[' + tar)\n",
    "                        tag_popular_post = top_photo.get_attribute(\"href\")\n",
    "                        tag_popular_posts[increment] = tag_popular_post\n",
    "                        increment = increment + 1\n",
    "                        print (\"INFO: \", \"Popular photo: \", tag_popular_post)\n",
    "                        print (\"INFO: \", \"Existing photo array: \", tag_popular_posts)\n",
    "\n",
    "            # Sometimes this fails (e.g. not enough posts) - still, the show must go on.\n",
    "            except:\n",
    "                pass\n",
    "\n",
    "            if all(v is None for v in tag_popular_posts):\n",
    "                print (\"WARNING: \", \"No popular photos for \", working_tag)\n",
    "            else:\n",
    "                # Store the data we just obtained in Elasticsearch.\n",
    "                self.datastore.store_tag_popularity(tag=working_tag,tag_popular_posts=tag_popular_posts, tag_posts=long(number_of_photos_tagged))"
   ]
  },
  {
   "cell_type": "code",
   "execution_count": null,
   "metadata": {},
   "outputs": [],
   "source": []
  }
 ],
 "metadata": {
  "kernelspec": {
   "display_name": "Python 3",
   "language": "python",
   "name": "python3"
  },
  "language_info": {
   "codemirror_mode": {
    "name": "ipython",
    "version": 3
   },
   "file_extension": ".py",
   "mimetype": "text/x-python",
   "name": "python",
   "nbconvert_exporter": "python",
   "pygments_lexer": "ipython3",
   "version": "3.8.3"
  }
 },
 "nbformat": 4,
 "nbformat_minor": 4
}
