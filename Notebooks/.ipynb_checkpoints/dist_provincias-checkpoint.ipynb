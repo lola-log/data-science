{
 "cells": [
  {
   "cell_type": "code",
   "execution_count": 1,
   "metadata": {},
   "outputs": [],
   "source": [
    "import plotly.graph_objects as go"
   ]
  },
  {
   "cell_type": "code",
   "execution_count": 6,
   "metadata": {},
   "outputs": [],
   "source": [
    "for template in [\"plotly_dark\"]:\n",
    "    \n",
    "    fig = go.Figure()\n",
    "    \n",
    "    fig.add_trace(go.Sunburst(\n",
    "    labels=[\"Interior Activos 2019\", \"AMBA 2019\", \"CABA 2019\", \"Interior Activos 2020\", \"AMBA 2020\", \"CABA 2020\"],\n",
    "    parents=[\"\", \"\", \"\", \"Interior Activos 2019\", \"AMBA 2019\", \"CABA 2019\"],\n",
    "    values=[435, 58, 46, 394, 52, 35], domain=dict(column=0),maxdepth=2,marker=dict(colorscale='Tealgrn')\n",
    "))\n",
    "    \n",
    "    fig.add_trace(go.Sunburst(\n",
    "    labels=['A.M.B.A.', 'BS AS SIN AMBA', 'C.A.B.A.', 'CORDOBA', 'SANTA FE', 'TUCUMAN', 'RESTO DEL PAIS', 'CATAMARCA', 'CHACO', 'CHUBUT', 'CORRIENTES', 'ENTRE RIOS',\n",
    "            'JUJUY', 'LA PAMPA', 'LA RIOJA', 'MENDOZA', 'MISIONES', 'NEUQUEN', 'RIO NEGRO', 'SALTA', 'SAN JUAN', 'SAN LUIS', 'SANTA CRUZ','SANTIAGO DEL ESTERO','TIERRA DEL FUEGO'],\n",
    "    parents=['', '', '', '', '', '', '', 'RESTO DEL PAIS', 'RESTO DEL PAIS', 'RESTO DEL PAIS', 'RESTO DEL PAIS', 'RESTO DEL PAIS', 'RESTO DEL PAIS',\n",
    "             'RESTO DEL PAIS', 'RESTO DEL PAIS', 'RESTO DEL PAIS', 'RESTO DEL PAIS', 'RESTO DEL PAIS', 'RESTO DEL PAIS', 'RESTO DEL PAIS', 'RESTO DEL PAIS', 'RESTO DEL PAIS', 'RESTO DEL PAIS','RESTO DEL PAIS','RESTO DEL PAIS'],\n",
    "    values=[518516,812515,147041,296713,289308,251067,10689,25572,34648,27224,37466,19095,31341,4153\n",
    "            ,88645,9326,103100,35215,16955,36055,4063,13491,18524,2954],domain=dict(column=1),\n",
    "            marker=dict(colorscale='Tealgrn')))\n",
    "    \n",
    "    \n",
    "\n",
    "    \n",
    "fig.update_layout(grid= dict(columns=2, rows=1), margin=dict(t=10, l=10, r=10, b=10), template=template)\n",
    "\n",
    "fig.write_html('PIES.html', auto_open=True)\n"
   ]
  },
  {
   "cell_type": "code",
   "execution_count": null,
   "metadata": {},
   "outputs": [],
   "source": []
  }
 ],
 "metadata": {
  "kernelspec": {
   "display_name": "Python 3",
   "language": "python",
   "name": "python3"
  },
  "language_info": {
   "codemirror_mode": {
    "name": "ipython",
    "version": 3
   },
   "file_extension": ".py",
   "mimetype": "text/x-python",
   "name": "python",
   "nbconvert_exporter": "python",
   "pygments_lexer": "ipython3",
   "version": "3.8.5"
  }
 },
 "nbformat": 4,
 "nbformat_minor": 4
}
