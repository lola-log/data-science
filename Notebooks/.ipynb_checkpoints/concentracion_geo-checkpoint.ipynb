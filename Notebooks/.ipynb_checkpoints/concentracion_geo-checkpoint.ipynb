{
 "cells": [
  {
   "cell_type": "code",
   "execution_count": 147,
   "metadata": {},
   "outputs": [],
   "source": [
    "import numpy as np\n",
    "import pandas as pd\n",
    "import matplotlib.pylab as plt\n",
    "import seaborn as sns\n",
    "import plotly.graph_objects as go\n",
    "import plotly.express as px\n",
    "import math\n",
    "from pyspark.sql.types import IntegerType\n",
    "from plotly import tools\n",
    "import plotly.offline as py\n",
    "import plotly.io as pio\n",
    "%matplotlib inline"
   ]
  },
  {
   "cell_type": "code",
   "execution_count": 118,
   "metadata": {},
   "outputs": [],
   "source": [
    "df_geo= pd.read_csv('../datasets/RKG-clientes-geo.csv')"
   ]
  },
  {
   "cell_type": "code",
   "execution_count": 119,
   "metadata": {},
   "outputs": [],
   "source": [
    "df_geo = df_geo.rename(columns = {'2020': 'TOTAL_VENTAS'}, inplace = False)"
   ]
  },
  {
   "cell_type": "code",
   "execution_count": 120,
   "metadata": {},
   "outputs": [],
   "source": [
    "df_geo['NEW'] = df_geo['TOTAL_PROV'].apply(str)"
   ]
  },
  {
   "cell_type": "markdown",
   "metadata": {},
   "source": [
    "**MAPA REGIÓNES**"
   ]
  },
  {
   "cell_type": "code",
   "execution_count": 152,
   "metadata": {},
   "outputs": [],
   "source": [
    "pio.templates.default = \"plotly_white\"\n",
    "\n",
    "fig = go.Figure(data=go.Scattergeo(\n",
    "        locationmode = 'ISO-3',\n",
    "        lon = df_geo['LON'],\n",
    "        lat = df_geo['LAT'],\n",
    "        text = df_geo['PROVINCIA'] + \" \" + df_geo['NEW'],\n",
    "        mode = 'markers',\n",
    "        marker = dict(\n",
    "            size = 35,\n",
    "            opacity = 0.6,\n",
    "            reversescale = False,\n",
    "            autocolorscale = False,\n",
    "            symbol = 'circle',\n",
    "            line = dict(\n",
    "                width=1,\n",
    "                color='rgba(102, 102, 102)'\n",
    "            ),\n",
    "            colorscale = 'Blx',\n",
    "            cmin = 0,\n",
    "            color = df_geo['TOTAL_PROV'],\n",
    "            cmax = 400000,\n",
    "            colorbar_title=\"Consentración geográfica de ventas\"\n",
    "        )))\n",
    "\n",
    "fig.update_layout(\n",
    "        title = 'Concentración',\n",
    "        geo = dict(\n",
    "            scope='south america',\n",
    "            #projection_type='albers usa',\n",
    "            showland = True,\n",
    "            landcolor = \"rgb(229,236,246)\",\n",
    "            subunitcolor = 'rgba(51, 102, 0)',\n",
    "            countrycolor = \"rgb(156,69,77)\",\n",
    "            countrywidth = 0.5,\n",
    "            subunitwidth = 0.5,\n",
    "            bgcolor =  \"rgb(120,209,196)\",\n",
    "            showsubunits = True\n",
    "        ),\n",
    "    )\n",
    "fig.write_html('first_figure.html', auto_open=True)\n"
   ]
  },
  {
   "cell_type": "markdown",
   "metadata": {},
   "source": [
    "**CLIENTES**"
   ]
  },
  {
   "cell_type": "code",
   "execution_count": 75,
   "metadata": {},
   "outputs": [],
   "source": [
    "df_clientes= pd.read_csv('../datasets/RKG-clientes-data.csv')"
   ]
  },
  {
   "cell_type": "code",
   "execution_count": 112,
   "metadata": {},
   "outputs": [],
   "source": [
    "for template in [\"plotly_dark\"]:\n",
    "    fig = px.histogram(df_clientes, x= \"CLIENTE\",y=\"TOTAL_VEN\", color=\"PROVINCIA\")\n",
    "    fig.update_layout(template=template)\n",
    "    fig.write_html('first_figure.html', auto_open=True)"
   ]
  }
 ],
 "metadata": {
  "kernelspec": {
   "display_name": "Python 3",
   "language": "python",
   "name": "python3"
  },
  "language_info": {
   "codemirror_mode": {
    "name": "ipython",
    "version": 3
   },
   "file_extension": ".py",
   "mimetype": "text/x-python",
   "name": "python",
   "nbconvert_exporter": "python",
   "pygments_lexer": "ipython3",
   "version": "3.8.5"
  }
 },
 "nbformat": 4,
 "nbformat_minor": 4
}
