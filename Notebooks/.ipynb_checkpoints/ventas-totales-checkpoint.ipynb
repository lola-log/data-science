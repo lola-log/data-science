{
 "cells": [
  {
   "cell_type": "code",
   "execution_count": 1,
   "metadata": {},
   "outputs": [],
   "source": [
    "import numpy as np\n",
    "import pandas as pd\n",
    "import matplotlib.pylab as plt\n",
    "import seaborn as sns\n",
    "%matplotlib inline"
   ]
  },
  {
   "cell_type": "code",
   "execution_count": 2,
   "metadata": {},
   "outputs": [],
   "source": [
    "df = pd.read_csv('../datasets/ventas_totales.csv')"
   ]
  },
  {
   "cell_type": "code",
   "execution_count": 3,
   "metadata": {},
   "outputs": [
    {
     "name": "stdout",
     "output_type": "stream",
     "text": [
      "(25, 8)\n"
     ]
    },
    {
     "data": {
      "text/html": [
       "<div>\n",
       "<style scoped>\n",
       "    .dataframe tbody tr th:only-of-type {\n",
       "        vertical-align: middle;\n",
       "    }\n",
       "\n",
       "    .dataframe tbody tr th {\n",
       "        vertical-align: top;\n",
       "    }\n",
       "\n",
       "    .dataframe thead th {\n",
       "        text-align: right;\n",
       "    }\n",
       "</style>\n",
       "<table border=\"1\" class=\"dataframe\">\n",
       "  <thead>\n",
       "    <tr style=\"text-align: right;\">\n",
       "      <th></th>\n",
       "      <th>PROVINCIA</th>\n",
       "      <th>2019</th>\n",
       "      <th>2020</th>\n",
       "      <th>Share per region 2019</th>\n",
       "      <th>Share per region 2020</th>\n",
       "      <th>Avg Quarterly</th>\n",
       "      <th>2020 forcasted</th>\n",
       "      <th>% Caida en ventas</th>\n",
       "    </tr>\n",
       "  </thead>\n",
       "  <tbody>\n",
       "    <tr>\n",
       "      <th>0</th>\n",
       "      <td>BUENOS AIRES</td>\n",
       "      <td>1.373.950</td>\n",
       "      <td>640.746</td>\n",
       "      <td>47,76%</td>\n",
       "      <td>41,95%</td>\n",
       "      <td>343487,5</td>\n",
       "      <td>984.234</td>\n",
       "      <td>28,36%</td>\n",
       "    </tr>\n",
       "    <tr>\n",
       "      <th>1</th>\n",
       "      <td>C.A.B.A.</td>\n",
       "      <td>147.041</td>\n",
       "      <td>63.390</td>\n",
       "      <td>5,11%</td>\n",
       "      <td>4,15%</td>\n",
       "      <td>36760,25</td>\n",
       "      <td>100.150</td>\n",
       "      <td>31,89%</td>\n",
       "    </tr>\n",
       "    <tr>\n",
       "      <th>2</th>\n",
       "      <td>CATAMARCA</td>\n",
       "      <td>10.689</td>\n",
       "      <td>5.670</td>\n",
       "      <td>0,37%</td>\n",
       "      <td>0,37%</td>\n",
       "      <td>2672,25</td>\n",
       "      <td>8.342</td>\n",
       "      <td>21,95%</td>\n",
       "    </tr>\n",
       "  </tbody>\n",
       "</table>\n",
       "</div>"
      ],
      "text/plain": [
       "      PROVINCIA          2019        2020 Share per region 2019  \\\n",
       "0  BUENOS AIRES    1.373.950     640.746                 47,76%   \n",
       "1      C.A.B.A.      147.041      63.390                  5,11%   \n",
       "2     CATAMARCA       10.689       5.670                  0,37%   \n",
       "\n",
       "  Share per region 2020 Avg Quarterly  2020 forcasted % Caida en ventas  \n",
       "0                41,95%       343487,5       984.234             28,36%  \n",
       "1                 4,15%       36760,25       100.150             31,89%  \n",
       "2                 0,37%        2672,25         8.342             21,95%  "
      ]
     },
     "execution_count": 3,
     "metadata": {},
     "output_type": "execute_result"
    }
   ],
   "source": [
    "print(df.shape)\n",
    "df.head(3)"
   ]
  },
  {
   "cell_type": "code",
   "execution_count": null,
   "metadata": {},
   "outputs": [],
   "source": []
  }
 ],
 "metadata": {
  "kernelspec": {
   "display_name": "Python 3",
   "language": "python",
   "name": "python3"
  },
  "language_info": {
   "codemirror_mode": {
    "name": "ipython",
    "version": 3
   },
   "file_extension": ".py",
   "mimetype": "text/x-python",
   "name": "python",
   "nbconvert_exporter": "python",
   "pygments_lexer": "ipython3",
   "version": "3.8.5"
  }
 },
 "nbformat": 4,
 "nbformat_minor": 4
}
