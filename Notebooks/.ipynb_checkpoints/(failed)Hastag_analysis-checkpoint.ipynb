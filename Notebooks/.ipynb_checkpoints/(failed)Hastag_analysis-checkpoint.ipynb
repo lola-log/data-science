{
 "cells": [
  {
   "cell_type": "code",
   "execution_count": 1,
   "metadata": {},
   "outputs": [],
   "source": [
    "_string = [\"hierro\"]"
   ]
  },
  {
   "cell_type": "code",
   "execution_count": 2,
   "metadata": {},
   "outputs": [],
   "source": [
    "\"\"\"\n",
    "Extracts hashtags from a string and if a user hasn't included a space between hashtags, this will also unpack them\n",
    "\"\"\"\n",
    "\n",
    "def getHashtag(self,_string):\n",
    "\n",
    "  #splits string into list and appends unique hashtags into a new list\n",
    "  hashtags = [hashtag for hashtag in set([token for token in _string.split() if token.startswith(\"#\")])]\n",
    "\n",
    "  #if there are hashtags in the string we process them further..\n",
    "  if len(hashtags) > 0:\n",
    "\n",
    "      #this will break up any hashtags that haven't been seperated by a space\n",
    "      hashtags_seperated = [i for i in ''.join(hashtags).strip().split('#') if len(i) > 0]\n",
    "\n",
    "      #this will remove any punctuation\n",
    "      hashtags_clean = [hashtag.translate(str.maketrans('', '', string.punctuation)) for hashtag in hashtags_seperated]\n",
    "\n",
    "      #returns unique, cleaned hashtags without the '#'\n",
    "      return list(set(hashtags_clean))\n",
    "\n",
    "  else:\n",
    "      return np.nan"
   ]
  },
  {
   "cell_type": "code",
   "execution_count": null,
   "metadata": {},
   "outputs": [],
   "source": []
  }
 ],
 "metadata": {
  "kernelspec": {
   "display_name": "Python 3",
   "language": "python",
   "name": "python3"
  },
  "language_info": {
   "codemirror_mode": {
    "name": "ipython",
    "version": 3
   },
   "file_extension": ".py",
   "mimetype": "text/x-python",
   "name": "python",
   "nbconvert_exporter": "python",
   "pygments_lexer": "ipython3",
   "version": "3.8.3"
  }
 },
 "nbformat": 4,
 "nbformat_minor": 4
}
